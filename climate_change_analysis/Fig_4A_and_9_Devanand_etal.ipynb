{
 "cells": [
  {
   "cell_type": "code",
   "execution_count": 1,
   "metadata": {},
   "outputs": [],
   "source": [
    "# Only runs with py3.9_pro\n"
   ]
  },
  {
   "cell_type": "code",
   "execution_count": 2,
   "metadata": {},
   "outputs": [],
   "source": [
    "import numpy as np\n",
    "import shapefile\n",
    "from matplotlib.path import Path\n",
    "from netCDF4 import Dataset\n",
    "import matplotlib.pyplot as plt\n",
    "\n",
    "import pandas as pd\n",
    "import scipy.stats as sp\n",
    "import calendar\n",
    "\n",
    "# % %matplotlib inline\n",
    "\n",
    "import os\n",
    "import glob\n",
    "from tqdm import tqdm\n",
    "import seaborn as sns\n",
    "import pickle\n",
    "\n",
    "import xarray as xr"
   ]
  },
  {
   "cell_type": "code",
   "execution_count": 3,
   "metadata": {},
   "outputs": [],
   "source": [
    "from matplotlib.ticker import (MultipleLocator, FormatStrFormatter,\n",
    "                               AutoMinorLocator)"
   ]
  },
  {
   "cell_type": "code",
   "execution_count": 4,
   "metadata": {},
   "outputs": [],
   "source": [
    "cDir = os.getcwd()\n",
    "pltDir = os.path.join(os.path.expanduser(cDir), 'Figs_review_paper') + os.sep\n",
    "\n",
    "if not os.path.exists(pltDir):\n",
    "    os.makedirs(pltDir)"
   ]
  },
  {
   "cell_type": "code",
   "execution_count": 5,
   "metadata": {},
   "outputs": [],
   "source": [
    "import xarray as xr\n",
    "from glob import glob\n",
    "\n",
    "def get_st_lt_year_cm5(exp_id = 'historical', len_year = 500):\n",
    "    \n",
    "    \n",
    "    if exp_id in ['historical', 'historicalGHG', 'historicalNat']:\n",
    "        syear = 1900\n",
    "        lyear = 2005\n",
    "    elif (exp_id == 'piControl') & (len_year == 500):\n",
    "        syear = 1700\n",
    "        lyear = 2199\n",
    "    elif (exp_id == 'piControl') & (len_year == 200):\n",
    "        syear = 1700\n",
    "        lyear = 1899        \n",
    "    elif exp_id in ['rcp26', 'rcp45', 'rcp60', 'rcp85']:\n",
    "        syear = 2006\n",
    "        lyear = 2100\n",
    "    else:\n",
    "        print(\"Not valid exp_id is entered\")\n",
    "        syear = None\n",
    "        lyear = None\n",
    "        \n",
    "    return syear, lyear\n",
    "\n",
    "def get_st_lt_year_cm6(exp_id = 'historical', len_year = 500):\n",
    "    \n",
    "    \n",
    "    if exp_id in ['hist-GHG', 'hist-aer', 'hist-nat', 'hist-stratO3', 'historical']:\n",
    "        syear = 1900\n",
    "        lyear = 2014\n",
    "    elif (exp_id == 'piControl') & (len_year == 500):\n",
    "        syear = 1700\n",
    "        lyear = 2199\n",
    "    elif (exp_id == 'piControl') & (len_year == 200):\n",
    "        syear = 1700\n",
    "        lyear = 1899        \n",
    "    elif exp_id in ['ssp126', 'ssp245', 'ssp370', 'ssp585']:\n",
    "        syear = 2015\n",
    "        lyear = 2100\n",
    "    else:\n",
    "        print(\"Not valid exp_id is entered\")\n",
    "        syear = None\n",
    "        lyear = None\n",
    "        \n",
    "    return syear, lyear\n",
    "\n",
    "\n",
    "def get_st_lt_year_cmip(ctype='CMIP5', exp_id = 'historical', len_year = 500):\n",
    "    \n",
    "    if ctype=='CMIP5':\n",
    "        yr_st, yr_lt = get_st_lt_year_cm5(exp_id = exp_id, len_year = len_year)\n",
    "        \n",
    "    if ctype=='CMIP6':\n",
    "        yr_st, yr_lt = get_st_lt_year_cm6(exp_id = exp_id, len_year = len_year)\n",
    "        \n",
    "    return yr_st, yr_lt\n",
    "    \n",
    "    \n",
    "def create_df_from_CMIP_regAvg_netCDF_files(ctype='CMIP5', exp_id='historical', piLength = 500,\n",
    "                     rDir=\"../../fracMask_modMDBncFiles\"):\n",
    "    \n",
    "    st_year, lt_year = get_st_lt_year_cmip(ctype=ctype, exp_id = exp_id, len_year = piLength)\n",
    "    \n",
    "    dir_in = os.path.join(rDir, ctype, exp_id)+os.sep\n",
    "    \n",
    "    if (ctype == 'CMIP6') & ('hist-' in exp_id):\n",
    "        scenarioRun = str.split(exp_id, sep=\"-\")[0]+str.upper(str.split(exp_id, sep=\"-\")[-1])\n",
    "        dir_in = os.path.join(rDir, ctype, scenarioRun)+os.sep\n",
    "\n",
    "#     print(dir_in)\n",
    "    \n",
    "    print(ctype, exp_id)\n",
    "    \n",
    "    flist = sorted([*glob(dir_in+\"*_{0}_{1}.nc\".format(str(st_year), str(lt_year)))], key=lambda s: s.lower())\n",
    "    model_list = [os.path.split(ff)[-1].split(\"_\")[1] for ff in flist]\n",
    "    \n",
    "        # Start generating modellist and filelist for historical runs\n",
    "    \n",
    "    \n",
    "    print(st_year, lt_year)\n",
    "    \n",
    "    date_range = pd.date_range(start=str(st_year)+'-01',end = str(lt_year)+'-12', freq ='MS')\n",
    "\n",
    "    # To store regAVG data from all the models in a single dataframe\n",
    "    df_regAvg_mthly = pd.DataFrame(data = None, index= date_range, dtype=float)\n",
    "    \n",
    "    nf = len(flist)\n",
    "    \n",
    "    print(\"There are {0:3d} no of files in '{1}' scenario\".format(nf, exp_id))\n",
    "    \n",
    "    for i, ff in enumerate(flist):\n",
    "        \n",
    "        model_name = os.path.split(ff)[-1].split(\"_\")[1]\n",
    "        \n",
    "        tmp_dat = xr.open_dataset(ff)\n",
    "        \n",
    "        vname = list(tmp_dat.keys())[0]\n",
    "        \n",
    "        df_regAvg_mthly[model_name] = tmp_dat[vname].values\n",
    "        \n",
    "        del model_name, tmp_dat\n",
    "        \n",
    "    return df_regAvg_mthly\n",
    "\n",
    "\n",
    "\n",
    "def create_df_from_OBS_regAvg_netCDF_files(ctype='OBS',\n",
    "                     rDir=\"../../fracMask_modMDBncFiles\"):\n",
    "    \n",
    "    dir_in_obs = os.path.join(rDir, ctype)+os.sep\n",
    "    \n",
    "    flist_obs = sorted([*glob(dir_in_obs+\"*.nc\")], key=lambda s: s.lower())\n",
    "    \n",
    "    for i, ff in enumerate(flist_obs):\n",
    "        tmp_obs = xr.open_dataset(ff)\n",
    "        vname = list(tmp_obs.keys())[0]\n",
    "        \n",
    "#         print(vname)\n",
    "#         syr = tmp_obs.time.dt.year.values[0]\n",
    "#         lyr = tmp_obs.time.dt.year.values[-1]\n",
    "#         smo = tmp_obs.time.dt.month.values[0]\n",
    "#         lmo = tmp_obs.time.dt.month.values[-1]\n",
    "        \n",
    "        st_time = tmp_obs.time.values[0].astype(str)[0:7]\n",
    "        lt_time = tmp_obs.time.values[-1].astype(str)[0:7]\n",
    "        \n",
    "\n",
    "        date_range = pd.date_range(start=st_time, end = lt_time, freq ='MS')\n",
    "        obs_name = os.path.split(ff)[-1].split(\"_\")[1]\n",
    "        \n",
    "        print(obs_name, st_time, lt_time)\n",
    "        \n",
    "        df_regAvg_mthly = pd.DataFrame(data = None, index= date_range, dtype=float)\n",
    "        \n",
    "        df_regAvg_mthly[obs_name] = tmp_obs[vname].values\n",
    "        \n",
    "        if i == 0:\n",
    "            df_out = df_regAvg_mthly\n",
    "        else:\n",
    "            df_out = pd.concat([df_out, df_regAvg_mthly], axis=1)\n",
    "            \n",
    "        del df_regAvg_mthly, date_range, obs_name, st_time, lt_time\n",
    "       \n",
    "    return df_out\n",
    "        "
   ]
  },
  {
   "cell_type": "code",
   "execution_count": 6,
   "metadata": {},
   "outputs": [],
   "source": [
    "rDir_cmp=\"../../fracMask_modMDBncFiles/\""
   ]
  },
  {
   "cell_type": "code",
   "execution_count": null,
   "metadata": {},
   "outputs": [],
   "source": []
  },
  {
   "cell_type": "code",
   "execution_count": 7,
   "metadata": {},
   "outputs": [
    {
     "name": "stdout",
     "output_type": "stream",
     "text": [
      "AGCD-V1-masked 1900-01 2019-12\n",
      "AGCD-V1 1900-01 2019-12\n",
      "AGCD-V2-masked 1900-01 2021-12\n",
      "AGCD-V2 1900-01 2021-12\n",
      "CRU-TSv405 1901-01 2020-12\n",
      "SILO 1889-01 2021-12\n"
     ]
    }
   ],
   "source": [
    "df_obs_all = create_df_from_OBS_regAvg_netCDF_files(ctype='OBS', rDir = rDir_cmp)"
   ]
  },
  {
   "cell_type": "code",
   "execution_count": 8,
   "metadata": {},
   "outputs": [],
   "source": [
    "awapMB = df_obs_all[['AGCD-V2-masked']].dropna().copy()\n"
   ]
  },
  {
   "cell_type": "code",
   "execution_count": 9,
   "metadata": {},
   "outputs": [],
   "source": [
    "# awapMB = awapMB.rename({'AGCD-V2': 'awap'})\n",
    "\n",
    "awapMB.columns= ['awap']"
   ]
  },
  {
   "cell_type": "code",
   "execution_count": 10,
   "metadata": {},
   "outputs": [
    {
     "data": {
      "text/html": [
       "<div>\n",
       "<style scoped>\n",
       "    .dataframe tbody tr th:only-of-type {\n",
       "        vertical-align: middle;\n",
       "    }\n",
       "\n",
       "    .dataframe tbody tr th {\n",
       "        vertical-align: top;\n",
       "    }\n",
       "\n",
       "    .dataframe thead th {\n",
       "        text-align: right;\n",
       "    }\n",
       "</style>\n",
       "<table border=\"1\" class=\"dataframe\">\n",
       "  <thead>\n",
       "    <tr style=\"text-align: right;\">\n",
       "      <th></th>\n",
       "      <th>awap</th>\n",
       "    </tr>\n",
       "  </thead>\n",
       "  <tbody>\n",
       "    <tr>\n",
       "      <th>1900-01-01</th>\n",
       "      <td>44.426015</td>\n",
       "    </tr>\n",
       "    <tr>\n",
       "      <th>1900-02-01</th>\n",
       "      <td>19.311703</td>\n",
       "    </tr>\n",
       "    <tr>\n",
       "      <th>1900-03-01</th>\n",
       "      <td>58.051605</td>\n",
       "    </tr>\n",
       "    <tr>\n",
       "      <th>1900-04-01</th>\n",
       "      <td>32.950381</td>\n",
       "    </tr>\n",
       "    <tr>\n",
       "      <th>1900-05-01</th>\n",
       "      <td>49.296883</td>\n",
       "    </tr>\n",
       "    <tr>\n",
       "      <th>...</th>\n",
       "      <td>...</td>\n",
       "    </tr>\n",
       "    <tr>\n",
       "      <th>2021-08-01</th>\n",
       "      <td>19.584619</td>\n",
       "    </tr>\n",
       "    <tr>\n",
       "      <th>2021-09-01</th>\n",
       "      <td>35.510429</td>\n",
       "    </tr>\n",
       "    <tr>\n",
       "      <th>2021-10-01</th>\n",
       "      <td>34.891337</td>\n",
       "    </tr>\n",
       "    <tr>\n",
       "      <th>2021-11-01</th>\n",
       "      <td>130.483524</td>\n",
       "    </tr>\n",
       "    <tr>\n",
       "      <th>2021-12-01</th>\n",
       "      <td>50.457669</td>\n",
       "    </tr>\n",
       "  </tbody>\n",
       "</table>\n",
       "<p>1464 rows × 1 columns</p>\n",
       "</div>"
      ],
      "text/plain": [
       "                  awap\n",
       "1900-01-01   44.426015\n",
       "1900-02-01   19.311703\n",
       "1900-03-01   58.051605\n",
       "1900-04-01   32.950381\n",
       "1900-05-01   49.296883\n",
       "...                ...\n",
       "2021-08-01   19.584619\n",
       "2021-09-01   35.510429\n",
       "2021-10-01   34.891337\n",
       "2021-11-01  130.483524\n",
       "2021-12-01   50.457669\n",
       "\n",
       "[1464 rows x 1 columns]"
      ]
     },
     "execution_count": 10,
     "metadata": {},
     "output_type": "execute_result"
    }
   ],
   "source": [
    "awapMB"
   ]
  },
  {
   "cell_type": "code",
   "execution_count": null,
   "metadata": {},
   "outputs": [],
   "source": []
  },
  {
   "cell_type": "code",
   "execution_count": 11,
   "metadata": {},
   "outputs": [
    {
     "name": "stdout",
     "output_type": "stream",
     "text": [
      "CMIP6 historical\n",
      "1900 2014\n",
      "There are  52 no of files in 'historical' scenario\n",
      "CMIP6 piControl\n",
      "1700 2199\n",
      "There are  38 no of files in 'piControl' scenario\n",
      "CMIP6 piControl\n",
      "1700 1899\n",
      "There are  47 no of files in 'piControl' scenario\n"
     ]
    }
   ],
   "source": [
    "histMB = create_df_from_CMIP_regAvg_netCDF_files(ctype='CMIP6', exp_id='historical', piLength = 500, rDir = rDir_cmp)\n",
    "\n",
    "pi5MB = create_df_from_CMIP_regAvg_netCDF_files(ctype='CMIP6', exp_id='piControl', piLength = 500, rDir = rDir_cmp)\n",
    "pi2MB = create_df_from_CMIP_regAvg_netCDF_files(ctype='CMIP6', exp_id='piControl', piLength = 200, rDir = rDir_cmp)"
   ]
  },
  {
   "cell_type": "code",
   "execution_count": 12,
   "metadata": {},
   "outputs": [
    {
     "name": "stdout",
     "output_type": "stream",
     "text": [
      "CMIP6 ssp585\n",
      "2015 2100\n",
      "There are  33 no of files in 'ssp585' scenario\n",
      "CMIP6 ssp370\n",
      "2015 2100\n",
      "There are  28 no of files in 'ssp370' scenario\n",
      "CMIP6 ssp245\n",
      "2015 2100\n",
      "There are  31 no of files in 'ssp245' scenario\n",
      "CMIP6 ssp126\n",
      "2015 2100\n",
      "There are  31 no of files in 'ssp126' scenario\n"
     ]
    }
   ],
   "source": [
    "ssp585MB = create_df_from_CMIP_regAvg_netCDF_files(ctype='CMIP6', exp_id='ssp585', piLength = 500, rDir = rDir_cmp)\n",
    "ssp370MB = create_df_from_CMIP_regAvg_netCDF_files(ctype='CMIP6', exp_id='ssp370', piLength = 500, rDir = rDir_cmp)\n",
    "ssp245MB = create_df_from_CMIP_regAvg_netCDF_files(ctype='CMIP6', exp_id='ssp245', piLength = 500, rDir = rDir_cmp)\n",
    "ssp126MB = create_df_from_CMIP_regAvg_netCDF_files(ctype='CMIP6', exp_id='ssp126', piLength = 500, rDir = rDir_cmp)"
   ]
  },
  {
   "cell_type": "code",
   "execution_count": null,
   "metadata": {},
   "outputs": [],
   "source": []
  },
  {
   "cell_type": "code",
   "execution_count": 13,
   "metadata": {},
   "outputs": [],
   "source": [
    "# Find the avaliable models in each scenario (Any one of the region data can be used as they all have similar no of models)\n",
    "\n",
    "mod_hist = histMB.columns\n",
    "\n",
    "mod_ssp585 = ssp585MB.columns\n",
    "mod_ssp370 = ssp370MB.columns\n",
    "mod_ssp245 = ssp245MB.columns\n",
    "mod_ssp126 = ssp126MB.columns\n",
    "\n",
    "mod_pi5 = pi5MB.columns\n",
    "mod_pi2 = pi2MB.columns\n",
    "\n",
    "mod_len = [len(mod_hist), len(mod_ssp585), len(mod_ssp370), len(mod_ssp245), len(mod_ssp126), len(mod_pi5), len(mod_pi2)]"
   ]
  },
  {
   "cell_type": "code",
   "execution_count": null,
   "metadata": {},
   "outputs": [],
   "source": []
  },
  {
   "cell_type": "code",
   "execution_count": 14,
   "metadata": {},
   "outputs": [
    {
     "name": "stdout",
     "output_type": "stream",
     "text": [
      "Length of models in Hist; SSP585; SSP370; SSP245; SSP126; piCTL500 and piCTL200 are as below \n",
      " *********\n",
      "['52', '33', '28', '31', '31', '38', '47']\n"
     ]
    }
   ],
   "source": [
    "mod_len_str = [str(i) for i in mod_len]\n",
    "print(\"Length of models in Hist; SSP585; SSP370; SSP245; SSP126; piCTL500 and piCTL200 are as below \\n *********\")\n",
    "print(mod_len_str)"
   ]
  },
  {
   "cell_type": "code",
   "execution_count": 15,
   "metadata": {},
   "outputs": [],
   "source": [
    "# Comnbined all the models and find the number of models unique under CMIP5 runs\n",
    "model_uq = np.unique(list(mod_hist)+list(mod_ssp585)+list(mod_ssp370)+list(mod_ssp245)+list(mod_ssp126)+list(mod_pi2))\n",
    "\n",
    "sorted_model_uq = sorted(np.unique(model_uq), key=lambda s: s.lower())"
   ]
  },
  {
   "cell_type": "code",
   "execution_count": null,
   "metadata": {},
   "outputs": [],
   "source": []
  },
  {
   "cell_type": "code",
   "execution_count": 16,
   "metadata": {},
   "outputs": [],
   "source": [
    "model_all = {'piControl200':mod_pi2, 'piControl500':mod_pi5, \n",
    "             'Historical-All': mod_hist,  \n",
    "             'SSP5.85':mod_ssp585, 'SSP3.70':mod_ssp370, 'SSP2.45':mod_ssp245, 'SSP1.26':mod_ssp126}"
   ]
  },
  {
   "cell_type": "code",
   "execution_count": null,
   "metadata": {},
   "outputs": [],
   "source": []
  },
  {
   "cell_type": "code",
   "execution_count": 17,
   "metadata": {},
   "outputs": [],
   "source": [
    "cmp6_models = pd.DataFrame(index=sorted_model_uq, columns=list(model_all.keys()))\n",
    "\n",
    "for rtype in list(model_all.keys()):\n",
    "    \n",
    "    mod_tmp = model_all[rtype]\n",
    "#     print(mod_tmp)\n",
    "    \n",
    "    cmp6_models.loc[mod_tmp, rtype] = 1"
   ]
  },
  {
   "cell_type": "code",
   "execution_count": 18,
   "metadata": {},
   "outputs": [
    {
     "data": {
      "text/html": [
       "<div>\n",
       "<style scoped>\n",
       "    .dataframe tbody tr th:only-of-type {\n",
       "        vertical-align: middle;\n",
       "    }\n",
       "\n",
       "    .dataframe tbody tr th {\n",
       "        vertical-align: top;\n",
       "    }\n",
       "\n",
       "    .dataframe thead th {\n",
       "        text-align: right;\n",
       "    }\n",
       "</style>\n",
       "<table border=\"1\" class=\"dataframe\">\n",
       "  <thead>\n",
       "    <tr style=\"text-align: right;\">\n",
       "      <th></th>\n",
       "      <th>piControl200</th>\n",
       "      <th>piControl500</th>\n",
       "      <th>Historical-All</th>\n",
       "      <th>SSP5.85</th>\n",
       "      <th>SSP3.70</th>\n",
       "      <th>SSP2.45</th>\n",
       "      <th>SSP1.26</th>\n",
       "    </tr>\n",
       "  </thead>\n",
       "  <tbody>\n",
       "    <tr>\n",
       "      <th>ACCESS-CM2</th>\n",
       "      <td>1</td>\n",
       "      <td>1</td>\n",
       "      <td>1</td>\n",
       "      <td>1</td>\n",
       "      <td>1</td>\n",
       "      <td>1</td>\n",
       "      <td>1</td>\n",
       "    </tr>\n",
       "    <tr>\n",
       "      <th>ACCESS-ESM1-5</th>\n",
       "      <td>1</td>\n",
       "      <td>1</td>\n",
       "      <td>1</td>\n",
       "      <td>1</td>\n",
       "      <td>1</td>\n",
       "      <td>1</td>\n",
       "      <td>1</td>\n",
       "    </tr>\n",
       "    <tr>\n",
       "      <th>AWI-CM-1-1-MR</th>\n",
       "      <td>1</td>\n",
       "      <td>1</td>\n",
       "      <td>1</td>\n",
       "      <td>1</td>\n",
       "      <td>1</td>\n",
       "      <td>1</td>\n",
       "      <td>1</td>\n",
       "    </tr>\n",
       "    <tr>\n",
       "      <th>AWI-ESM-1-1-LR</th>\n",
       "      <td>NaN</td>\n",
       "      <td>NaN</td>\n",
       "      <td>1</td>\n",
       "      <td>NaN</td>\n",
       "      <td>NaN</td>\n",
       "      <td>NaN</td>\n",
       "      <td>NaN</td>\n",
       "    </tr>\n",
       "    <tr>\n",
       "      <th>BCC-CSM2-MR</th>\n",
       "      <td>1</td>\n",
       "      <td>1</td>\n",
       "      <td>1</td>\n",
       "      <td>1</td>\n",
       "      <td>1</td>\n",
       "      <td>1</td>\n",
       "      <td>1</td>\n",
       "    </tr>\n",
       "    <tr>\n",
       "      <th>BCC-ESM1</th>\n",
       "      <td>1</td>\n",
       "      <td>NaN</td>\n",
       "      <td>1</td>\n",
       "      <td>NaN</td>\n",
       "      <td>NaN</td>\n",
       "      <td>NaN</td>\n",
       "      <td>NaN</td>\n",
       "    </tr>\n",
       "    <tr>\n",
       "      <th>CAMS-CSM1-0</th>\n",
       "      <td>1</td>\n",
       "      <td>1</td>\n",
       "      <td>1</td>\n",
       "      <td>NaN</td>\n",
       "      <td>NaN</td>\n",
       "      <td>NaN</td>\n",
       "      <td>NaN</td>\n",
       "    </tr>\n",
       "    <tr>\n",
       "      <th>CanESM5</th>\n",
       "      <td>1</td>\n",
       "      <td>1</td>\n",
       "      <td>1</td>\n",
       "      <td>1</td>\n",
       "      <td>1</td>\n",
       "      <td>1</td>\n",
       "      <td>1</td>\n",
       "    </tr>\n",
       "    <tr>\n",
       "      <th>CAS-ESM2-0</th>\n",
       "      <td>1</td>\n",
       "      <td>1</td>\n",
       "      <td>1</td>\n",
       "      <td>1</td>\n",
       "      <td>1</td>\n",
       "      <td>1</td>\n",
       "      <td>1</td>\n",
       "    </tr>\n",
       "    <tr>\n",
       "      <th>CESM2</th>\n",
       "      <td>1</td>\n",
       "      <td>1</td>\n",
       "      <td>1</td>\n",
       "      <td>1</td>\n",
       "      <td>NaN</td>\n",
       "      <td>NaN</td>\n",
       "      <td>1</td>\n",
       "    </tr>\n",
       "    <tr>\n",
       "      <th>CESM2-FV2</th>\n",
       "      <td>1</td>\n",
       "      <td>1</td>\n",
       "      <td>1</td>\n",
       "      <td>NaN</td>\n",
       "      <td>NaN</td>\n",
       "      <td>NaN</td>\n",
       "      <td>NaN</td>\n",
       "    </tr>\n",
       "    <tr>\n",
       "      <th>CESM2-WACCM</th>\n",
       "      <td>1</td>\n",
       "      <td>NaN</td>\n",
       "      <td>1</td>\n",
       "      <td>1</td>\n",
       "      <td>1</td>\n",
       "      <td>1</td>\n",
       "      <td>1</td>\n",
       "    </tr>\n",
       "    <tr>\n",
       "      <th>CESM2-WACCM-FV2</th>\n",
       "      <td>1</td>\n",
       "      <td>1</td>\n",
       "      <td>1</td>\n",
       "      <td>NaN</td>\n",
       "      <td>NaN</td>\n",
       "      <td>NaN</td>\n",
       "      <td>NaN</td>\n",
       "    </tr>\n",
       "    <tr>\n",
       "      <th>CIESM</th>\n",
       "      <td>1</td>\n",
       "      <td>1</td>\n",
       "      <td>1</td>\n",
       "      <td>1</td>\n",
       "      <td>NaN</td>\n",
       "      <td>1</td>\n",
       "      <td>1</td>\n",
       "    </tr>\n",
       "    <tr>\n",
       "      <th>CMCC-CM2-HR4</th>\n",
       "      <td>NaN</td>\n",
       "      <td>NaN</td>\n",
       "      <td>1</td>\n",
       "      <td>NaN</td>\n",
       "      <td>NaN</td>\n",
       "      <td>NaN</td>\n",
       "      <td>NaN</td>\n",
       "    </tr>\n",
       "    <tr>\n",
       "      <th>CMCC-CM2-SR5</th>\n",
       "      <td>1</td>\n",
       "      <td>1</td>\n",
       "      <td>1</td>\n",
       "      <td>1</td>\n",
       "      <td>1</td>\n",
       "      <td>1</td>\n",
       "      <td>1</td>\n",
       "    </tr>\n",
       "    <tr>\n",
       "      <th>CMCC-ESM2</th>\n",
       "      <td>1</td>\n",
       "      <td>1</td>\n",
       "      <td>1</td>\n",
       "      <td>1</td>\n",
       "      <td>1</td>\n",
       "      <td>1</td>\n",
       "      <td>1</td>\n",
       "    </tr>\n",
       "    <tr>\n",
       "      <th>E3SM-1-0</th>\n",
       "      <td>1</td>\n",
       "      <td>1</td>\n",
       "      <td>1</td>\n",
       "      <td>NaN</td>\n",
       "      <td>NaN</td>\n",
       "      <td>NaN</td>\n",
       "      <td>NaN</td>\n",
       "    </tr>\n",
       "    <tr>\n",
       "      <th>E3SM-1-1</th>\n",
       "      <td>NaN</td>\n",
       "      <td>NaN</td>\n",
       "      <td>1</td>\n",
       "      <td>1</td>\n",
       "      <td>NaN</td>\n",
       "      <td>NaN</td>\n",
       "      <td>NaN</td>\n",
       "    </tr>\n",
       "    <tr>\n",
       "      <th>E3SM-1-1-ECA</th>\n",
       "      <td>NaN</td>\n",
       "      <td>NaN</td>\n",
       "      <td>1</td>\n",
       "      <td>NaN</td>\n",
       "      <td>NaN</td>\n",
       "      <td>NaN</td>\n",
       "      <td>NaN</td>\n",
       "    </tr>\n",
       "    <tr>\n",
       "      <th>EC-Earth3</th>\n",
       "      <td>1</td>\n",
       "      <td>1</td>\n",
       "      <td>1</td>\n",
       "      <td>1</td>\n",
       "      <td>1</td>\n",
       "      <td>1</td>\n",
       "      <td>1</td>\n",
       "    </tr>\n",
       "    <tr>\n",
       "      <th>EC-Earth3-AerChem</th>\n",
       "      <td>1</td>\n",
       "      <td>NaN</td>\n",
       "      <td>1</td>\n",
       "      <td>NaN</td>\n",
       "      <td>1</td>\n",
       "      <td>NaN</td>\n",
       "      <td>NaN</td>\n",
       "    </tr>\n",
       "    <tr>\n",
       "      <th>EC-Earth3-CC</th>\n",
       "      <td>1</td>\n",
       "      <td>1</td>\n",
       "      <td>1</td>\n",
       "      <td>1</td>\n",
       "      <td>NaN</td>\n",
       "      <td>1</td>\n",
       "      <td>NaN</td>\n",
       "    </tr>\n",
       "    <tr>\n",
       "      <th>EC-Earth3-Veg</th>\n",
       "      <td>1</td>\n",
       "      <td>1</td>\n",
       "      <td>1</td>\n",
       "      <td>1</td>\n",
       "      <td>1</td>\n",
       "      <td>1</td>\n",
       "      <td>1</td>\n",
       "    </tr>\n",
       "    <tr>\n",
       "      <th>EC-Earth3-Veg-LR</th>\n",
       "      <td>1</td>\n",
       "      <td>1</td>\n",
       "      <td>1</td>\n",
       "      <td>1</td>\n",
       "      <td>1</td>\n",
       "      <td>1</td>\n",
       "      <td>1</td>\n",
       "    </tr>\n",
       "    <tr>\n",
       "      <th>FGOALS-f3-L</th>\n",
       "      <td>1</td>\n",
       "      <td>1</td>\n",
       "      <td>1</td>\n",
       "      <td>1</td>\n",
       "      <td>1</td>\n",
       "      <td>1</td>\n",
       "      <td>1</td>\n",
       "    </tr>\n",
       "    <tr>\n",
       "      <th>FGOALS-g3</th>\n",
       "      <td>1</td>\n",
       "      <td>1</td>\n",
       "      <td>1</td>\n",
       "      <td>1</td>\n",
       "      <td>1</td>\n",
       "      <td>1</td>\n",
       "      <td>1</td>\n",
       "    </tr>\n",
       "    <tr>\n",
       "      <th>FIO-ESM-2-0</th>\n",
       "      <td>NaN</td>\n",
       "      <td>NaN</td>\n",
       "      <td>1</td>\n",
       "      <td>1</td>\n",
       "      <td>NaN</td>\n",
       "      <td>1</td>\n",
       "      <td>1</td>\n",
       "    </tr>\n",
       "    <tr>\n",
       "      <th>GFDL-CM4</th>\n",
       "      <td>1</td>\n",
       "      <td>1</td>\n",
       "      <td>1</td>\n",
       "      <td>1</td>\n",
       "      <td>NaN</td>\n",
       "      <td>1</td>\n",
       "      <td>NaN</td>\n",
       "    </tr>\n",
       "    <tr>\n",
       "      <th>GFDL-ESM4</th>\n",
       "      <td>1</td>\n",
       "      <td>1</td>\n",
       "      <td>1</td>\n",
       "      <td>1</td>\n",
       "      <td>1</td>\n",
       "      <td>1</td>\n",
       "      <td>1</td>\n",
       "    </tr>\n",
       "    <tr>\n",
       "      <th>GISS-E2-1-G</th>\n",
       "      <td>1</td>\n",
       "      <td>1</td>\n",
       "      <td>1</td>\n",
       "      <td>NaN</td>\n",
       "      <td>NaN</td>\n",
       "      <td>NaN</td>\n",
       "      <td>NaN</td>\n",
       "    </tr>\n",
       "    <tr>\n",
       "      <th>GISS-E2-1-G-CC</th>\n",
       "      <td>NaN</td>\n",
       "      <td>NaN</td>\n",
       "      <td>1</td>\n",
       "      <td>NaN</td>\n",
       "      <td>NaN</td>\n",
       "      <td>NaN</td>\n",
       "      <td>NaN</td>\n",
       "    </tr>\n",
       "    <tr>\n",
       "      <th>GISS-E2-1-H</th>\n",
       "      <td>1</td>\n",
       "      <td>1</td>\n",
       "      <td>1</td>\n",
       "      <td>NaN</td>\n",
       "      <td>NaN</td>\n",
       "      <td>NaN</td>\n",
       "      <td>NaN</td>\n",
       "    </tr>\n",
       "    <tr>\n",
       "      <th>HadGEM3-GC31-LL</th>\n",
       "      <td>1</td>\n",
       "      <td>1</td>\n",
       "      <td>NaN</td>\n",
       "      <td>NaN</td>\n",
       "      <td>NaN</td>\n",
       "      <td>NaN</td>\n",
       "      <td>NaN</td>\n",
       "    </tr>\n",
       "    <tr>\n",
       "      <th>HadGEM3-GC31-MM</th>\n",
       "      <td>1</td>\n",
       "      <td>1</td>\n",
       "      <td>NaN</td>\n",
       "      <td>NaN</td>\n",
       "      <td>NaN</td>\n",
       "      <td>NaN</td>\n",
       "      <td>NaN</td>\n",
       "    </tr>\n",
       "    <tr>\n",
       "      <th>IITM-ESM</th>\n",
       "      <td>1</td>\n",
       "      <td>NaN</td>\n",
       "      <td>1</td>\n",
       "      <td>NaN</td>\n",
       "      <td>NaN</td>\n",
       "      <td>NaN</td>\n",
       "      <td>NaN</td>\n",
       "    </tr>\n",
       "    <tr>\n",
       "      <th>INM-CM4-8</th>\n",
       "      <td>1</td>\n",
       "      <td>1</td>\n",
       "      <td>1</td>\n",
       "      <td>1</td>\n",
       "      <td>1</td>\n",
       "      <td>1</td>\n",
       "      <td>1</td>\n",
       "    </tr>\n",
       "    <tr>\n",
       "      <th>INM-CM5-0</th>\n",
       "      <td>1</td>\n",
       "      <td>1</td>\n",
       "      <td>1</td>\n",
       "      <td>1</td>\n",
       "      <td>1</td>\n",
       "      <td>1</td>\n",
       "      <td>1</td>\n",
       "    </tr>\n",
       "    <tr>\n",
       "      <th>IPSL-CM5A2-INCA</th>\n",
       "      <td>1</td>\n",
       "      <td>NaN</td>\n",
       "      <td>1</td>\n",
       "      <td>NaN</td>\n",
       "      <td>1</td>\n",
       "      <td>NaN</td>\n",
       "      <td>1</td>\n",
       "    </tr>\n",
       "    <tr>\n",
       "      <th>IPSL-CM6A-LR</th>\n",
       "      <td>1</td>\n",
       "      <td>1</td>\n",
       "      <td>1</td>\n",
       "      <td>1</td>\n",
       "      <td>1</td>\n",
       "      <td>1</td>\n",
       "      <td>1</td>\n",
       "    </tr>\n",
       "    <tr>\n",
       "      <th>IPSL-CM6A-LR-INCA</th>\n",
       "      <td>NaN</td>\n",
       "      <td>NaN</td>\n",
       "      <td>1</td>\n",
       "      <td>NaN</td>\n",
       "      <td>NaN</td>\n",
       "      <td>NaN</td>\n",
       "      <td>NaN</td>\n",
       "    </tr>\n",
       "    <tr>\n",
       "      <th>KACE-1-0-G</th>\n",
       "      <td>1</td>\n",
       "      <td>NaN</td>\n",
       "      <td>1</td>\n",
       "      <td>1</td>\n",
       "      <td>1</td>\n",
       "      <td>1</td>\n",
       "      <td>1</td>\n",
       "    </tr>\n",
       "    <tr>\n",
       "      <th>MCM-UA-1-0</th>\n",
       "      <td>NaN</td>\n",
       "      <td>NaN</td>\n",
       "      <td>1</td>\n",
       "      <td>NaN</td>\n",
       "      <td>NaN</td>\n",
       "      <td>NaN</td>\n",
       "      <td>NaN</td>\n",
       "    </tr>\n",
       "    <tr>\n",
       "      <th>MIROC6</th>\n",
       "      <td>1</td>\n",
       "      <td>1</td>\n",
       "      <td>1</td>\n",
       "      <td>1</td>\n",
       "      <td>1</td>\n",
       "      <td>1</td>\n",
       "      <td>1</td>\n",
       "    </tr>\n",
       "    <tr>\n",
       "      <th>MPI-ESM-1-2-HAM</th>\n",
       "      <td>1</td>\n",
       "      <td>1</td>\n",
       "      <td>1</td>\n",
       "      <td>NaN</td>\n",
       "      <td>NaN</td>\n",
       "      <td>NaN</td>\n",
       "      <td>NaN</td>\n",
       "    </tr>\n",
       "    <tr>\n",
       "      <th>MPI-ESM1-2-HR</th>\n",
       "      <td>1</td>\n",
       "      <td>1</td>\n",
       "      <td>1</td>\n",
       "      <td>1</td>\n",
       "      <td>1</td>\n",
       "      <td>1</td>\n",
       "      <td>1</td>\n",
       "    </tr>\n",
       "    <tr>\n",
       "      <th>MPI-ESM1-2-LR</th>\n",
       "      <td>1</td>\n",
       "      <td>1</td>\n",
       "      <td>1</td>\n",
       "      <td>1</td>\n",
       "      <td>1</td>\n",
       "      <td>1</td>\n",
       "      <td>1</td>\n",
       "    </tr>\n",
       "    <tr>\n",
       "      <th>MRI-ESM2-0</th>\n",
       "      <td>1</td>\n",
       "      <td>1</td>\n",
       "      <td>1</td>\n",
       "      <td>1</td>\n",
       "      <td>1</td>\n",
       "      <td>1</td>\n",
       "      <td>1</td>\n",
       "    </tr>\n",
       "    <tr>\n",
       "      <th>NESM3</th>\n",
       "      <td>1</td>\n",
       "      <td>NaN</td>\n",
       "      <td>1</td>\n",
       "      <td>1</td>\n",
       "      <td>NaN</td>\n",
       "      <td>1</td>\n",
       "      <td>1</td>\n",
       "    </tr>\n",
       "    <tr>\n",
       "      <th>NorCPM1</th>\n",
       "      <td>1</td>\n",
       "      <td>1</td>\n",
       "      <td>1</td>\n",
       "      <td>NaN</td>\n",
       "      <td>NaN</td>\n",
       "      <td>NaN</td>\n",
       "      <td>NaN</td>\n",
       "    </tr>\n",
       "    <tr>\n",
       "      <th>NorESM1-F</th>\n",
       "      <td>1</td>\n",
       "      <td>NaN</td>\n",
       "      <td>NaN</td>\n",
       "      <td>NaN</td>\n",
       "      <td>NaN</td>\n",
       "      <td>NaN</td>\n",
       "      <td>NaN</td>\n",
       "    </tr>\n",
       "    <tr>\n",
       "      <th>NorESM2-LM</th>\n",
       "      <td>1</td>\n",
       "      <td>NaN</td>\n",
       "      <td>1</td>\n",
       "      <td>1</td>\n",
       "      <td>1</td>\n",
       "      <td>1</td>\n",
       "      <td>1</td>\n",
       "    </tr>\n",
       "    <tr>\n",
       "      <th>NorESM2-MM</th>\n",
       "      <td>1</td>\n",
       "      <td>1</td>\n",
       "      <td>1</td>\n",
       "      <td>1</td>\n",
       "      <td>1</td>\n",
       "      <td>1</td>\n",
       "      <td>1</td>\n",
       "    </tr>\n",
       "    <tr>\n",
       "      <th>SAM0-UNICON</th>\n",
       "      <td>1</td>\n",
       "      <td>1</td>\n",
       "      <td>1</td>\n",
       "      <td>NaN</td>\n",
       "      <td>NaN</td>\n",
       "      <td>NaN</td>\n",
       "      <td>NaN</td>\n",
       "    </tr>\n",
       "    <tr>\n",
       "      <th>TaiESM1</th>\n",
       "      <td>1</td>\n",
       "      <td>1</td>\n",
       "      <td>1</td>\n",
       "      <td>1</td>\n",
       "      <td>1</td>\n",
       "      <td>1</td>\n",
       "      <td>1</td>\n",
       "    </tr>\n",
       "  </tbody>\n",
       "</table>\n",
       "</div>"
      ],
      "text/plain": [
       "                  piControl200 piControl500 Historical-All SSP5.85 SSP3.70  \\\n",
       "ACCESS-CM2                   1            1              1       1       1   \n",
       "ACCESS-ESM1-5                1            1              1       1       1   \n",
       "AWI-CM-1-1-MR                1            1              1       1       1   \n",
       "AWI-ESM-1-1-LR             NaN          NaN              1     NaN     NaN   \n",
       "BCC-CSM2-MR                  1            1              1       1       1   \n",
       "BCC-ESM1                     1          NaN              1     NaN     NaN   \n",
       "CAMS-CSM1-0                  1            1              1     NaN     NaN   \n",
       "CanESM5                      1            1              1       1       1   \n",
       "CAS-ESM2-0                   1            1              1       1       1   \n",
       "CESM2                        1            1              1       1     NaN   \n",
       "CESM2-FV2                    1            1              1     NaN     NaN   \n",
       "CESM2-WACCM                  1          NaN              1       1       1   \n",
       "CESM2-WACCM-FV2              1            1              1     NaN     NaN   \n",
       "CIESM                        1            1              1       1     NaN   \n",
       "CMCC-CM2-HR4               NaN          NaN              1     NaN     NaN   \n",
       "CMCC-CM2-SR5                 1            1              1       1       1   \n",
       "CMCC-ESM2                    1            1              1       1       1   \n",
       "E3SM-1-0                     1            1              1     NaN     NaN   \n",
       "E3SM-1-1                   NaN          NaN              1       1     NaN   \n",
       "E3SM-1-1-ECA               NaN          NaN              1     NaN     NaN   \n",
       "EC-Earth3                    1            1              1       1       1   \n",
       "EC-Earth3-AerChem            1          NaN              1     NaN       1   \n",
       "EC-Earth3-CC                 1            1              1       1     NaN   \n",
       "EC-Earth3-Veg                1            1              1       1       1   \n",
       "EC-Earth3-Veg-LR             1            1              1       1       1   \n",
       "FGOALS-f3-L                  1            1              1       1       1   \n",
       "FGOALS-g3                    1            1              1       1       1   \n",
       "FIO-ESM-2-0                NaN          NaN              1       1     NaN   \n",
       "GFDL-CM4                     1            1              1       1     NaN   \n",
       "GFDL-ESM4                    1            1              1       1       1   \n",
       "GISS-E2-1-G                  1            1              1     NaN     NaN   \n",
       "GISS-E2-1-G-CC             NaN          NaN              1     NaN     NaN   \n",
       "GISS-E2-1-H                  1            1              1     NaN     NaN   \n",
       "HadGEM3-GC31-LL              1            1            NaN     NaN     NaN   \n",
       "HadGEM3-GC31-MM              1            1            NaN     NaN     NaN   \n",
       "IITM-ESM                     1          NaN              1     NaN     NaN   \n",
       "INM-CM4-8                    1            1              1       1       1   \n",
       "INM-CM5-0                    1            1              1       1       1   \n",
       "IPSL-CM5A2-INCA              1          NaN              1     NaN       1   \n",
       "IPSL-CM6A-LR                 1            1              1       1       1   \n",
       "IPSL-CM6A-LR-INCA          NaN          NaN              1     NaN     NaN   \n",
       "KACE-1-0-G                   1          NaN              1       1       1   \n",
       "MCM-UA-1-0                 NaN          NaN              1     NaN     NaN   \n",
       "MIROC6                       1            1              1       1       1   \n",
       "MPI-ESM-1-2-HAM              1            1              1     NaN     NaN   \n",
       "MPI-ESM1-2-HR                1            1              1       1       1   \n",
       "MPI-ESM1-2-LR                1            1              1       1       1   \n",
       "MRI-ESM2-0                   1            1              1       1       1   \n",
       "NESM3                        1          NaN              1       1     NaN   \n",
       "NorCPM1                      1            1              1     NaN     NaN   \n",
       "NorESM1-F                    1          NaN            NaN     NaN     NaN   \n",
       "NorESM2-LM                   1          NaN              1       1       1   \n",
       "NorESM2-MM                   1            1              1       1       1   \n",
       "SAM0-UNICON                  1            1              1     NaN     NaN   \n",
       "TaiESM1                      1            1              1       1       1   \n",
       "\n",
       "                  SSP2.45 SSP1.26  \n",
       "ACCESS-CM2              1       1  \n",
       "ACCESS-ESM1-5           1       1  \n",
       "AWI-CM-1-1-MR           1       1  \n",
       "AWI-ESM-1-1-LR        NaN     NaN  \n",
       "BCC-CSM2-MR             1       1  \n",
       "BCC-ESM1              NaN     NaN  \n",
       "CAMS-CSM1-0           NaN     NaN  \n",
       "CanESM5                 1       1  \n",
       "CAS-ESM2-0              1       1  \n",
       "CESM2                 NaN       1  \n",
       "CESM2-FV2             NaN     NaN  \n",
       "CESM2-WACCM             1       1  \n",
       "CESM2-WACCM-FV2       NaN     NaN  \n",
       "CIESM                   1       1  \n",
       "CMCC-CM2-HR4          NaN     NaN  \n",
       "CMCC-CM2-SR5            1       1  \n",
       "CMCC-ESM2               1       1  \n",
       "E3SM-1-0              NaN     NaN  \n",
       "E3SM-1-1              NaN     NaN  \n",
       "E3SM-1-1-ECA          NaN     NaN  \n",
       "EC-Earth3               1       1  \n",
       "EC-Earth3-AerChem     NaN     NaN  \n",
       "EC-Earth3-CC            1     NaN  \n",
       "EC-Earth3-Veg           1       1  \n",
       "EC-Earth3-Veg-LR        1       1  \n",
       "FGOALS-f3-L             1       1  \n",
       "FGOALS-g3               1       1  \n",
       "FIO-ESM-2-0             1       1  \n",
       "GFDL-CM4                1     NaN  \n",
       "GFDL-ESM4               1       1  \n",
       "GISS-E2-1-G           NaN     NaN  \n",
       "GISS-E2-1-G-CC        NaN     NaN  \n",
       "GISS-E2-1-H           NaN     NaN  \n",
       "HadGEM3-GC31-LL       NaN     NaN  \n",
       "HadGEM3-GC31-MM       NaN     NaN  \n",
       "IITM-ESM              NaN     NaN  \n",
       "INM-CM4-8               1       1  \n",
       "INM-CM5-0               1       1  \n",
       "IPSL-CM5A2-INCA       NaN       1  \n",
       "IPSL-CM6A-LR            1       1  \n",
       "IPSL-CM6A-LR-INCA     NaN     NaN  \n",
       "KACE-1-0-G              1       1  \n",
       "MCM-UA-1-0            NaN     NaN  \n",
       "MIROC6                  1       1  \n",
       "MPI-ESM-1-2-HAM       NaN     NaN  \n",
       "MPI-ESM1-2-HR           1       1  \n",
       "MPI-ESM1-2-LR           1       1  \n",
       "MRI-ESM2-0              1       1  \n",
       "NESM3                   1       1  \n",
       "NorCPM1               NaN     NaN  \n",
       "NorESM1-F             NaN     NaN  \n",
       "NorESM2-LM              1       1  \n",
       "NorESM2-MM              1       1  \n",
       "SAM0-UNICON           NaN     NaN  \n",
       "TaiESM1                 1       1  "
      ]
     },
     "execution_count": 18,
     "metadata": {},
     "output_type": "execute_result"
    }
   ],
   "source": [
    "cmp6_models"
   ]
  },
  {
   "cell_type": "code",
   "execution_count": 19,
   "metadata": {},
   "outputs": [
    {
     "data": {
      "text/plain": [
       "Historical-All    28\n",
       "SSP3.70           28\n",
       "dtype: object"
      ]
     },
     "execution_count": 19,
     "metadata": {},
     "output_type": "execute_result"
    }
   ],
   "source": [
    "cmp6_models[['Historical-All' ,'SSP3.70']].dropna().sum()"
   ]
  },
  {
   "cell_type": "code",
   "execution_count": 20,
   "metadata": {},
   "outputs": [
    {
     "data": {
      "text/html": [
       "<div>\n",
       "<style scoped>\n",
       "    .dataframe tbody tr th:only-of-type {\n",
       "        vertical-align: middle;\n",
       "    }\n",
       "\n",
       "    .dataframe tbody tr th {\n",
       "        vertical-align: top;\n",
       "    }\n",
       "\n",
       "    .dataframe thead th {\n",
       "        text-align: right;\n",
       "    }\n",
       "</style>\n",
       "<table border=\"1\" class=\"dataframe\">\n",
       "  <thead>\n",
       "    <tr style=\"text-align: right;\">\n",
       "      <th></th>\n",
       "      <th>piControl200</th>\n",
       "      <th>piControl500</th>\n",
       "      <th>Historical-All</th>\n",
       "      <th>SSP5.85</th>\n",
       "      <th>SSP3.70</th>\n",
       "      <th>SSP2.45</th>\n",
       "      <th>SSP1.26</th>\n",
       "    </tr>\n",
       "  </thead>\n",
       "  <tbody>\n",
       "    <tr>\n",
       "      <th>CESM2</th>\n",
       "      <td>1</td>\n",
       "      <td>1</td>\n",
       "      <td>1</td>\n",
       "      <td>1</td>\n",
       "      <td>NaN</td>\n",
       "      <td>NaN</td>\n",
       "      <td>1</td>\n",
       "    </tr>\n",
       "    <tr>\n",
       "      <th>CIESM</th>\n",
       "      <td>1</td>\n",
       "      <td>1</td>\n",
       "      <td>1</td>\n",
       "      <td>1</td>\n",
       "      <td>NaN</td>\n",
       "      <td>1</td>\n",
       "      <td>1</td>\n",
       "    </tr>\n",
       "    <tr>\n",
       "      <th>E3SM-1-1</th>\n",
       "      <td>NaN</td>\n",
       "      <td>NaN</td>\n",
       "      <td>1</td>\n",
       "      <td>1</td>\n",
       "      <td>NaN</td>\n",
       "      <td>NaN</td>\n",
       "      <td>NaN</td>\n",
       "    </tr>\n",
       "    <tr>\n",
       "      <th>EC-Earth3-CC</th>\n",
       "      <td>1</td>\n",
       "      <td>1</td>\n",
       "      <td>1</td>\n",
       "      <td>1</td>\n",
       "      <td>NaN</td>\n",
       "      <td>1</td>\n",
       "      <td>NaN</td>\n",
       "    </tr>\n",
       "    <tr>\n",
       "      <th>FIO-ESM-2-0</th>\n",
       "      <td>NaN</td>\n",
       "      <td>NaN</td>\n",
       "      <td>1</td>\n",
       "      <td>1</td>\n",
       "      <td>NaN</td>\n",
       "      <td>1</td>\n",
       "      <td>1</td>\n",
       "    </tr>\n",
       "    <tr>\n",
       "      <th>GFDL-CM4</th>\n",
       "      <td>1</td>\n",
       "      <td>1</td>\n",
       "      <td>1</td>\n",
       "      <td>1</td>\n",
       "      <td>NaN</td>\n",
       "      <td>1</td>\n",
       "      <td>NaN</td>\n",
       "    </tr>\n",
       "    <tr>\n",
       "      <th>NESM3</th>\n",
       "      <td>1</td>\n",
       "      <td>NaN</td>\n",
       "      <td>1</td>\n",
       "      <td>1</td>\n",
       "      <td>NaN</td>\n",
       "      <td>1</td>\n",
       "      <td>1</td>\n",
       "    </tr>\n",
       "  </tbody>\n",
       "</table>\n",
       "</div>"
      ],
      "text/plain": [
       "             piControl200 piControl500 Historical-All SSP5.85 SSP3.70 SSP2.45  \\\n",
       "CESM2                   1            1              1       1     NaN     NaN   \n",
       "CIESM                   1            1              1       1     NaN       1   \n",
       "E3SM-1-1              NaN          NaN              1       1     NaN     NaN   \n",
       "EC-Earth3-CC            1            1              1       1     NaN       1   \n",
       "FIO-ESM-2-0           NaN          NaN              1       1     NaN       1   \n",
       "GFDL-CM4                1            1              1       1     NaN       1   \n",
       "NESM3                   1          NaN              1       1     NaN       1   \n",
       "\n",
       "             SSP1.26  \n",
       "CESM2              1  \n",
       "CIESM              1  \n",
       "E3SM-1-1         NaN  \n",
       "EC-Earth3-CC     NaN  \n",
       "FIO-ESM-2-0        1  \n",
       "GFDL-CM4         NaN  \n",
       "NESM3              1  "
      ]
     },
     "execution_count": 20,
     "metadata": {},
     "output_type": "execute_result"
    }
   ],
   "source": [
    "cmp6_models[(cmp6_models['SSP3.70'].isna()) & (cmp6_models['SSP5.85']==1)]#['piControl200'].dropna()"
   ]
  },
  {
   "cell_type": "code",
   "execution_count": 21,
   "metadata": {},
   "outputs": [
    {
     "data": {
      "text/html": [
       "<div>\n",
       "<style scoped>\n",
       "    .dataframe tbody tr th:only-of-type {\n",
       "        vertical-align: middle;\n",
       "    }\n",
       "\n",
       "    .dataframe tbody tr th {\n",
       "        vertical-align: top;\n",
       "    }\n",
       "\n",
       "    .dataframe thead th {\n",
       "        text-align: right;\n",
       "    }\n",
       "</style>\n",
       "<table border=\"1\" class=\"dataframe\">\n",
       "  <thead>\n",
       "    <tr style=\"text-align: right;\">\n",
       "      <th></th>\n",
       "      <th>piControl200</th>\n",
       "      <th>piControl500</th>\n",
       "      <th>Historical-All</th>\n",
       "      <th>SSP5.85</th>\n",
       "      <th>SSP3.70</th>\n",
       "      <th>SSP2.45</th>\n",
       "      <th>SSP1.26</th>\n",
       "    </tr>\n",
       "  </thead>\n",
       "  <tbody>\n",
       "    <tr>\n",
       "      <th>CESM2</th>\n",
       "      <td>1</td>\n",
       "      <td>1</td>\n",
       "      <td>1</td>\n",
       "      <td>1</td>\n",
       "      <td>NaN</td>\n",
       "      <td>NaN</td>\n",
       "      <td>1</td>\n",
       "    </tr>\n",
       "    <tr>\n",
       "      <th>E3SM-1-1</th>\n",
       "      <td>NaN</td>\n",
       "      <td>NaN</td>\n",
       "      <td>1</td>\n",
       "      <td>1</td>\n",
       "      <td>NaN</td>\n",
       "      <td>NaN</td>\n",
       "      <td>NaN</td>\n",
       "    </tr>\n",
       "  </tbody>\n",
       "</table>\n",
       "</div>"
      ],
      "text/plain": [
       "         piControl200 piControl500 Historical-All SSP5.85 SSP3.70 SSP2.45  \\\n",
       "CESM2               1            1              1       1     NaN     NaN   \n",
       "E3SM-1-1          NaN          NaN              1       1     NaN     NaN   \n",
       "\n",
       "         SSP1.26  \n",
       "CESM2          1  \n",
       "E3SM-1-1     NaN  "
      ]
     },
     "execution_count": 21,
     "metadata": {},
     "output_type": "execute_result"
    }
   ],
   "source": [
    "cmp6_models[(cmp6_models['SSP2.45'].isna()) & (cmp6_models['SSP5.85']==1)]#['piControl200'].dropna()"
   ]
  },
  {
   "cell_type": "code",
   "execution_count": 22,
   "metadata": {},
   "outputs": [
    {
     "data": {
      "text/html": [
       "<div>\n",
       "<style scoped>\n",
       "    .dataframe tbody tr th:only-of-type {\n",
       "        vertical-align: middle;\n",
       "    }\n",
       "\n",
       "    .dataframe tbody tr th {\n",
       "        vertical-align: top;\n",
       "    }\n",
       "\n",
       "    .dataframe thead th {\n",
       "        text-align: right;\n",
       "    }\n",
       "</style>\n",
       "<table border=\"1\" class=\"dataframe\">\n",
       "  <thead>\n",
       "    <tr style=\"text-align: right;\">\n",
       "      <th></th>\n",
       "      <th>piControl200</th>\n",
       "      <th>piControl500</th>\n",
       "      <th>Historical-All</th>\n",
       "      <th>SSP5.85</th>\n",
       "      <th>SSP3.70</th>\n",
       "      <th>SSP2.45</th>\n",
       "      <th>SSP1.26</th>\n",
       "    </tr>\n",
       "  </thead>\n",
       "  <tbody>\n",
       "    <tr>\n",
       "      <th>E3SM-1-1</th>\n",
       "      <td>NaN</td>\n",
       "      <td>NaN</td>\n",
       "      <td>1</td>\n",
       "      <td>1</td>\n",
       "      <td>NaN</td>\n",
       "      <td>NaN</td>\n",
       "      <td>NaN</td>\n",
       "    </tr>\n",
       "    <tr>\n",
       "      <th>EC-Earth3-CC</th>\n",
       "      <td>1</td>\n",
       "      <td>1</td>\n",
       "      <td>1</td>\n",
       "      <td>1</td>\n",
       "      <td>NaN</td>\n",
       "      <td>1</td>\n",
       "      <td>NaN</td>\n",
       "    </tr>\n",
       "    <tr>\n",
       "      <th>GFDL-CM4</th>\n",
       "      <td>1</td>\n",
       "      <td>1</td>\n",
       "      <td>1</td>\n",
       "      <td>1</td>\n",
       "      <td>NaN</td>\n",
       "      <td>1</td>\n",
       "      <td>NaN</td>\n",
       "    </tr>\n",
       "  </tbody>\n",
       "</table>\n",
       "</div>"
      ],
      "text/plain": [
       "             piControl200 piControl500 Historical-All SSP5.85 SSP3.70 SSP2.45  \\\n",
       "E3SM-1-1              NaN          NaN              1       1     NaN     NaN   \n",
       "EC-Earth3-CC            1            1              1       1     NaN       1   \n",
       "GFDL-CM4                1            1              1       1     NaN       1   \n",
       "\n",
       "             SSP1.26  \n",
       "E3SM-1-1         NaN  \n",
       "EC-Earth3-CC     NaN  \n",
       "GFDL-CM4         NaN  "
      ]
     },
     "execution_count": 22,
     "metadata": {},
     "output_type": "execute_result"
    }
   ],
   "source": [
    "cmp6_models[(cmp6_models['SSP1.26'].isna()) & (cmp6_models['SSP5.85']==1)]#['piControl200'].dropna()"
   ]
  },
  {
   "cell_type": "code",
   "execution_count": 23,
   "metadata": {},
   "outputs": [
    {
     "data": {
      "text/plain": [
       "piControl200      30\n",
       "Historical-All    30\n",
       "SSP2.45           30\n",
       "dtype: object"
      ]
     },
     "execution_count": 23,
     "metadata": {},
     "output_type": "execute_result"
    }
   ],
   "source": [
    "cmp6_models[['piControl200', 'Historical-All' ,'SSP2.45']].dropna().sum()"
   ]
  },
  {
   "cell_type": "code",
   "execution_count": 24,
   "metadata": {},
   "outputs": [
    {
     "data": {
      "text/plain": [
       "piControl200      30\n",
       "Historical-All    30\n",
       "SSP1.26           30\n",
       "dtype: object"
      ]
     },
     "execution_count": 24,
     "metadata": {},
     "output_type": "execute_result"
    }
   ],
   "source": [
    "cmp6_models[['piControl200', 'Historical-All' ,'SSP1.26']].dropna().sum()"
   ]
  },
  {
   "cell_type": "code",
   "execution_count": 25,
   "metadata": {},
   "outputs": [
    {
     "data": {
      "text/plain": [
       "piControl200      31\n",
       "Historical-All    31\n",
       "SSP5.85           31\n",
       "dtype: object"
      ]
     },
     "execution_count": 25,
     "metadata": {},
     "output_type": "execute_result"
    }
   ],
   "source": [
    "cmp6_models[['piControl200', 'Historical-All', 'SSP5.85' ]].dropna().sum()"
   ]
  },
  {
   "cell_type": "code",
   "execution_count": 26,
   "metadata": {},
   "outputs": [
    {
     "data": {
      "text/plain": [
       "piControl200      28\n",
       "Historical-All    28\n",
       "SSP3.70           28\n",
       "dtype: object"
      ]
     },
     "execution_count": 26,
     "metadata": {},
     "output_type": "execute_result"
    }
   ],
   "source": [
    "cmp6_models[['piControl200', 'Historical-All' ,'SSP3.70']].dropna().sum()"
   ]
  },
  {
   "cell_type": "code",
   "execution_count": 27,
   "metadata": {},
   "outputs": [],
   "source": [
    "def get_common_modellist(mhist, mrcp):\n",
    "    cmodels = [model for model in mhist if model in mrcp]\n",
    "    return cmodels"
   ]
  },
  {
   "cell_type": "code",
   "execution_count": 28,
   "metadata": {},
   "outputs": [],
   "source": [
    "# GET THE COMMON MODEL LIST that exist in hist and SSP runs \n",
    "\n",
    "# Models that are common between Hist and different future runs\n",
    "hist_ssp585_cmod = get_common_modellist(mod_hist, mod_ssp585)\n",
    "hist_ssp370_cmod = get_common_modellist(mod_hist, mod_ssp370)\n",
    "hist_ssp245_cmod = get_common_modellist(mod_hist, mod_ssp245)\n",
    "hist_ssp126_cmod = get_common_modellist(mod_hist, mod_ssp126)\n",
    "\n",
    "# Models that are common between Hist and different piCTL runs\n",
    "hist_pi5_cmod = get_common_modellist(mod_hist, mod_pi5)\n",
    "hist_pi2_cmod = get_common_modellist(mod_hist, mod_pi2)\n",
    "\n",
    "# Models that are common between Hist, ssp5.85 and different piCTL runs\n",
    "pi5_hist_ssp585_cmod = get_common_modellist(hist_ssp585_cmod, mod_pi5)\n",
    "pi2_hist_ssp585_cmod = get_common_modellist(hist_ssp585_cmod, mod_pi2)\n",
    "\n",
    "# Models that are common between Hist, ssp3.70 and different piCTL runs\n",
    "pi5_hist_ssp370_cmod = get_common_modellist(hist_ssp370_cmod, mod_pi5)\n",
    "pi2_hist_ssp370_cmod = get_common_modellist(hist_ssp370_cmod, mod_pi2)\n",
    "\n",
    "# Models that are common between Hist, ssp2.45 and different piCTL runs\n",
    "pi5_hist_ssp245_cmod = get_common_modellist(hist_ssp245_cmod, mod_pi5)\n",
    "pi2_hist_ssp245_cmod = get_common_modellist(hist_ssp245_cmod, mod_pi2)\n",
    "\n",
    "# Models that are common between Hist, ssp1.26 and different piCTL runs\n",
    "pi5_hist_ssp126_cmod = get_common_modellist(hist_ssp126_cmod, mod_pi5)\n",
    "pi2_hist_ssp126_cmod = get_common_modellist(hist_ssp126_cmod, mod_pi2)"
   ]
  },
  {
   "cell_type": "code",
   "execution_count": null,
   "metadata": {},
   "outputs": [],
   "source": []
  },
  {
   "cell_type": "code",
   "execution_count": 29,
   "metadata": {},
   "outputs": [
    {
     "name": "stdout",
     "output_type": "stream",
     "text": [
      "[33, 28, 31, 31]\n"
     ]
    }
   ],
   "source": [
    "print([len(hist_ssp585_cmod), len(hist_ssp370_cmod), len(hist_ssp245_cmod), len(hist_ssp126_cmod)])"
   ]
  },
  {
   "cell_type": "code",
   "execution_count": 30,
   "metadata": {},
   "outputs": [
    {
     "data": {
      "text/plain": [
       "Index(['ACCESS-CM2', 'ACCESS-ESM1-5', 'AWI-CM-1-1-MR', 'BCC-CSM2-MR',\n",
       "       'BCC-ESM1', 'CAMS-CSM1-0', 'CanESM5', 'CAS-ESM2-0', 'CESM2-FV2',\n",
       "       'CESM2-WACCM-FV2', 'CESM2-WACCM', 'CESM2', 'CIESM', 'CMCC-CM2-SR5',\n",
       "       'CMCC-ESM2', 'E3SM-1-0', 'EC-Earth3-AerChem', 'EC-Earth3-CC',\n",
       "       'EC-Earth3-Veg-LR', 'EC-Earth3-Veg', 'EC-Earth3', 'FGOALS-f3-L',\n",
       "       'FGOALS-g3', 'GFDL-CM4', 'GFDL-ESM4', 'GISS-E2-1-G', 'GISS-E2-1-H',\n",
       "       'HadGEM3-GC31-LL', 'HadGEM3-GC31-MM', 'IITM-ESM', 'INM-CM4-8',\n",
       "       'INM-CM5-0', 'IPSL-CM5A2-INCA', 'IPSL-CM6A-LR', 'KACE-1-0-G', 'MIROC6',\n",
       "       'MPI-ESM-1-2-HAM', 'MPI-ESM1-2-HR', 'MPI-ESM1-2-LR', 'MRI-ESM2-0',\n",
       "       'NESM3', 'NorCPM1', 'NorESM1-F', 'NorESM2-LM', 'NorESM2-MM',\n",
       "       'SAM0-UNICON', 'TaiESM1'],\n",
       "      dtype='object')"
      ]
     },
     "execution_count": 30,
     "metadata": {},
     "output_type": "execute_result"
    }
   ],
   "source": [
    "mod_pi2"
   ]
  },
  {
   "cell_type": "code",
   "execution_count": null,
   "metadata": {},
   "outputs": [],
   "source": []
  },
  {
   "cell_type": "code",
   "execution_count": 31,
   "metadata": {},
   "outputs": [
    {
     "name": "stdout",
     "output_type": "stream",
     "text": [
      "31 28 30 30\n"
     ]
    }
   ],
   "source": [
    "print(len(pi2_hist_ssp585_cmod), len(pi2_hist_ssp370_cmod), len(pi2_hist_ssp245_cmod), len(pi2_hist_ssp126_cmod))"
   ]
  },
  {
   "cell_type": "code",
   "execution_count": 32,
   "metadata": {},
   "outputs": [
    {
     "name": "stdout",
     "output_type": "stream",
     "text": [
      "26\n",
      "28\n"
     ]
    }
   ],
   "source": [
    "## Get the common models between the piControl, historical, ssp585, and ssp370\n",
    "cmod_pi2_hist_585_370 = get_common_modellist(pi2_hist_ssp585_cmod, pi2_hist_ssp370_cmod)\n",
    "print(len(cmod_pi2_hist_585_370))\n",
    "\n",
    "## Get the common models between the piControl, historical, ssp245, and ssp126\n",
    "cmod_pi2_hist_245_126 = get_common_modellist(pi2_hist_ssp245_cmod, pi2_hist_ssp126_cmod)\n",
    "print(len(cmod_pi2_hist_245_126))"
   ]
  },
  {
   "cell_type": "code",
   "execution_count": 33,
   "metadata": {},
   "outputs": [
    {
     "name": "stdout",
     "output_type": "stream",
     "text": [
      "26\n"
     ]
    }
   ],
   "source": [
    "## Get the common models between the piControl, historical, ssp585, ssp370, ssp245, and ssp126\n",
    "cmod_all = get_common_modellist(cmod_pi2_hist_585_370, cmod_pi2_hist_245_126)\n",
    "print(len(cmod_all))"
   ]
  },
  {
   "cell_type": "code",
   "execution_count": 34,
   "metadata": {},
   "outputs": [],
   "source": [
    "def bootstrap_resample(X, n=None):\n",
    "    \"\"\" Bootstrap resample an array_like\n",
    "    Parameters\n",
    "    ----------\n",
    "    X : array_like\n",
    "      data to resample\n",
    "    n : int, optional\n",
    "      length of resampled array, equal to len(X) if n==None\n",
    "    Results\n",
    "    -------\n",
    "    returns X_resamples\n",
    "    \"\"\"\n",
    "    if isinstance(X, pd.Series):\n",
    "        X = X.copy()\n",
    "        X.index = range(len(X.index))\n",
    "    elif isinstance(X, pd.DataFrame):\n",
    "        X=pd.Series(X.values.flatten())\n",
    "        \n",
    "    if n == None:\n",
    "        n = len(X)\n",
    "        \n",
    "    resample_i = np.floor(np.random.rand(n)*len(X)).astype(int)\n",
    "    X_resample = np.array(X[resample_i])  # TODO: write a test demonstrating why array() is important\n",
    "    return X_resample"
   ]
  },
  {
   "cell_type": "code",
   "execution_count": 35,
   "metadata": {},
   "outputs": [],
   "source": [
    "def bootstrap_regAvg_data(df_data, nrepeat = 1000, yrExtract=[1900, 1959, 2017, 2019], stat='mean'):\n",
    "    '''\n",
    "    \n",
    "    '''\n",
    "    np.random.seed(0)\n",
    "    pi_boot_diff = pd.DataFrame(index=np.arange(0, nrepeat))\n",
    "    pi_boot_perc = pd.DataFrame(index=np.arange(0, nrepeat))\n",
    "    pi_boot_norm = pd.DataFrame(index=np.arange(0, nrepeat))\n",
    "\n",
    "\n",
    "    for model in df_data.columns:\n",
    "\n",
    "        X1_pi = df_data[[model]]\n",
    "\n",
    "        ## Bootstrapping the whole time series\n",
    "\n",
    "        stat_diff = np.zeros(nrepeat, dtype=float)\n",
    "        stat_diff_perc = stat_diff.copy()\n",
    "        stat_diff_norm = stat_diff.copy()\n",
    "\n",
    "        for i in range(nrepeat):\n",
    "\n",
    "            # Resample the whole \n",
    "            if i == 0:\n",
    "                X_resample_all = X1_pi.copy()\n",
    "            else:                \n",
    "                X_resample_all = bootstrap_resample(X1_pi)\n",
    "\n",
    "            # Convert to pandas dataframe to subset abd do all the calculations\n",
    "            X_resample = pd.DataFrame(X_resample_all, index=X1_pi.index)\n",
    "            \n",
    "            # Extract the data for climatological period\n",
    "            clim_tmp = X_resample[(X_resample.index.year >= yrExtract[0]) & (X_resample.index.year <= yrExtract[1])]\n",
    "            \n",
    "            ref_tmp = X_resample[(X_resample.index.year >= yrExtract[2]) & (X_resample.index.year <= yrExtract[-1])]\n",
    "            \n",
    "            \n",
    "            # Compute the STD of reference years\n",
    "            X_std = clim_tmp.std().values  \n",
    "            \n",
    "            if stat == 'mean':\n",
    "                X_mu = clim_tmp.mean().values  \n",
    "                X_bar = ref_tmp.mean().values  \n",
    "            elif stat == 'median':\n",
    "                X_mu = clim_tmp.median().values  \n",
    "                X_bar = ref_tmp.median().values \n",
    "            else:\n",
    "                raise Exception (\"Stat given is invalid\")\n",
    "\n",
    "            stat_diff[i] = X_bar - X_mu\n",
    "            stat_diff_perc[i] = 100 * stat_diff[i]/X_mu\n",
    "            stat_diff_norm[i] = stat_diff[i]/X_std\n",
    "\n",
    "            del X_resample_all, X_resample, X_mu, X_std, X_bar, clim_tmp, ref_tmp  \n",
    "\n",
    "        pi_boot_diff[model]  = stat_diff.flatten()\n",
    "        pi_boot_perc[model]  = stat_diff_perc.flatten()\n",
    "        pi_boot_norm[model]  = stat_diff_norm.flatten()\n",
    "\n",
    "        del stat_diff, stat_diff_perc, stat_diff_norm\n",
    "        \n",
    "    return pi_boot_diff, pi_boot_perc, pi_boot_norm  \n"
   ]
  },
  {
   "cell_type": "code",
   "execution_count": 36,
   "metadata": {},
   "outputs": [],
   "source": [
    "# Extract the season and compute the seasonal average to do all the calculation\n",
    "smon = 4\n",
    "lmon = 9"
   ]
  },
  {
   "cell_type": "code",
   "execution_count": 37,
   "metadata": {},
   "outputs": [],
   "source": [
    "\n",
    "awapMB_cl =  awapMB[(awapMB.index.month>=smon) & (awapMB.index.month<=lmon)].resample('A').mean()\n",
    "\n",
    "# Compute the inter-decadal stats\n",
    "runMeanWindow = 10\n",
    "awapMB_cl_10y = awapMB_cl.rolling(runMeanWindow,  center=True).mean()\n",
    "\n",
    "awapMB_sigma_10 = awapMB_cl_10y[awapMB_cl_10y.index.year <= 1959].std()\n",
    "\n",
    "awapMB_all_sigma_10 = awapMB_cl_10y.std()"
   ]
  },
  {
   "cell_type": "code",
   "execution_count": 38,
   "metadata": {},
   "outputs": [
    {
     "name": "stdout",
     "output_type": "stream",
     "text": [
      "awap    2.783922\n",
      "dtype: float64\n"
     ]
    }
   ],
   "source": [
    "print(awapMB_sigma_10)"
   ]
  },
  {
   "cell_type": "code",
   "execution_count": null,
   "metadata": {},
   "outputs": [],
   "source": []
  },
  {
   "cell_type": "code",
   "execution_count": 39,
   "metadata": {},
   "outputs": [],
   "source": [
    "# # DO t-Test to evaluate the statistical significance of the OBSERVED CHANGE\n",
    "\n",
    "# from scipy import stats"
   ]
  },
  {
   "cell_type": "code",
   "execution_count": 40,
   "metadata": {},
   "outputs": [],
   "source": [
    "# Refernce period mean\n",
    "ref_avg = awapMB_cl[(awapMB_cl.index.year >= 1900) & (awapMB_cl.index.year <= 1959)]['awap'].values\n",
    "\n",
    "# TBD (2017-2019) mean\n",
    "tar_avg = awapMB_cl[(awapMB_cl.index.year >= 2017) & (awapMB_cl.index.year <= 2019)]['awap'].values\n"
   ]
  },
  {
   "cell_type": "code",
   "execution_count": 41,
   "metadata": {},
   "outputs": [],
   "source": [
    "# Find the observed change in rainfall over all the three regions\n",
    "\n",
    "delR_MB = tar_avg.mean() - ref_avg.mean()\n",
    "perR_MB = 100 * (tar_avg.mean() - ref_avg.mean())/ref_avg.mean()\n",
    "stdR_MB = (tar_avg.mean() - ref_avg.mean())/ref_avg.std()\n"
   ]
  },
  {
   "cell_type": "code",
   "execution_count": 42,
   "metadata": {},
   "outputs": [
    {
     "name": "stdout",
     "output_type": "stream",
     "text": [
      "-17.268220900941827 -54.66578647691411 -1.8057585850558164\n"
     ]
    }
   ],
   "source": [
    "print(delR_MB, perR_MB, stdR_MB)"
   ]
  },
  {
   "cell_type": "code",
   "execution_count": 43,
   "metadata": {},
   "outputs": [
    {
     "name": "stdout",
     "output_type": "stream",
     "text": [
      "awap   -6.20284\n",
      "dtype: float64\n"
     ]
    }
   ],
   "source": [
    "# Change in terms of inter-decadal standard deviations\n",
    "print(delR_MB/awapMB_sigma_10)                \n"
   ]
  },
  {
   "cell_type": "code",
   "execution_count": 44,
   "metadata": {},
   "outputs": [
    {
     "name": "stdout",
     "output_type": "stream",
     "text": [
      "awap   -5.584927\n",
      "dtype: float64\n"
     ]
    }
   ],
   "source": [
    "# Change in terms of inter-decadal standard deviations using full record\n",
    "print(delR_MB/awapMB_all_sigma_10)"
   ]
  },
  {
   "cell_type": "code",
   "execution_count": 45,
   "metadata": {},
   "outputs": [],
   "source": [
    "# Estimate the probable range of change using Bootstrapping\n",
    "awapMB_btDiff, awapMB_btPerc, awapMB_btNorm = bootstrap_regAvg_data(awapMB_cl, nrepeat = 10000, \n",
    "                                                                    yrExtract=[1901, 1960, 2017, 2019])"
   ]
  },
  {
   "cell_type": "code",
   "execution_count": 46,
   "metadata": {},
   "outputs": [],
   "source": [
    "import warnings\n",
    "warnings.simplefilter(action='ignore', category=FutureWarning)"
   ]
  },
  {
   "cell_type": "code",
   "execution_count": null,
   "metadata": {},
   "outputs": [],
   "source": []
  },
  {
   "cell_type": "code",
   "execution_count": 47,
   "metadata": {},
   "outputs": [
    {
     "data": {
      "image/png": "[encoded data removed]",
      "text/plain": [
       "<Figure size 374.4x360 with 1 Axes>"
      ]
     },
     "metadata": {
      "needs_background": "light"
     },
     "output_type": "display_data"
    }
   ],
   "source": [
    "stat_type = 'perc'\n",
    "\n",
    "boot_data = awapMB_btPerc.copy()\n",
    "obs_diff = perR_MB.copy()\n",
    "\n",
    "xlimits = [-80, 80]\n",
    "ylimits = [0, 0.025]\n",
    "\n",
    "# sname = 'Cool (Apr-Sep) season'\n",
    "sname = \"Assessment of drought likelihood \\nusing random resampling\"\n",
    "with plt.style.context('seaborn-paper'):\n",
    "    f, ax = plt.subplots(1, figsize=(5.20, 5))\n",
    "\n",
    "    # Get the column name\n",
    "    reg = boot_data.columns\n",
    "\n",
    "    # Compute the percentiles values\n",
    "    xtemp_perc= boot_data[reg].describe(percentiles=[0.01,0.05,0.5])\n",
    "\n",
    "    perc_1 = xtemp_perc.loc[\"1%\"].values[0]\n",
    "    perc_5 = xtemp_perc.loc[\"5%\"].values[0]\n",
    "#     perc_1 = xtemp_perc.loc[\"1%\"].values[0]\n",
    "    \n",
    "    sns.distplot(boot_data[reg], bins=75, ax=ax, kde_kws={\"color\": \"k\"}, hist_kws={\"color\": \"lightgray\"})\n",
    "#     ax.axvline(linewidth=1, color='k', linestyle='-.')\n",
    "    ax.axvline(obs_diff, linewidth=2, color='r', linestyle='--')#, linestyle='-.')\n",
    "    ax.axvline(perc_1, linestyle='--', color='k',linewidth=1)\n",
    "#     ax.axvline(perc_5, linestyle='--', color='k',linewidth=1)\n",
    "\n",
    "#         ax.text(0.015, 0.925, '{0} '.format(sname), fontsize=12, transform=ax.transAxes)\n",
    "\n",
    "    probX = 100*boot_data[boot_data <= obs_diff].count().values[0]/len(boot_data.values)\n",
    "\n",
    "#     ax.text(0.55, 0.90, \"Pr[X <= OBS] = {0:.2f}%\".format(probX), fontsize=10, color= 'r',transform=ax.transAxes)\n",
    "    \n",
    "    ax.text(obs_diff-10, 0.0125, \"observed change ({0:.1f}%)\".format(obs_diff), fontsize=12, color= 'r', \n",
    "            rotation=90, va='center')\n",
    "    ax.text(xtemp_perc.loc[\"1%\"].values[0]-7.5, 0.0125, \"1st percentile ({0:.1f}%)\".format(perc_1), fontsize=12, color= 'k', \n",
    "            rotation=90, va='center')\n",
    "    \n",
    "\n",
    "    ax.text(0.26, 0.90, \"Probability of obs. change = {0:.2f}%\".format(probX), fontsize=12, color= 'r',\n",
    "            transform=ax.transAxes)\n",
    "    \n",
    "#     ax.text(obs_diff-10, 0.0125, \"observed change\", fontsize=12, color= 'r', \n",
    "#             rotation=90, va='center')\n",
    "#     ax.text(xtemp_perc.loc[\"1%\"].values[0]-7.5, 0.0125, \"1st percentile\", fontsize=12, color= 'k', \n",
    "#             rotation=90, va='center')\n",
    "    \n",
    "    ax.set_xlim(xlimits[0], xlimits[-1])\n",
    "    ax.set_ylim(ylimits[0], ylimits[-1])\n",
    "\n",
    "    ax.text(0.010, 0.95, \" a)\", fontsize=14, color= 'k',\n",
    "            transform=ax.transAxes)\n",
    "\n",
    "    # Define the xlabel according to stat type\n",
    "    if stat_type == 'anom':\n",
    "#             xlab_text = r'$\\Delta {R}$'+r' in (mm month $^{-1})$ '\n",
    "#             xlab_text = r'$(\\bar {X}_{2017-2019} - \\mu_{1900-1959})$ (mm month$^{-1})$'\n",
    "        xlab_text = r' Change in rainfall (mm month$^{-1})$'\n",
    "        ax.xaxis.set_major_locator(plt.MultipleLocator(10))\n",
    "        ax.xaxis.set_minor_locator(plt.MultipleLocator(2))\n",
    "\n",
    "    if stat_type == 'perc':\n",
    "#             xlab_text =r'$\\Delta {R} $ (in %) '\n",
    "#             xlab_text ='100*('+r'$\\bar {X}_{2017-2019} - \\mu_{1900-1959})/ \\mu_{1900-1959}$'\n",
    "        xlab_text = r' Percentage change in rainfall '\n",
    "        ax.xaxis.set_major_locator(plt.MultipleLocator(20))\n",
    "        ax.xaxis.set_minor_locator(plt.MultipleLocator(2))\n",
    "\n",
    "    if stat_type == 'norm':\n",
    "#             xlab_text = r'$\\Delta R/\\sigma $ '\n",
    "#             xlab_text = r'$\\bar {X}_{2017-2019} - \\mu_{1900-1959})/ \\sigma_{1900-1959}$'\n",
    "        xlab_text = r' Normalized change in rainfall '\n",
    "        ax.xaxis.set_major_locator(plt.MultipleLocator(1))\n",
    "        ax.xaxis.set_minor_locator(plt.MultipleLocator(0.2))\n",
    "\n",
    "#         ax.text(0.65, 0.90, \"{0} \".format(reg), fontsize=12, transform=ax.transAxes)\n",
    "    ax.set_xlabel(xlab_text, fontsize=12)\n",
    "    ax.set_ylabel(\"Density\", fontsize=12)\n",
    "    ax.xaxis.set_tick_params(labelsize=12)\n",
    "    ax.yaxis.set_tick_params(labelsize=12)\n",
    "\n",
    "    ax.set_title(sname, fontsize=12)\n",
    "\n",
    "    plt.tight_layout()\n",
    "\n",
    "#     if savePlot:\n",
    "#         if pngOut is None:\n",
    "#             pltDir = os.getcwd()\n",
    "#             pngOut = os.path.join(pltDir, '{0}_boot_pdf_test.png'.format(stat_type))          \n",
    "\n",
    "#         plt.savefig(pngOut, dpi=300, bbox_inches='tight', orientation='portrait')\n",
    "\n",
    "#     pdfOut = os.path.join(pltDir, 'Fig04a_bootstrap_likelihood_Tinderbox_Drought.pdf')          \n",
    "\n",
    "#     plt.savefig(pdfOut, dpi=300, bbox_inches='tight', orientation='portrait')\n",
    "    \n",
    "    plt.show()\n",
    "    plt.close()"
   ]
  },
  {
   "cell_type": "code",
   "execution_count": null,
   "metadata": {},
   "outputs": [],
   "source": []
  },
  {
   "cell_type": "code",
   "execution_count": 48,
   "metadata": {},
   "outputs": [
    {
     "name": "stdout",
     "output_type": "stream",
     "text": [
      "Probability of rainfall change equal to or less than the observed TBD change\n",
      "**********\n",
      "Using perR = 0.020%\n",
      "**********************\n"
     ]
    }
   ],
   "source": [
    "\n",
    "print(\"Probability of rainfall change equal to or less than the observed TBD change\")\n",
    "\n",
    "print(\"**********\")\n",
    "prob_perR_MB = 100*sum(awapMB_btPerc.values.flatten() <= perR_MB)/len(awapMB_btPerc.values.flatten())\n",
    "print(\"Using perR = {0:.3f}%\".format(prob_perR_MB))\n",
    "\n",
    "print(\"**********************\")\n"
   ]
  },
  {
   "cell_type": "code",
   "execution_count": 49,
   "metadata": {},
   "outputs": [],
   "source": [
    "obs_tmp = awapMB_cl.copy()"
   ]
  },
  {
   "cell_type": "code",
   "execution_count": 50,
   "metadata": {},
   "outputs": [
    {
     "data": {
      "text/plain": [
       "(1900, 2021)"
      ]
     },
     "execution_count": 50,
     "metadata": {},
     "output_type": "execute_result"
    }
   ],
   "source": [
    "obs_tmp.index.year[0], obs_tmp.index.year[-1]"
   ]
  },
  {
   "cell_type": "code",
   "execution_count": 51,
   "metadata": {},
   "outputs": [],
   "source": [
    "# Another way to do a bootstrapping using all the 3-year anomalies from 2001 onwards (Suggested by Reviewer-2)"
   ]
  },
  {
   "cell_type": "code",
   "execution_count": 52,
   "metadata": {},
   "outputs": [],
   "source": [
    "# obs_tmp = awapMB_cl.copy()\n",
    "\n",
    "obs_tmp_clim = obs_tmp[(obs_tmp.index.year >= 1900) & (obs_tmp.index.year <= 1959)].mean()"
   ]
  },
  {
   "cell_type": "code",
   "execution_count": 53,
   "metadata": {},
   "outputs": [],
   "source": [
    "nyr_rol = 3\n",
    "obs_tmp_nyr = obs_tmp.rolling(nyr_rol, center= True ).mean()\n",
    "\n",
    "obs_tmp_nyr_anom = obs_tmp_nyr - obs_tmp_clim\n",
    "\n",
    "obs_tmp_nyr_perc = 100 * obs_tmp_nyr_anom / obs_tmp_clim"
   ]
  },
  {
   "cell_type": "code",
   "execution_count": 54,
   "metadata": {},
   "outputs": [
    {
     "data": {
      "text/plain": [
       "(20, 1)"
      ]
     },
     "execution_count": 54,
     "metadata": {},
     "output_type": "execute_result"
    }
   ],
   "source": [
    "obs_tmp_nyr_perc[obs_tmp.index.year >= 2001].dropna().shape"
   ]
  },
  {
   "cell_type": "code",
   "execution_count": 55,
   "metadata": {},
   "outputs": [
    {
     "data": {
      "text/html": [
       "<div>\n",
       "<style scoped>\n",
       "    .dataframe tbody tr th:only-of-type {\n",
       "        vertical-align: middle;\n",
       "    }\n",
       "\n",
       "    .dataframe tbody tr th {\n",
       "        vertical-align: top;\n",
       "    }\n",
       "\n",
       "    .dataframe thead th {\n",
       "        text-align: right;\n",
       "    }\n",
       "</style>\n",
       "<table border=\"1\" class=\"dataframe\">\n",
       "  <thead>\n",
       "    <tr style=\"text-align: right;\">\n",
       "      <th></th>\n",
       "      <th>awap</th>\n",
       "    </tr>\n",
       "  </thead>\n",
       "  <tbody>\n",
       "    <tr>\n",
       "      <th>2001-12-31</th>\n",
       "      <td>-24.662051</td>\n",
       "    </tr>\n",
       "    <tr>\n",
       "      <th>2002-12-31</th>\n",
       "      <td>-26.494706</td>\n",
       "    </tr>\n",
       "    <tr>\n",
       "      <th>2003-12-31</th>\n",
       "      <td>-27.339301</td>\n",
       "    </tr>\n",
       "    <tr>\n",
       "      <th>2004-12-31</th>\n",
       "      <td>-6.167909</td>\n",
       "    </tr>\n",
       "    <tr>\n",
       "      <th>2005-12-31</th>\n",
       "      <td>-14.917671</td>\n",
       "    </tr>\n",
       "    <tr>\n",
       "      <th>2006-12-31</th>\n",
       "      <td>-13.115789</td>\n",
       "    </tr>\n",
       "    <tr>\n",
       "      <th>2007-12-31</th>\n",
       "      <td>-22.827411</td>\n",
       "    </tr>\n",
       "    <tr>\n",
       "      <th>2008-12-31</th>\n",
       "      <td>-16.045421</td>\n",
       "    </tr>\n",
       "    <tr>\n",
       "      <th>2009-12-31</th>\n",
       "      <td>0.361039</td>\n",
       "    </tr>\n",
       "    <tr>\n",
       "      <th>2010-12-31</th>\n",
       "      <td>1.513513</td>\n",
       "    </tr>\n",
       "    <tr>\n",
       "      <th>2011-12-31</th>\n",
       "      <td>-3.303555</td>\n",
       "    </tr>\n",
       "    <tr>\n",
       "      <th>2012-12-31</th>\n",
       "      <td>-20.021608</td>\n",
       "    </tr>\n",
       "    <tr>\n",
       "      <th>2013-12-31</th>\n",
       "      <td>-19.842064</td>\n",
       "    </tr>\n",
       "    <tr>\n",
       "      <th>2014-12-31</th>\n",
       "      <td>-8.779434</td>\n",
       "    </tr>\n",
       "    <tr>\n",
       "      <th>2015-12-31</th>\n",
       "      <td>28.256322</td>\n",
       "    </tr>\n",
       "    <tr>\n",
       "      <th>2016-12-31</th>\n",
       "      <td>16.996620</td>\n",
       "    </tr>\n",
       "    <tr>\n",
       "      <th>2017-12-31</th>\n",
       "      <td>-6.108996</td>\n",
       "    </tr>\n",
       "    <tr>\n",
       "      <th>2018-12-31</th>\n",
       "      <td>-54.665786</td>\n",
       "    </tr>\n",
       "    <tr>\n",
       "      <th>2019-12-31</th>\n",
       "      <td>-38.419836</td>\n",
       "    </tr>\n",
       "    <tr>\n",
       "      <th>2020-12-31</th>\n",
       "      <td>-21.337146</td>\n",
       "    </tr>\n",
       "    <tr>\n",
       "      <th>2021-12-31</th>\n",
       "      <td>NaN</td>\n",
       "    </tr>\n",
       "  </tbody>\n",
       "</table>\n",
       "</div>"
      ],
      "text/plain": [
       "                 awap\n",
       "2001-12-31 -24.662051\n",
       "2002-12-31 -26.494706\n",
       "2003-12-31 -27.339301\n",
       "2004-12-31  -6.167909\n",
       "2005-12-31 -14.917671\n",
       "2006-12-31 -13.115789\n",
       "2007-12-31 -22.827411\n",
       "2008-12-31 -16.045421\n",
       "2009-12-31   0.361039\n",
       "2010-12-31   1.513513\n",
       "2011-12-31  -3.303555\n",
       "2012-12-31 -20.021608\n",
       "2013-12-31 -19.842064\n",
       "2014-12-31  -8.779434\n",
       "2015-12-31  28.256322\n",
       "2016-12-31  16.996620\n",
       "2017-12-31  -6.108996\n",
       "2018-12-31 -54.665786\n",
       "2019-12-31 -38.419836\n",
       "2020-12-31 -21.337146\n",
       "2021-12-31        NaN"
      ]
     },
     "execution_count": 55,
     "metadata": {},
     "output_type": "execute_result"
    }
   ],
   "source": [
    "obs_tmp_nyr_perc[obs_tmp.index.year >= 2001]"
   ]
  },
  {
   "cell_type": "code",
   "execution_count": 56,
   "metadata": {},
   "outputs": [
    {
     "data": {
      "text/plain": [
       "DatetimeIndex(['2001-01-01', '2002-01-01', '2003-01-01', '2004-01-01',\n",
       "               '2005-01-01', '2006-01-01', '2007-01-01', '2008-01-01',\n",
       "               '2009-01-01', '2010-01-01', '2011-01-01', '2012-01-01',\n",
       "               '2013-01-01', '2014-01-01', '2015-01-01', '2016-01-01',\n",
       "               '2017-01-01', '2018-01-01', '2019-01-01', '2020-01-01'],\n",
       "              dtype='datetime64[ns]', freq='AS-JAN')"
      ]
     },
     "execution_count": 56,
     "metadata": {},
     "output_type": "execute_result"
    }
   ],
   "source": [
    "pd.date_range('2001', '2020', freq='ys')"
   ]
  },
  {
   "cell_type": "code",
   "execution_count": 57,
   "metadata": {},
   "outputs": [],
   "source": [
    "def bt_regAvg_obs_ch_centered(df_obs, nrepeat = 1000, clim_yrs = [1900, 1959], \n",
    "                              cen_yrs = [2001, 2020], nyr_rol = 3):\n",
    "    '''\n",
    "    In this method, the full historical records is resampled 'nrepeat times' and each time\n",
    "    % change in nyr-year rainfall mean relative to the 'clim_yrs' mean is computed \n",
    "    Only values that are within 'cen_yrs' range is selected to estimate the likelihood.\n",
    "    '''\n",
    "    \n",
    "    np.random.seed(0)\n",
    "    \n",
    "    date_cen = pd.date_range(str(cen_yrs[0]), str(cen_yrs[-1]), freq='ys')\n",
    "    \n",
    "\n",
    "    bt_diff = pd.DataFrame(index = date_cen, columns = np.arange(0, nrepeat), dtype='float')\n",
    "    bt_perc = pd.DataFrame(index = date_cen, columns = np.arange(0, nrepeat), dtype='float')\n",
    "    bt_norm = pd.DataFrame(index = date_cen, columns = np.arange(0, nrepeat), dtype='float')\n",
    "\n",
    "    bt_diff_min = pd.DataFrame(index = np.arange(0, nrepeat), columns =['min'], dtype='float')\n",
    "    bt_perc_min = pd.DataFrame(index = np.arange(0, nrepeat), columns =['min'], dtype='float')\n",
    "    bt_norm_min = pd.DataFrame(index = np.arange(0, nrepeat), columns =['min'], dtype='float')\n",
    "    \n",
    "    df_tmp = df_obs.copy()\n",
    "\n",
    "    ## Bootstrapping the whole time series\n",
    "\n",
    "    for i in range(nrepeat):\n",
    "\n",
    "        # Resample the whole \n",
    "        if i == 0:\n",
    "            X_resample_all = df_tmp.copy()\n",
    "        else:                \n",
    "            X_resample_all = bootstrap_resample(df_tmp)\n",
    "            \n",
    "\n",
    "        # Convert to pandas dataframe to subset abd do all the calculations\n",
    "        X_resample = pd.DataFrame(X_resample_all, index = df_tmp.index)\n",
    "\n",
    "        # Extract the data for climatological period\n",
    "        clim_tmp = X_resample[(X_resample.index.year >= clim_yrs[0]) & (X_resample.index.year <= clim_yrs[1])]\n",
    "        \n",
    "        # Compute the mean and std\n",
    "        clim_tmp_avg = clim_tmp.mean()\n",
    "        \n",
    "#         print(i, obs_tmp_clim_avg)\n",
    "        \n",
    "        clim_tmp_std = clim_tmp.std()\n",
    "        \n",
    "        # Compute the rolling average\n",
    "        obs_tmp_nyr = X_resample.rolling(nyr_rol, center = True).mean()\n",
    "\n",
    "        # Compute the change relative to climatology\n",
    "        obs_tmp_nyr_diff = obs_tmp_nyr - clim_tmp_avg\n",
    "\n",
    "        obs_tmp_nyr_perc = 100 * obs_tmp_nyr_diff / clim_tmp_avg\n",
    "        \n",
    "        obs_tmp_nyr_norm = obs_tmp_nyr_diff / clim_tmp_std\n",
    "\n",
    "\n",
    "        bt_diff.loc[:, i] = obs_tmp_nyr_diff[(obs_tmp_nyr_diff.index.year >= cen_yrs[0]) & \\\n",
    "                                             (obs_tmp_nyr_diff.index.year <= cen_yrs[1])].values\n",
    "        \n",
    "        bt_perc.loc[:, i] = obs_tmp_nyr_perc[(obs_tmp_nyr_perc.index.year >= cen_yrs[0]) & \\\n",
    "                                             (obs_tmp_nyr_perc.index.year <= cen_yrs[1])].values\n",
    "        \n",
    "        bt_norm.loc[:, i] = obs_tmp_nyr_norm[(obs_tmp_nyr_norm.index.year >= cen_yrs[0]) & \\\n",
    "                                             (obs_tmp_nyr_norm.index.year <= cen_yrs[1])].values\n",
    "        \n",
    "        bt_diff_min.loc[i] = obs_tmp_nyr_diff.min().values\n",
    "        bt_perc_min.loc[i] = obs_tmp_nyr_perc.min().values\n",
    "        bt_norm_min.loc[i] = obs_tmp_nyr_norm.min().values\n",
    "        \n",
    "        \n",
    "        del X_resample, clim_tmp, clim_tmp_avg, clim_tmp_std, obs_tmp_nyr\n",
    "        del obs_tmp_nyr_diff, obs_tmp_nyr_perc, obs_tmp_nyr_norm\n",
    "        \n",
    "        # Use full period minimum values\n",
    "        dic_full_min = {'full_min_diff':bt_diff_min, 'full_min_perc':bt_perc_min, 'full_min_norm':bt_norm_min}\n",
    "        \n",
    "        # Use recent period chamges\n",
    "        dic_rec_chg = {'bt_diff':bt_diff, 'bt_perc':bt_perc, 'bt_norm':bt_norm}\n",
    "\n",
    "#     return bt_diff, bt_perc, bt_norm  \n",
    "    return dic_full_min, dic_rec_chg"
   ]
  },
  {
   "cell_type": "code",
   "execution_count": null,
   "metadata": {},
   "outputs": [],
   "source": []
  },
  {
   "cell_type": "code",
   "execution_count": 59,
   "metadata": {},
   "outputs": [],
   "source": [
    "dic_full_min, dic_rec_chg = bt_regAvg_obs_ch_centered(obs_tmp, nrepeat = 10000, clim_yrs = [1900, 1959], \n",
    "                                              cen_yrs = [2001, 2020], nyr_rol = 3)"
   ]
  },
  {
   "cell_type": "code",
   "execution_count": 60,
   "metadata": {},
   "outputs": [],
   "source": [
    "tmp_bt_diff = dic_rec_chg['bt_diff']\n",
    "tmp_bt_perc = dic_rec_chg['bt_perc']\n",
    "tmp_bt_norm = dic_rec_chg['bt_norm']"
   ]
  },
  {
   "cell_type": "code",
   "execution_count": 61,
   "metadata": {},
   "outputs": [
    {
     "data": {
      "text/plain": [
       "<seaborn.axisgrid.FacetGrid at 0x148a1acf35e0>"
      ]
     },
     "execution_count": 61,
     "metadata": {},
     "output_type": "execute_result"
    },
    {
     "data": {
      "image/png": "[encoded data removed]",
      "text/plain": [
       "<Figure size 360x360 with 1 Axes>"
      ]
     },
     "metadata": {
      "needs_background": "light"
     },
     "output_type": "display_data"
    }
   ],
   "source": [
    "sns.displot(tmp_bt_perc.values.flatten())"
   ]
  },
  {
   "cell_type": "code",
   "execution_count": 62,
   "metadata": {},
   "outputs": [
    {
     "data": {
      "text/plain": [
       "-54.66578647691411"
      ]
     },
     "execution_count": 62,
     "metadata": {},
     "output_type": "execute_result"
    }
   ],
   "source": [
    "perR_MB"
   ]
  },
  {
   "cell_type": "code",
   "execution_count": 63,
   "metadata": {},
   "outputs": [],
   "source": [
    "tmp_bt_perc2 = tmp_bt_perc[tmp_bt_perc <= perR_MB]"
   ]
  },
  {
   "cell_type": "code",
   "execution_count": 64,
   "metadata": {},
   "outputs": [
    {
     "data": {
      "text/plain": [
       "77"
      ]
     },
     "execution_count": 64,
     "metadata": {},
     "output_type": "execute_result"
    }
   ],
   "source": [
    "tmp_bt_perc2.count().sum()"
   ]
  },
  {
   "cell_type": "code",
   "execution_count": 65,
   "metadata": {},
   "outputs": [],
   "source": [
    "# tmp_bt_perc2.dropna(how='all', axis=1)"
   ]
  },
  {
   "cell_type": "code",
   "execution_count": 66,
   "metadata": {},
   "outputs": [],
   "source": [
    "# tmp_bt_perc3 = tmp_bt_perc2.dropna(how='all', axis=1)"
   ]
  },
  {
   "cell_type": "code",
   "execution_count": 67,
   "metadata": {},
   "outputs": [],
   "source": [
    "# tmp_bt_perc3_cnt = tmp_bt_perc3.count()"
   ]
  },
  {
   "cell_type": "code",
   "execution_count": 68,
   "metadata": {},
   "outputs": [],
   "source": [
    "# tmp_bt_perc3_cnt"
   ]
  },
  {
   "cell_type": "code",
   "execution_count": 69,
   "metadata": {},
   "outputs": [],
   "source": [
    "# tmp_bt_perc3_cnt[tmp_bt_perc3_cnt > 1]"
   ]
  },
  {
   "cell_type": "code",
   "execution_count": 70,
   "metadata": {},
   "outputs": [],
   "source": [
    "# sum(tmp_bt_perc.values.flatten() <= perR_MB)"
   ]
  },
  {
   "cell_type": "code",
   "execution_count": null,
   "metadata": {},
   "outputs": [],
   "source": []
  },
  {
   "cell_type": "code",
   "execution_count": 71,
   "metadata": {},
   "outputs": [
    {
     "name": "stdout",
     "output_type": "stream",
     "text": [
      "Probability of rainfall change equal\n",
      "to or less than the observed change for any 3-consecutive years between 2001-2020\n",
      "**********************\n",
      "Using perR = 0.038%\n",
      "**********************\n"
     ]
    }
   ],
   "source": [
    "print(\"Probability of rainfall change equal\\nto or less than the observed change for any 3-consecutive years between 2001-2020\")\n",
    "print(\"**********************\")\n",
    "\n",
    "new_prob_perR_MB = 100*sum(tmp_bt_perc.values.flatten() <= perR_MB)/len(tmp_bt_perc.values.flatten())\n",
    "print(\"Using perR = {0:.3f}%\".format(new_prob_perR_MB))\n",
    "print(\"**********************\")\n"
   ]
  },
  {
   "cell_type": "code",
   "execution_count": 72,
   "metadata": {},
   "outputs": [],
   "source": [
    "tmp_bt_perc_min = tmp_bt_perc.min()"
   ]
  },
  {
   "cell_type": "code",
   "execution_count": 73,
   "metadata": {},
   "outputs": [
    {
     "data": {
      "text/plain": [
       "0.72"
      ]
     },
     "execution_count": 73,
     "metadata": {},
     "output_type": "execute_result"
    }
   ],
   "source": [
    "100*len(tmp_bt_perc_min[tmp_bt_perc_min <= perR_MB])/10000"
   ]
  },
  {
   "cell_type": "code",
   "execution_count": 74,
   "metadata": {},
   "outputs": [
    {
     "data": {
      "text/plain": [
       "<seaborn.axisgrid.FacetGrid at 0x148a1ab72820>"
      ]
     },
     "execution_count": 74,
     "metadata": {},
     "output_type": "execute_result"
    },
    {
     "data": {
      "image/png": "[encoded data removed]",
      "text/plain": [
       "<Figure size 360x360 with 1 Axes>"
      ]
     },
     "metadata": {
      "needs_background": "light"
     },
     "output_type": "display_data"
    }
   ],
   "source": [
    "sns.displot(tmp_bt_perc_min.values.flatten())"
   ]
  },
  {
   "cell_type": "code",
   "execution_count": 75,
   "metadata": {},
   "outputs": [],
   "source": [
    "min_bt_diff = dic_full_min['full_min_diff']\n",
    "min_bt_perc = dic_full_min['full_min_perc']\n",
    "min_bt_norm = dic_full_min['full_min_norm']"
   ]
  },
  {
   "cell_type": "code",
   "execution_count": 76,
   "metadata": {},
   "outputs": [
    {
     "data": {
      "text/plain": [
       "<seaborn.axisgrid.FacetGrid at 0x148a1aac7be0>"
      ]
     },
     "execution_count": 76,
     "metadata": {},
     "output_type": "execute_result"
    },
    {
     "data": {
      "image/png": "[encoded data removed]",
      "text/plain": [
       "<Figure size 360x360 with 1 Axes>"
      ]
     },
     "metadata": {
      "needs_background": "light"
     },
     "output_type": "display_data"
    }
   ],
   "source": [
    "sns.displot(min_bt_perc.values.flatten())"
   ]
  },
  {
   "cell_type": "code",
   "execution_count": null,
   "metadata": {},
   "outputs": [],
   "source": []
  },
  {
   "cell_type": "code",
   "execution_count": 77,
   "metadata": {},
   "outputs": [
    {
     "name": "stdout",
     "output_type": "stream",
     "text": [
      "Probability of rainfall change equal\n",
      "to or less than the observed change for the driest 3-consecutive years in historical records\n",
      "**********************\n",
      "Using perR = 3.240%\n",
      "**********************\n"
     ]
    }
   ],
   "source": [
    "print(\"Probability of rainfall change equal\\nto or less than the observed change for the driest 3-consecutive years in historical records\")\n",
    "print(\"**********************\")\n",
    "dry_prob_perR_MB = 100*sum(min_bt_perc.values.flatten() <= perR_MB)/len(min_bt_perc.values.flatten())\n",
    "print(\"Using perR = {0:.3f}%\".format(dry_prob_perR_MB))\n",
    "print(\"**********************\")"
   ]
  },
  {
   "cell_type": "code",
   "execution_count": null,
   "metadata": {},
   "outputs": [],
   "source": []
  },
  {
   "cell_type": "markdown",
   "metadata": {},
   "source": [
    "# USE CMIP6 MODELS"
   ]
  },
  {
   "cell_type": "code",
   "execution_count": 78,
   "metadata": {},
   "outputs": [],
   "source": [
    "pi2MB_cl = pi2MB[(pi2MB.index.month >=smon) & (pi2MB.index.month <=lmon)].resample('A').mean()\n",
    "histMB_cl = histMB[(histMB.index.month >=smon) & (histMB.index.month <=lmon)].resample('A').mean()\n",
    "ssp585MB_cl = ssp585MB[(ssp585MB.index.month >=smon) & (ssp585MB.index.month <=lmon)].resample('A').mean()\n",
    "ssp370MB_cl = ssp370MB[(ssp370MB.index.month >=smon) & (ssp370MB.index.month <=lmon)].resample('A').mean()\n",
    "ssp245MB_cl = ssp245MB[(ssp245MB.index.month >=smon) & (ssp245MB.index.month <=lmon)].resample('A').mean()\n",
    "ssp126MB_cl = ssp126MB[(ssp126MB.index.month >=smon) & (ssp126MB.index.month <=lmon)].resample('A').mean()"
   ]
  },
  {
   "cell_type": "code",
   "execution_count": null,
   "metadata": {},
   "outputs": [],
   "source": []
  },
  {
   "cell_type": "code",
   "execution_count": 79,
   "metadata": {},
   "outputs": [
    {
     "name": "stdout",
     "output_type": "stream",
     "text": [
      "33 28 31 31\n"
     ]
    }
   ],
   "source": [
    "print(len(hist_ssp585_cmod), len(hist_ssp370_cmod), len(hist_ssp245_cmod), len(hist_ssp126_cmod))"
   ]
  },
  {
   "cell_type": "code",
   "execution_count": null,
   "metadata": {},
   "outputs": [],
   "source": []
  },
  {
   "cell_type": "code",
   "execution_count": 80,
   "metadata": {},
   "outputs": [],
   "source": [
    "# COMBINE HIST AND FUTURE SCENARIO\n",
    "dfMB_hist_ssp585_cl = pd.concat((histMB_cl[hist_ssp585_cmod], ssp585MB_cl[hist_ssp585_cmod]), axis=0)\n",
    "dfMB_hist_ssp370_cl = pd.concat((histMB_cl[hist_ssp370_cmod], ssp370MB_cl[hist_ssp370_cmod]), axis=0)\n",
    "dfMB_hist_ssp245_cl = pd.concat((histMB_cl[hist_ssp245_cmod], ssp245MB_cl[hist_ssp245_cmod]), axis=0)\n",
    "dfMB_hist_ssp126_cl = pd.concat((histMB_cl[hist_ssp126_cmod], ssp126MB_cl[hist_ssp126_cmod]), axis=0)\n",
    "\n",
    "# If you want to use common model then comment the above and use this, otherwise use above\n",
    "# dfMB_hist_ssp585_cl = pd.concat((histMB_cl[cmod_all], ssp585MB_cl[cmod_all]), axis=0)\n",
    "# dfMB_hist_ssp370_cl = pd.concat((histMB_cl[cmod_all], ssp370MB_cl[cmod_all]), axis=0)\n",
    "# dfMB_hist_ssp245_cl = pd.concat((histMB_cl[cmod_all], ssp245MB_cl[cmod_all]), axis=0)\n",
    "# dfMB_hist_ssp126_cl = pd.concat((histMB_cl[cmod_all], ssp126MB_cl[cmod_all]), axis=0)"
   ]
  },
  {
   "cell_type": "code",
   "execution_count": 81,
   "metadata": {},
   "outputs": [],
   "source": [
    "# Reindex the piCTL data to do a boot-strapping using the year index\n",
    "pi2MB_cl_adj = pi2MB_cl[pi2_hist_ssp585_cmod].copy()\n",
    "pi2MB_cl_adj.index = pd.period_range(end='2019', periods=len(pi2MB_cl_adj), freq='Y')"
   ]
  },
  {
   "cell_type": "code",
   "execution_count": 82,
   "metadata": {},
   "outputs": [
    {
     "data": {
      "text/plain": [
       "(200, 31)"
      ]
     },
     "execution_count": 82,
     "metadata": {},
     "output_type": "execute_result"
    }
   ],
   "source": [
    "pi2MB_cl_adj.shape"
   ]
  },
  {
   "cell_type": "code",
   "execution_count": 84,
   "metadata": {},
   "outputs": [],
   "source": [
    "# pi2MB_cl_adj"
   ]
  },
  {
   "cell_type": "code",
   "execution_count": 85,
   "metadata": {},
   "outputs": [],
   "source": [
    "# Perform the boot-strapping to estimate the change in rainfall due to internal variability\n",
    "piMB_btDiff, piMB_btPerc, piMB_btNorm = bootstrap_regAvg_data(pi2MB_cl_adj, nrepeat = 1000, \n",
    "                                                                yrExtract=[1901, 1960, 2017, 2019])\n",
    "# piMB_btDiff, piMB_btPerc, piMB_btNorm = bootstrap_regAvg_data_pi(pi2MB_cl, nrepeat = 1000, yrExtract=[120, 60, 117])"
   ]
  },
  {
   "cell_type": "code",
   "execution_count": 86,
   "metadata": {},
   "outputs": [
    {
     "data": {
      "text/plain": [
       "(1000, 31)"
      ]
     },
     "execution_count": 86,
     "metadata": {},
     "output_type": "execute_result"
    }
   ],
   "source": [
    "piMB_btDiff.shape"
   ]
  },
  {
   "cell_type": "code",
   "execution_count": 87,
   "metadata": {},
   "outputs": [],
   "source": [
    "# Vectorize to plot the distribution\n",
    "piMB_btDiff_ar = piMB_btDiff.values.flatten()\n",
    "piMB_btPerc_ar = piMB_btPerc.values.flatten()\n",
    "piMB_btNorm_ar = piMB_btNorm.values.flatten()"
   ]
  },
  {
   "cell_type": "code",
   "execution_count": 88,
   "metadata": {},
   "outputs": [
    {
     "data": {
      "text/plain": [
       "-54.66578647691411"
      ]
     },
     "execution_count": 88,
     "metadata": {},
     "output_type": "execute_result"
    }
   ],
   "source": [
    "perR_MB"
   ]
  },
  {
   "cell_type": "code",
   "execution_count": 89,
   "metadata": {},
   "outputs": [
    {
     "name": "stdout",
     "output_type": "stream",
     "text": [
      "Probability of rainfall change equal to or less than the modelled internal variability over drought regionm\n",
      "**********************\n",
      "Using perR = 0.055%\n",
      "**********************\n"
     ]
    }
   ],
   "source": [
    "# print(\"Probability (%) due to internal variability\")\n",
    "print(\"Probability of rainfall change equal to or less than the modelled internal variability over drought regionm\")\n",
    "print(\"**********************\")\n",
    "\n",
    "probInt_perR_MB = 100*sum(piMB_btPerc_ar <= perR_MB)/len(piMB_btPerc_ar)\n",
    "print(\"Using perR = {0:.3f}%\".format(probInt_perR_MB))\n",
    "\n",
    "print(\"**********************\")"
   ]
  },
  {
   "cell_type": "code",
   "execution_count": 90,
   "metadata": {
    "scrolled": false
   },
   "outputs": [
    {
     "data": {
      "image/png": "[encoded data removed]",
      "text/plain": [
       "<Figure size 374.4x360 with 1 Axes>"
      ]
     },
     "metadata": {
      "needs_background": "light"
     },
     "output_type": "display_data"
    }
   ],
   "source": [
    "# Comparison of bootstrapped distributions from obs. and piControl models\n",
    "\n",
    "f, ax = plt.subplots(1, figsize=(5.20, 5))\n",
    "sns.kdeplot(piMB_btPerc_ar, fill=True, ax=ax, palette='gray')\n",
    "sns.kdeplot(boot_data[reg].values.flatten(), fill=False, ax=ax, color='black')\n",
    "\n",
    "plt.show()\n",
    "plt.close()\n"
   ]
  },
  {
   "cell_type": "code",
   "execution_count": 91,
   "metadata": {},
   "outputs": [],
   "source": [
    "# boot_data.columns"
   ]
  },
  {
   "cell_type": "code",
   "execution_count": 92,
   "metadata": {},
   "outputs": [],
   "source": [
    "sy_all = 1900\n",
    "ly_all = 2019\n",
    "\n",
    "id_syear = 1959\n",
    "id_myear = 2017\n",
    "id_lyear = 2019"
   ]
  },
  {
   "cell_type": "code",
   "execution_count": 93,
   "metadata": {},
   "outputs": [
    {
     "data": {
      "text/plain": [
       "awap    2.783922\n",
       "dtype: float64"
      ]
     },
     "execution_count": 93,
     "metadata": {},
     "output_type": "execute_result"
    }
   ],
   "source": [
    "awapMB_cl.rolling(10,  center=True).mean()[awapMB_cl.index.year <= id_syear].std()"
   ]
  },
  {
   "cell_type": "code",
   "execution_count": 94,
   "metadata": {},
   "outputs": [],
   "source": [
    "def df_mean_sigma(df_tmp):\n",
    "    piMeans = df_tmp.mean()\n",
    "    piStd = df_tmp.std()\n",
    "    pi_stat = pd.DataFrame({'mu':piMeans.values, 'sigma':piStd.values}, index=piMeans.index)\n",
    "    \n",
    "    return pi_stat"
   ]
  },
  {
   "cell_type": "code",
   "execution_count": 95,
   "metadata": {},
   "outputs": [],
   "source": [
    "# Key stats for 1900 -1959 periods, for awap and for historical runs\n",
    "awapMB_mu_std60 = df_mean_sigma(awapMB_cl[awapMB_cl.index.year <= id_syear])\n",
    "\n",
    "comb585MB_mu_std60 = df_mean_sigma(dfMB_hist_ssp585_cl[dfMB_hist_ssp585_cl.index.year <= id_syear])\n",
    "comb370MB_mu_std60 = df_mean_sigma(dfMB_hist_ssp370_cl[dfMB_hist_ssp370_cl.index.year <= id_syear])\n",
    "comb245MB_mu_std60 = df_mean_sigma(dfMB_hist_ssp245_cl[dfMB_hist_ssp245_cl.index.year <= id_syear])\n",
    "comb126MB_mu_std60 = df_mean_sigma(dfMB_hist_ssp126_cl[dfMB_hist_ssp126_cl.index.year <= id_syear])\n",
    "\n",
    "\n",
    "# Key stats for recent 3Years (2017 -2019) period, for awap and for historical runs\n",
    "awapMB_mu_std20 = df_mean_sigma(awapMB_cl[(awapMB_cl.index.year >= id_myear) &\n",
    "                                                 (awapMB_cl.index.year <= id_lyear)])\n",
    "\n",
    "comb585MB_mu_std20 = df_mean_sigma(dfMB_hist_ssp585_cl[(dfMB_hist_ssp585_cl.index.year >= id_myear) &\n",
    "                                                 (dfMB_hist_ssp585_cl.index.year <= id_lyear)])\n",
    "\n",
    "comb370MB_mu_std20 = df_mean_sigma(dfMB_hist_ssp370_cl[(dfMB_hist_ssp370_cl.index.year >= id_myear) &\n",
    "                                                 (dfMB_hist_ssp370_cl.index.year <= id_lyear)])\n",
    "\n",
    "comb245MB_mu_std20 = df_mean_sigma(dfMB_hist_ssp245_cl[(dfMB_hist_ssp245_cl.index.year >= id_myear) &\n",
    "                                                 (dfMB_hist_ssp245_cl.index.year <= id_lyear)])\n",
    "\n",
    "comb126MB_mu_std20 = df_mean_sigma(dfMB_hist_ssp126_cl[(dfMB_hist_ssp126_cl.index.year >= id_myear) &\n",
    "                                                 (dfMB_hist_ssp126_cl.index.year <= id_lyear)])"
   ]
  },
  {
   "cell_type": "code",
   "execution_count": null,
   "metadata": {},
   "outputs": [],
   "source": []
  },
  {
   "cell_type": "code",
   "execution_count": null,
   "metadata": {},
   "outputs": [],
   "source": []
  },
  {
   "cell_type": "code",
   "execution_count": 96,
   "metadata": {},
   "outputs": [],
   "source": [
    "MBVic_dic = {'awap_mu_std60':awapMB_mu_std60, \n",
    "             'comb585_mu_std60':comb585MB_mu_std60,\n",
    "             'comb370_mu_std60':comb370MB_mu_std60,\n",
    "             'comb245_mu_std60':comb245MB_mu_std60,\n",
    "             'comb126_mu_std60':comb126MB_mu_std60,\n",
    "             'awap_mu_std20':awapMB_mu_std20, \n",
    "             'comb585_mu_std20':comb585MB_mu_std20,\n",
    "             'comb370_mu_std20':comb370MB_mu_std20,\n",
    "             'comb245_mu_std20':comb245MB_mu_std20,\n",
    "             'comb126_mu_std20':comb126MB_mu_std20}"
   ]
  },
  {
   "cell_type": "code",
   "execution_count": null,
   "metadata": {},
   "outputs": [],
   "source": []
  },
  {
   "cell_type": "code",
   "execution_count": 97,
   "metadata": {},
   "outputs": [
    {
     "data": {
      "text/plain": [
       "dict_keys(['awap_mu_std60', 'comb585_mu_std60', 'comb370_mu_std60', 'comb245_mu_std60', 'comb126_mu_std60', 'awap_mu_std20', 'comb585_mu_std20', 'comb370_mu_std20', 'comb245_mu_std20', 'comb126_mu_std20'])"
      ]
     },
     "execution_count": 97,
     "metadata": {},
     "output_type": "execute_result"
    }
   ],
   "source": [
    "MBVic_dic.keys()"
   ]
  },
  {
   "cell_type": "code",
   "execution_count": 98,
   "metadata": {},
   "outputs": [
    {
     "data": {
      "text/html": [
       "<div>\n",
       "<style scoped>\n",
       "    .dataframe tbody tr th:only-of-type {\n",
       "        vertical-align: middle;\n",
       "    }\n",
       "\n",
       "    .dataframe tbody tr th {\n",
       "        vertical-align: top;\n",
       "    }\n",
       "\n",
       "    .dataframe thead th {\n",
       "        text-align: right;\n",
       "    }\n",
       "</style>\n",
       "<table border=\"1\" class=\"dataframe\">\n",
       "  <thead>\n",
       "    <tr style=\"text-align: right;\">\n",
       "      <th></th>\n",
       "      <th>mu</th>\n",
       "      <th>sigma</th>\n",
       "    </tr>\n",
       "  </thead>\n",
       "  <tbody>\n",
       "    <tr>\n",
       "      <th>awap</th>\n",
       "      <td>31.588718</td>\n",
       "      <td>9.643563</td>\n",
       "    </tr>\n",
       "  </tbody>\n",
       "</table>\n",
       "</div>"
      ],
      "text/plain": [
       "             mu     sigma\n",
       "awap  31.588718  9.643563"
      ]
     },
     "execution_count": 98,
     "metadata": {},
     "output_type": "execute_result"
    }
   ],
   "source": [
    "MBVic_dic['awap_mu_std60']"
   ]
  },
  {
   "cell_type": "code",
   "execution_count": null,
   "metadata": {},
   "outputs": [],
   "source": []
  },
  {
   "cell_type": "code",
   "execution_count": null,
   "metadata": {},
   "outputs": [],
   "source": []
  },
  {
   "cell_type": "code",
   "execution_count": 99,
   "metadata": {},
   "outputs": [],
   "source": [
    "import string\n",
    "# import matplotlib \n",
    "# matplotlib.rc('xtick', labelsize=12) \n",
    "# matplotlib.rc('ytick', labelsize=12) \n",
    "\n",
    "import warnings\n",
    "warnings.simplefilter(action='ignore', category=FutureWarning)"
   ]
  },
  {
   "cell_type": "code",
   "execution_count": null,
   "metadata": {},
   "outputs": [],
   "source": []
  },
  {
   "cell_type": "code",
   "execution_count": 100,
   "metadata": {},
   "outputs": [],
   "source": [
    "def get_perctage_of_models_with_same_sign(df_in, stat='median'):\n",
    "    \n",
    "    if stat == 'median':\n",
    "        med_dat = df_in.median()\n",
    "    \n",
    "    num_same_sgn = df_in[np.sign(df_in) == np.sign(med_dat)].shape[0]\n",
    "    \n",
    "    num_models = df_in.shape[0]\n",
    "    perc_same_sgn = 100 * num_same_sgn/num_models\n",
    "    pr1 = np.round(perc_same_sgn/100, decimals=2)\n",
    "    pr11 = int(pr1*100)\n",
    "    \n",
    "    return num_models, pr11\n",
    "    \n",
    "    "
   ]
  },
  {
   "cell_type": "code",
   "execution_count": 101,
   "metadata": {},
   "outputs": [],
   "source": [
    "data_dic = MBVic_dic.copy()"
   ]
  },
  {
   "cell_type": "code",
   "execution_count": null,
   "metadata": {},
   "outputs": [],
   "source": []
  },
  {
   "cell_type": "code",
   "execution_count": 102,
   "metadata": {},
   "outputs": [],
   "source": [
    "reg = 'TBDreg'"
   ]
  },
  {
   "cell_type": "code",
   "execution_count": null,
   "metadata": {},
   "outputs": [],
   "source": []
  },
  {
   "cell_type": "code",
   "execution_count": null,
   "metadata": {},
   "outputs": [],
   "source": []
  },
  {
   "cell_type": "code",
   "execution_count": 103,
   "metadata": {},
   "outputs": [],
   "source": [
    "# Climatology \n",
    "\n",
    "dfMB_hist_ssp585_cl_clim = dfMB_hist_ssp585_cl[(dfMB_hist_ssp585_cl.index.year>=1900) & \\\n",
    "                                               (dfMB_hist_ssp585_cl.index.year<=1959)].mean()\n",
    "\n",
    "dfMB_hist_ssp370_cl_clim = dfMB_hist_ssp370_cl[(dfMB_hist_ssp370_cl.index.year>=1900) & \\\n",
    "                                               (dfMB_hist_ssp370_cl.index.year<=1959)].mean()\n",
    "\n",
    "dfMB_hist_ssp245_cl_clim = dfMB_hist_ssp245_cl[(dfMB_hist_ssp245_cl.index.year>=1900) & \\\n",
    "                                               (dfMB_hist_ssp245_cl.index.year<=1959)].mean()\n",
    "\n",
    "dfMB_hist_ssp126_cl_clim = dfMB_hist_ssp126_cl[(dfMB_hist_ssp126_cl.index.year>=1900) & \\\n",
    "                                               (dfMB_hist_ssp126_cl.index.year<=1959)].mean()"
   ]
  },
  {
   "cell_type": "code",
   "execution_count": null,
   "metadata": {},
   "outputs": [],
   "source": []
  },
  {
   "cell_type": "code",
   "execution_count": null,
   "metadata": {},
   "outputs": [],
   "source": []
  },
  {
   "cell_type": "code",
   "execution_count": 104,
   "metadata": {},
   "outputs": [],
   "source": [
    "dfMB_hist_ssp585_cl_3y = dfMB_hist_ssp585_cl.rolling(3, center= True ).mean()\n",
    "dfMB_hist_ssp370_cl_3y = dfMB_hist_ssp370_cl.rolling(3, center= True ).mean()\n",
    "dfMB_hist_ssp245_cl_3y = dfMB_hist_ssp245_cl.rolling(3, center= True ).mean()\n",
    "dfMB_hist_ssp126_cl_3y = dfMB_hist_ssp126_cl.rolling(3, center= True ).mean()"
   ]
  },
  {
   "cell_type": "code",
   "execution_count": 105,
   "metadata": {},
   "outputs": [],
   "source": [
    "# dfMB_hist_ssp585_cl_3y"
   ]
  },
  {
   "cell_type": "code",
   "execution_count": null,
   "metadata": {},
   "outputs": [],
   "source": []
  },
  {
   "cell_type": "code",
   "execution_count": 106,
   "metadata": {},
   "outputs": [],
   "source": [
    "# Anomaly\n",
    "dfMB_hist_ssp585_cl_3y_anom = dfMB_hist_ssp585_cl_3y - dfMB_hist_ssp585_cl_clim\n",
    "dfMB_hist_ssp370_cl_3y_anom = dfMB_hist_ssp370_cl_3y - dfMB_hist_ssp370_cl_clim\n",
    "dfMB_hist_ssp245_cl_3y_anom = dfMB_hist_ssp245_cl_3y - dfMB_hist_ssp245_cl_clim\n",
    "dfMB_hist_ssp126_cl_3y_anom = dfMB_hist_ssp126_cl_3y - dfMB_hist_ssp126_cl_clim"
   ]
  },
  {
   "cell_type": "code",
   "execution_count": 108,
   "metadata": {},
   "outputs": [],
   "source": [
    "# dfMB_hist_ssp585_cl_3y_anom"
   ]
  },
  {
   "cell_type": "code",
   "execution_count": null,
   "metadata": {},
   "outputs": [],
   "source": []
  },
  {
   "cell_type": "code",
   "execution_count": null,
   "metadata": {},
   "outputs": [],
   "source": []
  },
  {
   "cell_type": "code",
   "execution_count": 109,
   "metadata": {},
   "outputs": [],
   "source": [
    "# % Change in 3-year mean rainfall\n",
    "dfMB_hist_ssp585_cl_3y_perc = 100 * dfMB_hist_ssp585_cl_3y_anom / dfMB_hist_ssp585_cl_clim\n",
    "dfMB_hist_ssp370_cl_3y_perc = 100 * dfMB_hist_ssp370_cl_3y_anom / dfMB_hist_ssp370_cl_clim\n",
    "dfMB_hist_ssp245_cl_3y_perc = 100 * dfMB_hist_ssp245_cl_3y_anom / dfMB_hist_ssp245_cl_clim\n",
    "dfMB_hist_ssp126_cl_3y_perc = 100 * dfMB_hist_ssp126_cl_3y_anom / dfMB_hist_ssp126_cl_clim"
   ]
  },
  {
   "cell_type": "code",
   "execution_count": null,
   "metadata": {},
   "outputs": [],
   "source": []
  },
  {
   "cell_type": "code",
   "execution_count": 110,
   "metadata": {},
   "outputs": [],
   "source": [
    "# dfMB_hist_ssp585_cl_3y_perc[(dfMB_hist_ssp585_cl_3y_perc.index.year==2018)].transpose()"
   ]
  },
  {
   "cell_type": "code",
   "execution_count": 111,
   "metadata": {},
   "outputs": [],
   "source": [
    "# 100*(comb585_mu_std20.mu - comb585_mu_std60.mu)/comb585_mu_std60.mu.values"
   ]
  },
  {
   "cell_type": "code",
   "execution_count": null,
   "metadata": {},
   "outputs": [],
   "source": []
  },
  {
   "cell_type": "markdown",
   "metadata": {},
   "source": [
    "\"\"\"\n",
    "1. In addition to the SSPs for 2017-2019, we could also pull out the rainfall anomalies for the driest 3 consecutive \n",
    "cool seasons during the decade surrounding the actual drought (ie. between 2014-2023). \n",
    "That would then be combining a dry period of natural variability with the representative anthropogenic component.\n",
    "\"\"\"\n"
   ]
  },
  {
   "cell_type": "code",
   "execution_count": 112,
   "metadata": {},
   "outputs": [],
   "source": [
    "rct_SPP585 = dfMB_hist_ssp585_cl_3y_perc[(dfMB_hist_ssp585_cl_3y_perc.index.year>=2014) & \\\n",
    "                                        (dfMB_hist_ssp585_cl_3y_perc.index.year<=2023)]#.values.flatten()\n",
    "\n",
    "rct_SPP370 = dfMB_hist_ssp370_cl_3y_perc[(dfMB_hist_ssp370_cl_3y_perc.index.year>=2014) & \\\n",
    "                                        (dfMB_hist_ssp370_cl_3y_perc.index.year<=2023)]#.values.flatten()\n",
    "\n",
    "rct_SPP245 = dfMB_hist_ssp245_cl_3y_perc[(dfMB_hist_ssp245_cl_3y_perc.index.year>=2014) & \\\n",
    "                                        (dfMB_hist_ssp245_cl_3y_perc.index.year<=2023)]#.values.flatten()\n",
    "\n",
    "rct_SPP126 = dfMB_hist_ssp126_cl_3y_perc[(dfMB_hist_ssp126_cl_3y_perc.index.year>=2014) & \\\n",
    "                                        (dfMB_hist_ssp126_cl_3y_perc.index.year<=2023)]#.values.flatten()"
   ]
  },
  {
   "cell_type": "code",
   "execution_count": 113,
   "metadata": {},
   "outputs": [],
   "source": [
    "# rct_SPP585"
   ]
  },
  {
   "cell_type": "code",
   "execution_count": 114,
   "metadata": {},
   "outputs": [],
   "source": [
    "# rct_SPP585[rct_SPP585 > 0]"
   ]
  },
  {
   "cell_type": "code",
   "execution_count": 115,
   "metadata": {},
   "outputs": [
    {
     "data": {
      "text/plain": [
       "MPI-ESM1-2-LR      -53.539762\n",
       "NorESM2-MM         -51.929807\n",
       "MPI-ESM1-2-HR      -47.694619\n",
       "CESM2-WACCM        -46.952531\n",
       "ACCESS-CM2         -41.816886\n",
       "CMCC-ESM2          -41.330445\n",
       "AWI-CM-1-1-MR      -38.270122\n",
       "EC-Earth3          -38.019475\n",
       "EC-Earth3-Veg      -36.989889\n",
       "CAS-ESM2-0         -36.673952\n",
       "CMCC-CM2-SR5       -36.123434\n",
       "TaiESM1            -35.733373\n",
       "NorESM2-LM         -34.136395\n",
       "GFDL-ESM4          -34.072388\n",
       "FIO-ESM-2-0        -32.154014\n",
       "GFDL-CM4           -31.388830\n",
       "BCC-CSM2-MR        -30.159777\n",
       "MRI-ESM2-0         -29.566990\n",
       "INM-CM5-0          -27.292204\n",
       "CIESM              -25.793603\n",
       "FGOALS-g3          -23.962875\n",
       "EC-Earth3-CC       -22.518449\n",
       "IPSL-CM6A-LR       -16.921616\n",
       "EC-Earth3-Veg-LR   -16.330134\n",
       "ACCESS-ESM1-5      -15.734610\n",
       "CanESM5            -15.664041\n",
       "KACE-1-0-G         -13.315131\n",
       "NESM3              -13.036465\n",
       "INM-CM4-8          -11.487555\n",
       "E3SM-1-1            -8.194552\n",
       "MIROC6              -3.620349\n",
       "CESM2               -1.146360\n",
       "FGOALS-f3-L         11.683182\n",
       "dtype: float64"
      ]
     },
     "execution_count": 115,
     "metadata": {},
     "output_type": "execute_result"
    }
   ],
   "source": [
    "rct_SPP585.min().sort_values()"
   ]
  },
  {
   "cell_type": "code",
   "execution_count": 116,
   "metadata": {},
   "outputs": [],
   "source": [
    "# rct_SPP585['FGOALS-f3-L']"
   ]
  },
  {
   "cell_type": "code",
   "execution_count": null,
   "metadata": {},
   "outputs": [],
   "source": []
  },
  {
   "cell_type": "code",
   "execution_count": 117,
   "metadata": {},
   "outputs": [
    {
     "data": {
      "text/html": [
       "<div>\n",
       "<style scoped>\n",
       "    .dataframe tbody tr th:only-of-type {\n",
       "        vertical-align: middle;\n",
       "    }\n",
       "\n",
       "    .dataframe tbody tr th {\n",
       "        vertical-align: top;\n",
       "    }\n",
       "\n",
       "    .dataframe thead th {\n",
       "        text-align: right;\n",
       "    }\n",
       "</style>\n",
       "<table border=\"1\" class=\"dataframe\">\n",
       "  <thead>\n",
       "    <tr style=\"text-align: right;\">\n",
       "      <th></th>\n",
       "      <th>0</th>\n",
       "      <th>1</th>\n",
       "      <th>2</th>\n",
       "      <th>3</th>\n",
       "    </tr>\n",
       "  </thead>\n",
       "  <tbody>\n",
       "    <tr>\n",
       "      <th>ACCESS-CM2</th>\n",
       "      <td>-41.816886</td>\n",
       "      <td>-38.854361</td>\n",
       "      <td>-26.128346</td>\n",
       "      <td>-30.934924</td>\n",
       "    </tr>\n",
       "    <tr>\n",
       "      <th>ACCESS-ESM1-5</th>\n",
       "      <td>-15.734610</td>\n",
       "      <td>-47.288349</td>\n",
       "      <td>-28.908157</td>\n",
       "      <td>-27.083382</td>\n",
       "    </tr>\n",
       "    <tr>\n",
       "      <th>AWI-CM-1-1-MR</th>\n",
       "      <td>-38.270122</td>\n",
       "      <td>-24.357074</td>\n",
       "      <td>-40.301900</td>\n",
       "      <td>-30.263335</td>\n",
       "    </tr>\n",
       "    <tr>\n",
       "      <th>BCC-CSM2-MR</th>\n",
       "      <td>-30.159777</td>\n",
       "      <td>-11.103620</td>\n",
       "      <td>-18.382816</td>\n",
       "      <td>-8.748397</td>\n",
       "    </tr>\n",
       "    <tr>\n",
       "      <th>CanESM5</th>\n",
       "      <td>-15.664041</td>\n",
       "      <td>-20.888786</td>\n",
       "      <td>-30.742725</td>\n",
       "      <td>-33.200452</td>\n",
       "    </tr>\n",
       "    <tr>\n",
       "      <th>CAS-ESM2-0</th>\n",
       "      <td>-36.673952</td>\n",
       "      <td>-11.199672</td>\n",
       "      <td>-13.530787</td>\n",
       "      <td>-13.950629</td>\n",
       "    </tr>\n",
       "    <tr>\n",
       "      <th>CESM2-WACCM</th>\n",
       "      <td>-46.952531</td>\n",
       "      <td>-47.058717</td>\n",
       "      <td>-34.665557</td>\n",
       "      <td>-29.652745</td>\n",
       "    </tr>\n",
       "    <tr>\n",
       "      <th>CESM2</th>\n",
       "      <td>-1.146360</td>\n",
       "      <td>NaN</td>\n",
       "      <td>NaN</td>\n",
       "      <td>-13.324522</td>\n",
       "    </tr>\n",
       "    <tr>\n",
       "      <th>CIESM</th>\n",
       "      <td>-25.793603</td>\n",
       "      <td>NaN</td>\n",
       "      <td>-51.805043</td>\n",
       "      <td>-39.182202</td>\n",
       "    </tr>\n",
       "    <tr>\n",
       "      <th>CMCC-CM2-SR5</th>\n",
       "      <td>-36.123434</td>\n",
       "      <td>-18.448882</td>\n",
       "      <td>-35.607250</td>\n",
       "      <td>-41.334910</td>\n",
       "    </tr>\n",
       "    <tr>\n",
       "      <th>CMCC-ESM2</th>\n",
       "      <td>-41.330445</td>\n",
       "      <td>-33.214091</td>\n",
       "      <td>-31.257177</td>\n",
       "      <td>-45.269502</td>\n",
       "    </tr>\n",
       "    <tr>\n",
       "      <th>E3SM-1-1</th>\n",
       "      <td>-8.194552</td>\n",
       "      <td>NaN</td>\n",
       "      <td>NaN</td>\n",
       "      <td>NaN</td>\n",
       "    </tr>\n",
       "    <tr>\n",
       "      <th>EC-Earth3-CC</th>\n",
       "      <td>-22.518449</td>\n",
       "      <td>NaN</td>\n",
       "      <td>-35.357094</td>\n",
       "      <td>NaN</td>\n",
       "    </tr>\n",
       "    <tr>\n",
       "      <th>EC-Earth3-Veg-LR</th>\n",
       "      <td>-16.330134</td>\n",
       "      <td>-35.529113</td>\n",
       "      <td>-31.291219</td>\n",
       "      <td>-21.900687</td>\n",
       "    </tr>\n",
       "    <tr>\n",
       "      <th>EC-Earth3-Veg</th>\n",
       "      <td>-36.989889</td>\n",
       "      <td>-42.490092</td>\n",
       "      <td>-55.036508</td>\n",
       "      <td>-35.522660</td>\n",
       "    </tr>\n",
       "    <tr>\n",
       "      <th>EC-Earth3</th>\n",
       "      <td>-38.019475</td>\n",
       "      <td>-38.650247</td>\n",
       "      <td>-42.849978</td>\n",
       "      <td>-50.716718</td>\n",
       "    </tr>\n",
       "    <tr>\n",
       "      <th>FGOALS-f3-L</th>\n",
       "      <td>11.683182</td>\n",
       "      <td>-7.399769</td>\n",
       "      <td>-11.146809</td>\n",
       "      <td>15.659289</td>\n",
       "    </tr>\n",
       "    <tr>\n",
       "      <th>FGOALS-g3</th>\n",
       "      <td>-23.962875</td>\n",
       "      <td>-22.324986</td>\n",
       "      <td>-25.855386</td>\n",
       "      <td>-23.328489</td>\n",
       "    </tr>\n",
       "    <tr>\n",
       "      <th>FIO-ESM-2-0</th>\n",
       "      <td>-32.154014</td>\n",
       "      <td>NaN</td>\n",
       "      <td>-33.262324</td>\n",
       "      <td>-36.514395</td>\n",
       "    </tr>\n",
       "    <tr>\n",
       "      <th>GFDL-CM4</th>\n",
       "      <td>-31.388830</td>\n",
       "      <td>NaN</td>\n",
       "      <td>-7.144589</td>\n",
       "      <td>NaN</td>\n",
       "    </tr>\n",
       "    <tr>\n",
       "      <th>GFDL-ESM4</th>\n",
       "      <td>-34.072388</td>\n",
       "      <td>-48.995785</td>\n",
       "      <td>-28.077572</td>\n",
       "      <td>-21.290146</td>\n",
       "    </tr>\n",
       "    <tr>\n",
       "      <th>INM-CM4-8</th>\n",
       "      <td>-11.487555</td>\n",
       "      <td>-21.440260</td>\n",
       "      <td>-14.415560</td>\n",
       "      <td>-18.365246</td>\n",
       "    </tr>\n",
       "    <tr>\n",
       "      <th>INM-CM5-0</th>\n",
       "      <td>-27.292204</td>\n",
       "      <td>-29.437140</td>\n",
       "      <td>-22.173665</td>\n",
       "      <td>-18.432860</td>\n",
       "    </tr>\n",
       "    <tr>\n",
       "      <th>IPSL-CM6A-LR</th>\n",
       "      <td>-16.921616</td>\n",
       "      <td>-19.892625</td>\n",
       "      <td>-18.227909</td>\n",
       "      <td>-26.827977</td>\n",
       "    </tr>\n",
       "    <tr>\n",
       "      <th>KACE-1-0-G</th>\n",
       "      <td>-13.315131</td>\n",
       "      <td>-20.653389</td>\n",
       "      <td>-43.714282</td>\n",
       "      <td>-41.224234</td>\n",
       "    </tr>\n",
       "    <tr>\n",
       "      <th>MIROC6</th>\n",
       "      <td>-3.620349</td>\n",
       "      <td>-19.149661</td>\n",
       "      <td>-17.216321</td>\n",
       "      <td>-12.401743</td>\n",
       "    </tr>\n",
       "    <tr>\n",
       "      <th>MPI-ESM1-2-HR</th>\n",
       "      <td>-47.694619</td>\n",
       "      <td>-25.677773</td>\n",
       "      <td>-42.522204</td>\n",
       "      <td>-30.036870</td>\n",
       "    </tr>\n",
       "    <tr>\n",
       "      <th>MPI-ESM1-2-LR</th>\n",
       "      <td>-53.539762</td>\n",
       "      <td>-47.370720</td>\n",
       "      <td>-31.803725</td>\n",
       "      <td>-54.453073</td>\n",
       "    </tr>\n",
       "    <tr>\n",
       "      <th>MRI-ESM2-0</th>\n",
       "      <td>-29.566990</td>\n",
       "      <td>-19.106676</td>\n",
       "      <td>-44.480477</td>\n",
       "      <td>-18.534120</td>\n",
       "    </tr>\n",
       "    <tr>\n",
       "      <th>NESM3</th>\n",
       "      <td>-13.036465</td>\n",
       "      <td>NaN</td>\n",
       "      <td>-30.148573</td>\n",
       "      <td>-48.057667</td>\n",
       "    </tr>\n",
       "    <tr>\n",
       "      <th>NorESM2-LM</th>\n",
       "      <td>-34.136395</td>\n",
       "      <td>-30.681926</td>\n",
       "      <td>-9.641649</td>\n",
       "      <td>-40.758697</td>\n",
       "    </tr>\n",
       "    <tr>\n",
       "      <th>NorESM2-MM</th>\n",
       "      <td>-51.929807</td>\n",
       "      <td>-24.025358</td>\n",
       "      <td>-26.072656</td>\n",
       "      <td>-31.603687</td>\n",
       "    </tr>\n",
       "    <tr>\n",
       "      <th>TaiESM1</th>\n",
       "      <td>-35.733373</td>\n",
       "      <td>-30.475451</td>\n",
       "      <td>-25.257599</td>\n",
       "      <td>-20.902154</td>\n",
       "    </tr>\n",
       "    <tr>\n",
       "      <th>EC-Earth3-AerChem</th>\n",
       "      <td>NaN</td>\n",
       "      <td>-23.576020</td>\n",
       "      <td>NaN</td>\n",
       "      <td>NaN</td>\n",
       "    </tr>\n",
       "    <tr>\n",
       "      <th>IPSL-CM5A2-INCA</th>\n",
       "      <td>NaN</td>\n",
       "      <td>-40.542491</td>\n",
       "      <td>NaN</td>\n",
       "      <td>-44.041344</td>\n",
       "    </tr>\n",
       "  </tbody>\n",
       "</table>\n",
       "</div>"
      ],
      "text/plain": [
       "                           0          1          2          3\n",
       "ACCESS-CM2        -41.816886 -38.854361 -26.128346 -30.934924\n",
       "ACCESS-ESM1-5     -15.734610 -47.288349 -28.908157 -27.083382\n",
       "AWI-CM-1-1-MR     -38.270122 -24.357074 -40.301900 -30.263335\n",
       "BCC-CSM2-MR       -30.159777 -11.103620 -18.382816  -8.748397\n",
       "CanESM5           -15.664041 -20.888786 -30.742725 -33.200452\n",
       "CAS-ESM2-0        -36.673952 -11.199672 -13.530787 -13.950629\n",
       "CESM2-WACCM       -46.952531 -47.058717 -34.665557 -29.652745\n",
       "CESM2              -1.146360        NaN        NaN -13.324522\n",
       "CIESM             -25.793603        NaN -51.805043 -39.182202\n",
       "CMCC-CM2-SR5      -36.123434 -18.448882 -35.607250 -41.334910\n",
       "CMCC-ESM2         -41.330445 -33.214091 -31.257177 -45.269502\n",
       "E3SM-1-1           -8.194552        NaN        NaN        NaN\n",
       "EC-Earth3-CC      -22.518449        NaN -35.357094        NaN\n",
       "EC-Earth3-Veg-LR  -16.330134 -35.529113 -31.291219 -21.900687\n",
       "EC-Earth3-Veg     -36.989889 -42.490092 -55.036508 -35.522660\n",
       "EC-Earth3         -38.019475 -38.650247 -42.849978 -50.716718\n",
       "FGOALS-f3-L        11.683182  -7.399769 -11.146809  15.659289\n",
       "FGOALS-g3         -23.962875 -22.324986 -25.855386 -23.328489\n",
       "FIO-ESM-2-0       -32.154014        NaN -33.262324 -36.514395\n",
       "GFDL-CM4          -31.388830        NaN  -7.144589        NaN\n",
       "GFDL-ESM4         -34.072388 -48.995785 -28.077572 -21.290146\n",
       "INM-CM4-8         -11.487555 -21.440260 -14.415560 -18.365246\n",
       "INM-CM5-0         -27.292204 -29.437140 -22.173665 -18.432860\n",
       "IPSL-CM6A-LR      -16.921616 -19.892625 -18.227909 -26.827977\n",
       "KACE-1-0-G        -13.315131 -20.653389 -43.714282 -41.224234\n",
       "MIROC6             -3.620349 -19.149661 -17.216321 -12.401743\n",
       "MPI-ESM1-2-HR     -47.694619 -25.677773 -42.522204 -30.036870\n",
       "MPI-ESM1-2-LR     -53.539762 -47.370720 -31.803725 -54.453073\n",
       "MRI-ESM2-0        -29.566990 -19.106676 -44.480477 -18.534120\n",
       "NESM3             -13.036465        NaN -30.148573 -48.057667\n",
       "NorESM2-LM        -34.136395 -30.681926  -9.641649 -40.758697\n",
       "NorESM2-MM        -51.929807 -24.025358 -26.072656 -31.603687\n",
       "TaiESM1           -35.733373 -30.475451 -25.257599 -20.902154\n",
       "EC-Earth3-AerChem        NaN -23.576020        NaN        NaN\n",
       "IPSL-CM5A2-INCA          NaN -40.542491        NaN -44.041344"
      ]
     },
     "execution_count": 117,
     "metadata": {},
     "output_type": "execute_result"
    }
   ],
   "source": [
    "pd.concat([rct_SPP585.min(), rct_SPP370.min(), rct_SPP245.min(), rct_SPP126.min()], axis=1)"
   ]
  },
  {
   "cell_type": "code",
   "execution_count": null,
   "metadata": {},
   "outputs": [],
   "source": []
  },
  {
   "cell_type": "code",
   "execution_count": null,
   "metadata": {},
   "outputs": [],
   "source": []
  },
  {
   "cell_type": "code",
   "execution_count": null,
   "metadata": {},
   "outputs": [],
   "source": []
  },
  {
   "cell_type": "code",
   "execution_count": 118,
   "metadata": {},
   "outputs": [],
   "source": [
    "# Create a dataframe of driest 3-year during 2014-2023 period under all scenarios\n",
    "df_rct_min = pd.DataFrame.from_dict({'SSP5.85':rct_SPP585.min().values.flatten(), \n",
    "                      'SSP3.70':rct_SPP370.min().values.flatten(),\n",
    "                      'SSP2.45':rct_SPP245.min().values.flatten(),\n",
    "                      'SSP1.26':rct_SPP126.min().values.flatten()}, orient='index').transpose()"
   ]
  },
  {
   "cell_type": "code",
   "execution_count": 119,
   "metadata": {},
   "outputs": [
    {
     "data": {
      "text/html": [
       "<div>\n",
       "<style scoped>\n",
       "    .dataframe tbody tr th:only-of-type {\n",
       "        vertical-align: middle;\n",
       "    }\n",
       "\n",
       "    .dataframe tbody tr th {\n",
       "        vertical-align: top;\n",
       "    }\n",
       "\n",
       "    .dataframe thead th {\n",
       "        text-align: right;\n",
       "    }\n",
       "</style>\n",
       "<table border=\"1\" class=\"dataframe\">\n",
       "  <thead>\n",
       "    <tr style=\"text-align: right;\">\n",
       "      <th></th>\n",
       "      <th>SSP5.85</th>\n",
       "      <th>SSP3.70</th>\n",
       "      <th>SSP2.45</th>\n",
       "      <th>SSP1.26</th>\n",
       "    </tr>\n",
       "  </thead>\n",
       "  <tbody>\n",
       "    <tr>\n",
       "      <th>0</th>\n",
       "      <td>-41.816886</td>\n",
       "      <td>-38.854361</td>\n",
       "      <td>-26.128346</td>\n",
       "      <td>-30.934924</td>\n",
       "    </tr>\n",
       "    <tr>\n",
       "      <th>1</th>\n",
       "      <td>-15.734610</td>\n",
       "      <td>-47.288349</td>\n",
       "      <td>-28.908157</td>\n",
       "      <td>-27.083382</td>\n",
       "    </tr>\n",
       "    <tr>\n",
       "      <th>2</th>\n",
       "      <td>-38.270122</td>\n",
       "      <td>-24.357074</td>\n",
       "      <td>-40.301900</td>\n",
       "      <td>-30.263335</td>\n",
       "    </tr>\n",
       "    <tr>\n",
       "      <th>3</th>\n",
       "      <td>-30.159777</td>\n",
       "      <td>-11.103620</td>\n",
       "      <td>-18.382816</td>\n",
       "      <td>-8.748397</td>\n",
       "    </tr>\n",
       "    <tr>\n",
       "      <th>4</th>\n",
       "      <td>-15.664041</td>\n",
       "      <td>-20.888786</td>\n",
       "      <td>-30.742725</td>\n",
       "      <td>-33.200452</td>\n",
       "    </tr>\n",
       "    <tr>\n",
       "      <th>5</th>\n",
       "      <td>-36.673952</td>\n",
       "      <td>-11.199672</td>\n",
       "      <td>-13.530787</td>\n",
       "      <td>-13.950629</td>\n",
       "    </tr>\n",
       "    <tr>\n",
       "      <th>6</th>\n",
       "      <td>-46.952531</td>\n",
       "      <td>-47.058717</td>\n",
       "      <td>-34.665557</td>\n",
       "      <td>-29.652745</td>\n",
       "    </tr>\n",
       "    <tr>\n",
       "      <th>7</th>\n",
       "      <td>-1.146360</td>\n",
       "      <td>-18.448882</td>\n",
       "      <td>-51.805043</td>\n",
       "      <td>-13.324522</td>\n",
       "    </tr>\n",
       "    <tr>\n",
       "      <th>8</th>\n",
       "      <td>-25.793603</td>\n",
       "      <td>-33.214091</td>\n",
       "      <td>-35.607250</td>\n",
       "      <td>-39.182202</td>\n",
       "    </tr>\n",
       "    <tr>\n",
       "      <th>9</th>\n",
       "      <td>-36.123434</td>\n",
       "      <td>-23.576020</td>\n",
       "      <td>-31.257177</td>\n",
       "      <td>-41.334910</td>\n",
       "    </tr>\n",
       "    <tr>\n",
       "      <th>10</th>\n",
       "      <td>-41.330445</td>\n",
       "      <td>-35.529113</td>\n",
       "      <td>-35.357094</td>\n",
       "      <td>-45.269502</td>\n",
       "    </tr>\n",
       "    <tr>\n",
       "      <th>11</th>\n",
       "      <td>-8.194552</td>\n",
       "      <td>-42.490092</td>\n",
       "      <td>-31.291219</td>\n",
       "      <td>-21.900687</td>\n",
       "    </tr>\n",
       "    <tr>\n",
       "      <th>12</th>\n",
       "      <td>-22.518449</td>\n",
       "      <td>-38.650247</td>\n",
       "      <td>-55.036508</td>\n",
       "      <td>-35.522660</td>\n",
       "    </tr>\n",
       "    <tr>\n",
       "      <th>13</th>\n",
       "      <td>-16.330134</td>\n",
       "      <td>-7.399769</td>\n",
       "      <td>-42.849978</td>\n",
       "      <td>-50.716718</td>\n",
       "    </tr>\n",
       "    <tr>\n",
       "      <th>14</th>\n",
       "      <td>-36.989889</td>\n",
       "      <td>-22.324986</td>\n",
       "      <td>-11.146809</td>\n",
       "      <td>15.659289</td>\n",
       "    </tr>\n",
       "    <tr>\n",
       "      <th>15</th>\n",
       "      <td>-38.019475</td>\n",
       "      <td>-48.995785</td>\n",
       "      <td>-25.855386</td>\n",
       "      <td>-23.328489</td>\n",
       "    </tr>\n",
       "    <tr>\n",
       "      <th>16</th>\n",
       "      <td>11.683182</td>\n",
       "      <td>-21.440260</td>\n",
       "      <td>-33.262324</td>\n",
       "      <td>-36.514395</td>\n",
       "    </tr>\n",
       "    <tr>\n",
       "      <th>17</th>\n",
       "      <td>-23.962875</td>\n",
       "      <td>-29.437140</td>\n",
       "      <td>-7.144589</td>\n",
       "      <td>-21.290146</td>\n",
       "    </tr>\n",
       "    <tr>\n",
       "      <th>18</th>\n",
       "      <td>-32.154014</td>\n",
       "      <td>-40.542491</td>\n",
       "      <td>-28.077572</td>\n",
       "      <td>-18.365246</td>\n",
       "    </tr>\n",
       "    <tr>\n",
       "      <th>19</th>\n",
       "      <td>-31.388830</td>\n",
       "      <td>-19.892625</td>\n",
       "      <td>-14.415560</td>\n",
       "      <td>-18.432860</td>\n",
       "    </tr>\n",
       "    <tr>\n",
       "      <th>20</th>\n",
       "      <td>-34.072388</td>\n",
       "      <td>-20.653389</td>\n",
       "      <td>-22.173665</td>\n",
       "      <td>-44.041344</td>\n",
       "    </tr>\n",
       "    <tr>\n",
       "      <th>21</th>\n",
       "      <td>-11.487555</td>\n",
       "      <td>-19.149661</td>\n",
       "      <td>-18.227909</td>\n",
       "      <td>-26.827977</td>\n",
       "    </tr>\n",
       "    <tr>\n",
       "      <th>22</th>\n",
       "      <td>-27.292204</td>\n",
       "      <td>-25.677773</td>\n",
       "      <td>-43.714282</td>\n",
       "      <td>-41.224234</td>\n",
       "    </tr>\n",
       "    <tr>\n",
       "      <th>23</th>\n",
       "      <td>-16.921616</td>\n",
       "      <td>-47.370720</td>\n",
       "      <td>-17.216321</td>\n",
       "      <td>-12.401743</td>\n",
       "    </tr>\n",
       "    <tr>\n",
       "      <th>24</th>\n",
       "      <td>-13.315131</td>\n",
       "      <td>-19.106676</td>\n",
       "      <td>-42.522204</td>\n",
       "      <td>-30.036870</td>\n",
       "    </tr>\n",
       "    <tr>\n",
       "      <th>25</th>\n",
       "      <td>-3.620349</td>\n",
       "      <td>-30.681926</td>\n",
       "      <td>-31.803725</td>\n",
       "      <td>-54.453073</td>\n",
       "    </tr>\n",
       "    <tr>\n",
       "      <th>26</th>\n",
       "      <td>-47.694619</td>\n",
       "      <td>-24.025358</td>\n",
       "      <td>-44.480477</td>\n",
       "      <td>-18.534120</td>\n",
       "    </tr>\n",
       "    <tr>\n",
       "      <th>27</th>\n",
       "      <td>-53.539762</td>\n",
       "      <td>-30.475451</td>\n",
       "      <td>-30.148573</td>\n",
       "      <td>-48.057667</td>\n",
       "    </tr>\n",
       "    <tr>\n",
       "      <th>28</th>\n",
       "      <td>-29.566990</td>\n",
       "      <td>NaN</td>\n",
       "      <td>-9.641649</td>\n",
       "      <td>-40.758697</td>\n",
       "    </tr>\n",
       "    <tr>\n",
       "      <th>29</th>\n",
       "      <td>-13.036465</td>\n",
       "      <td>NaN</td>\n",
       "      <td>-26.072656</td>\n",
       "      <td>-31.603687</td>\n",
       "    </tr>\n",
       "    <tr>\n",
       "      <th>30</th>\n",
       "      <td>-34.136395</td>\n",
       "      <td>NaN</td>\n",
       "      <td>-25.257599</td>\n",
       "      <td>-20.902154</td>\n",
       "    </tr>\n",
       "    <tr>\n",
       "      <th>31</th>\n",
       "      <td>-51.929807</td>\n",
       "      <td>NaN</td>\n",
       "      <td>NaN</td>\n",
       "      <td>NaN</td>\n",
       "    </tr>\n",
       "    <tr>\n",
       "      <th>32</th>\n",
       "      <td>-35.733373</td>\n",
       "      <td>NaN</td>\n",
       "      <td>NaN</td>\n",
       "      <td>NaN</td>\n",
       "    </tr>\n",
       "  </tbody>\n",
       "</table>\n",
       "</div>"
      ],
      "text/plain": [
       "      SSP5.85    SSP3.70    SSP2.45    SSP1.26\n",
       "0  -41.816886 -38.854361 -26.128346 -30.934924\n",
       "1  -15.734610 -47.288349 -28.908157 -27.083382\n",
       "2  -38.270122 -24.357074 -40.301900 -30.263335\n",
       "3  -30.159777 -11.103620 -18.382816  -8.748397\n",
       "4  -15.664041 -20.888786 -30.742725 -33.200452\n",
       "5  -36.673952 -11.199672 -13.530787 -13.950629\n",
       "6  -46.952531 -47.058717 -34.665557 -29.652745\n",
       "7   -1.146360 -18.448882 -51.805043 -13.324522\n",
       "8  -25.793603 -33.214091 -35.607250 -39.182202\n",
       "9  -36.123434 -23.576020 -31.257177 -41.334910\n",
       "10 -41.330445 -35.529113 -35.357094 -45.269502\n",
       "11  -8.194552 -42.490092 -31.291219 -21.900687\n",
       "12 -22.518449 -38.650247 -55.036508 -35.522660\n",
       "13 -16.330134  -7.399769 -42.849978 -50.716718\n",
       "14 -36.989889 -22.324986 -11.146809  15.659289\n",
       "15 -38.019475 -48.995785 -25.855386 -23.328489\n",
       "16  11.683182 -21.440260 -33.262324 -36.514395\n",
       "17 -23.962875 -29.437140  -7.144589 -21.290146\n",
       "18 -32.154014 -40.542491 -28.077572 -18.365246\n",
       "19 -31.388830 -19.892625 -14.415560 -18.432860\n",
       "20 -34.072388 -20.653389 -22.173665 -44.041344\n",
       "21 -11.487555 -19.149661 -18.227909 -26.827977\n",
       "22 -27.292204 -25.677773 -43.714282 -41.224234\n",
       "23 -16.921616 -47.370720 -17.216321 -12.401743\n",
       "24 -13.315131 -19.106676 -42.522204 -30.036870\n",
       "25  -3.620349 -30.681926 -31.803725 -54.453073\n",
       "26 -47.694619 -24.025358 -44.480477 -18.534120\n",
       "27 -53.539762 -30.475451 -30.148573 -48.057667\n",
       "28 -29.566990        NaN  -9.641649 -40.758697\n",
       "29 -13.036465        NaN -26.072656 -31.603687\n",
       "30 -34.136395        NaN -25.257599 -20.902154\n",
       "31 -51.929807        NaN        NaN        NaN\n",
       "32 -35.733373        NaN        NaN        NaN"
      ]
     },
     "execution_count": 119,
     "metadata": {},
     "output_type": "execute_result"
    }
   ],
   "source": [
    "df_rct_min"
   ]
  },
  {
   "cell_type": "code",
   "execution_count": 120,
   "metadata": {},
   "outputs": [],
   "source": [
    "df_rct_min_all = df_rct_min.values.flatten()\n",
    "df_rct_min_all = df_rct_min_all[~np.isnan(df_rct_min_all)]\n",
    "\n"
   ]
  },
  {
   "cell_type": "code",
   "execution_count": 121,
   "metadata": {},
   "outputs": [
    {
     "data": {
      "text/plain": [
       "array([-55.03650841, -54.45307289, -53.53976217, -51.92980729,\n",
       "       -51.80504271, -50.71671778, -48.99578454, -48.05766696,\n",
       "       -47.69461868, -47.37071969, -47.28834894, -47.05871719,\n",
       "       -46.95253058, -45.26950222, -44.48047684, -44.0413442 ,\n",
       "       -43.71428195, -42.8499779 , -42.52220445, -42.49009222,\n",
       "       -41.81688642, -41.33491006, -41.33044535, -41.22423394,\n",
       "       -40.75869669, -40.54249142, -40.30190043, -39.18220172,\n",
       "       -38.85436104, -38.65024666, -38.27012231, -38.01947457,\n",
       "       -36.98988852, -36.67395219, -36.51439493, -36.12343358,\n",
       "       -35.73337326, -35.60724973, -35.5291132 , -35.52266008,\n",
       "       -35.35709409, -34.66555701, -34.13639468, -34.07238826,\n",
       "       -33.26232425, -33.2140907 , -33.20045193, -32.15401384,\n",
       "       -31.80372549, -31.60368747, -31.38882957, -31.29121898,\n",
       "       -31.25717676, -30.93492394, -30.74272458, -30.68192608,\n",
       "       -30.47545115, -30.26333507, -30.15977665, -30.14857331,\n",
       "       -30.03686973, -29.65274483, -29.56699006, -29.43714   ,\n",
       "       -28.90815685, -28.07757213, -27.29220375, -27.08338234,\n",
       "       -26.82797674, -26.12834614, -26.07265572, -25.855386  ,\n",
       "       -25.79360288, -25.67777275, -25.25759884, -24.3570743 ,\n",
       "       -24.02535797, -23.96287522, -23.57601956, -23.32848926,\n",
       "       -22.51844893, -22.32498638, -22.17366482, -21.90068692,\n",
       "       -21.44026017, -21.29014567, -20.90215407, -20.88878589,\n",
       "       -20.65338906, -19.89262501, -19.14966093, -19.10667633,\n",
       "       -18.53412028, -18.44888192, -18.43285956, -18.38281629,\n",
       "       -18.36524622, -18.22790917, -17.21632126, -16.92161561,\n",
       "       -16.33013383, -15.73461032, -15.66404122, -14.41556019,\n",
       "       -13.95062938, -13.53078706, -13.32452246, -13.31513075,\n",
       "       -13.03646516, -12.40174303, -11.48755456, -11.19967213,\n",
       "       -11.14680932, -11.10362001,  -9.64164944,  -8.74839699,\n",
       "        -8.19455228,  -7.39976865,  -7.14458894,  -3.62034939,\n",
       "        -1.14635961,  11.68318234,  15.65928887])"
      ]
     },
     "execution_count": 121,
     "metadata": {},
     "output_type": "execute_result"
    }
   ],
   "source": [
    "np.sort(df_rct_min_all)"
   ]
  },
  {
   "cell_type": "code",
   "execution_count": 122,
   "metadata": {},
   "outputs": [],
   "source": [
    "dry_pct = np.quantile(df_rct_min_all, q=[0, 0.25, 0.5, 0.75,1])"
   ]
  },
  {
   "cell_type": "code",
   "execution_count": 123,
   "metadata": {},
   "outputs": [
    {
     "data": {
      "text/plain": [
       "array([-55.03650841, -38.14479844, -29.65274483, -18.82039831,\n",
       "        15.65928887])"
      ]
     },
     "execution_count": 123,
     "metadata": {},
     "output_type": "execute_result"
    }
   ],
   "source": [
    "dry_pct"
   ]
  },
  {
   "cell_type": "code",
   "execution_count": null,
   "metadata": {},
   "outputs": [],
   "source": []
  },
  {
   "cell_type": "code",
   "execution_count": 126,
   "metadata": {},
   "outputs": [
    {
     "data": {
      "image/png": "[encoded data removed]",
      "text/plain": [
       "<Figure size 432x576 with 3 Axes>"
      ]
     },
     "metadata": {
      "needs_background": "light"
     },
     "output_type": "display_data"
    }
   ],
   "source": [
    "pi_boot_ar = piMB_btPerc_ar.copy()\n",
    "pi_dis_std = np.std(pi_boot_ar)\n",
    "\n",
    "awap_mu_std20 = data_dic['awap_mu_std20']\n",
    "awap_mu_std60 = data_dic['awap_mu_std60']\n",
    "\n",
    "\n",
    "comb585_mu_std20 = data_dic['comb585_mu_std20']\n",
    "comb370_mu_std20 = data_dic['comb370_mu_std20']\n",
    "comb245_mu_std20 = data_dic['comb245_mu_std20']\n",
    "comb126_mu_std20 = data_dic['comb126_mu_std20']\n",
    "\n",
    "comb585_mu_std60 = data_dic['comb585_mu_std60']\n",
    "comb370_mu_std60 = data_dic['comb370_mu_std60']\n",
    "comb245_mu_std60 = data_dic['comb245_mu_std60']\n",
    "comb126_mu_std60 = data_dic['comb126_mu_std60']\n",
    "\n",
    "\n",
    "obsDiff = 100*(awap_mu_std20.mu - awap_mu_std60.mu).values/awap_mu_std60.mu.values\n",
    "\n",
    "mod585Diff = 100*(comb585_mu_std20.mu - comb585_mu_std60.mu)/comb585_mu_std60.mu.values\n",
    "mod370Diff = 100*(comb370_mu_std20.mu - comb370_mu_std60.mu)/comb370_mu_std60.mu.values\n",
    "mod245Diff = 100*(comb245_mu_std20.mu - comb245_mu_std60.mu)/comb245_mu_std60.mu.values\n",
    "mod126Diff = 100*(comb126_mu_std20.mu - comb126_mu_std60.mu)/comb126_mu_std60.mu.values\n",
    "\n",
    "# Create a dataframe of all the differences\n",
    "df_Diff = pd.concat([mod585Diff, mod370Diff, mod245Diff, mod126Diff], axis=1)\n",
    "df_Diff.columns = ['SSP5.85', 'SSP3.70', 'SSP2.45', 'SSP1.26']\n",
    "\n",
    "\n",
    "df_Diff_all = pd.DataFrame(df_Diff.values.flatten(), columns=['SSPs']).dropna()\n",
    "modDiff = mod585Diff.copy()\n",
    "\n",
    "# Create a dictionary to compute the magnitude of external forcing's contribution\n",
    "stat_table_perc = {}\n",
    "\n",
    "stat_table_perc['obsDiff'] = obsDiff\n",
    "stat_table_perc['mod585Diff'] = mod585Diff\n",
    "stat_table_perc['mod370Diff'] = mod370Diff\n",
    "stat_table_perc['mod245Diff'] = mod245Diff\n",
    "stat_table_perc['mod126Diff'] = mod126Diff\n",
    "\n",
    "\n",
    "xmin = -100\n",
    "xmax = 100\n",
    "nums = int((xmax-xmin)/0.5+1)\n",
    "# nums = (xmax-xmin)+1\n",
    "bins = np.linspace(xmin,xmax,num=nums)\n",
    "\n",
    "wmin = 5\n",
    "wmax = 95\n",
    "\n",
    "c1 = \"#980002\"\n",
    "c2 = \"#df0000\"\n",
    "c3 = \"#f69320\"\n",
    "c4 = \"#4393C3\" #\"#003466\"\n",
    "\n",
    "with plt.style.context('seaborn-paper'):\n",
    "\n",
    "    f, (ax_box, ax_box_dry, ax_hist) = plt.subplots(3, sharex=True, figsize=(6, 8),\n",
    "                                        gridspec_kw={\"height_ratios\": (0.175, 0.175, 0.65)})\n",
    "\n",
    "    ax_box.xaxis.set_tick_params(labelsize=12)\n",
    "    ax_box.yaxis.set_tick_params(labelsize=12)\n",
    "    \n",
    "    sns.boxplot(data = df_Diff_all, orient='h', ax=ax_box, color=c4, whis=(wmin, wmax),\n",
    "                width=0.75, saturation=0.75)\n",
    "#     sns.boxplot(data = df_Diff, orient='h', ax=ax_box, color=None, palette=[c1, c2, c3, c4], whis=(wmin, wmax),\n",
    "#                 width=0.75, saturation=0.75)\n",
    "    ax_box.axvline(obsDiff, linewidth=2, color='r', linestyle='--')\n",
    "#     ax_box.axvline(linewidth=2, color='k', linestyle='--')\n",
    "    ax_box.axvline(linewidth=1, color='gray', linestyle='--')\n",
    "#     ax_box.set_title('Cool (Apr-Sep) season', fontsize=14)\n",
    "    ax_box.set_title('a) 3-year (2017-2019) rainfall change across all scenarios', fontsize=12, loc = 'left')\n",
    "    ax_box.axvspan(-2*pi_dis_std, 2*pi_dis_std, alpha=0.05, color='purple')\n",
    "    ax_box.axvline(0, linewidth=1, color='gray', linestyle='--')\n",
    "    ax_box.axvline(pi_dis_std, linewidth=1, color='k', linestyle='--')\n",
    "    ax_box.axvline(-1*pi_dis_std, linewidth=1, color='k', linestyle='--')\n",
    "    ax_box.axvline(2*pi_dis_std, linewidth=1, color='orange', linestyle='--')\n",
    "    ax_box.axvline(-2*pi_dis_std, linewidth=1, color='orange', linestyle='--')\n",
    "    \n",
    "    \n",
    "    # Add % of models that have same sign as median\n",
    "    \n",
    "    df_Diff_all2 = df_Diff_all.dropna()\n",
    "    len_all = df_Diff_all2.shape[0]\n",
    "    df_Diff_sg_med = df_Diff_all2[np.sign(df_Diff_all2) == np.sign(df_Diff_all2.median()).values[0]].dropna()\n",
    "    \n",
    "    len_sg = df_Diff_sg_med.shape[0]\n",
    "    propPerc_all = int(100 * len_sg / len_all)\n",
    "    \n",
    "#     ax_box.text(xmax-45.5, 0, \"[{0}% of {1}]\".format(str(propPerc_all), str(len_all)), fontsize=12)\n",
    "    \n",
    "#     len_ssp585, propPerc1 = get_perctage_of_models_with_same_sign(mod585Diff, stat = 'median')\n",
    "#     len_ssp370, propPerc2 = get_perctage_of_models_with_same_sign(mod370Diff, stat = 'median')\n",
    "#     len_ssp245, propPerc3 = get_perctage_of_models_with_same_sign(mod245Diff, stat = 'median')\n",
    "#     len_ssp126, propPerc4 = get_perctage_of_models_with_same_sign(mod126Diff, stat = 'median')\n",
    "\n",
    "#     ax_box.text(xmax-38.5, 0, \"[{0} % of {1}]\".format(str(propPerc1), str(len_ssp585)), fontsize=10)\n",
    "#     ax_box.text(xmax-38.5, 1, \"[{0} % of {1}]\".format(str(propPerc2), str(len_ssp370)), fontsize=10)\n",
    "#     ax_box.text(xmax-38.5, 2, \"[{0} % of {1}]\".format(str(propPerc3), str(len_ssp245)), fontsize=10)\n",
    "#     ax_box.text(xmax-38.5, 3, \"[{0} % of {1}]\".format(str(propPerc4), str(len_ssp126)), fontsize=10)\n",
    "    \n",
    "    df_min3_all = pd.DataFrame(df_rct_min_all, columns=['SSPs'])\n",
    "    \n",
    "    ax_box_dry.xaxis.set_tick_params(labelsize=12)\n",
    "    ax_box_dry.yaxis.set_tick_params(labelsize=12)\n",
    "    \n",
    "    sns.boxplot(data = df_min3_all, orient='h', ax=ax_box_dry, color=c3, whis=(wmin, wmax),\n",
    "                width=0.75, saturation=0.75)\n",
    "#     sns.boxplot(data = df_Diff, orient='h', ax=ax_box_dry, color=None, palette=[c1, c2, c3, c4], whis=(wmin, wmax),\n",
    "#                 width=0.75, saturation=0.75)\n",
    "    ax_box_dry.axvline(obsDiff, linewidth=2, color='r', linestyle='--')\n",
    "#     ax_box_dry.axvline(linewidth=2, color='k', linestyle='--')\n",
    "    ax_box_dry.axvline(linewidth=1, color='gray', linestyle='--')\n",
    "#     ax_box_dry.set_title('Cool (Apr-Sep) season', fontsize=14)\n",
    "    ax_box_dry.set_title('b) Driest 3-year during (2014-2023) across all scenarios', fontsize=12, loc = 'left')\n",
    "    ax_box_dry.axvspan(-2*pi_dis_std, 2*pi_dis_std, alpha=0.05, color='purple')\n",
    "    ax_box_dry.axvline(0, linewidth=1, color='gray', linestyle='--')\n",
    "    ax_box_dry.axvline(pi_dis_std, linewidth=1, color='k', linestyle='--')\n",
    "    ax_box_dry.axvline(-1*pi_dis_std, linewidth=1, color='k', linestyle='--')\n",
    "    ax_box_dry.axvline(2*pi_dis_std, linewidth=1, color='orange', linestyle='--')\n",
    "    ax_box_dry.axvline(-2*pi_dis_std, linewidth=1, color='orange', linestyle='--')\n",
    "    \n",
    "\n",
    "    # Plot piControl distribution\n",
    "    \n",
    "    ax_hist.xaxis.set_tick_params(labelsize=12)\n",
    "    ax_hist.yaxis.set_tick_params(labelsize=12)\n",
    "\n",
    "    sns.distplot(pi_boot_ar, bins=100, hist=True, norm_hist=True, ax=ax_hist, kde_kws={ \"color\": \"gray\"}, \n",
    "             hist_kws={\"color\": \"lightgray\", \"alpha\":0.5})\n",
    "    \n",
    "    sns.distplot(pi_boot_ar + df_Diff_all.median().values, bins=100, hist=False, norm_hist=True, ax=ax_hist, \n",
    "                 kde_kws={ \"color\": c4, \"linestyle\":'-'})     \n",
    "    ax_hist.axvline(linewidth=1, color='gray', linestyle='--')\n",
    "    ax_hist.axvline(obsDiff, linewidth=2, color='r', linestyle='--')\n",
    "#     ax_hist.text(0.80, 0.80,\"{0} \".format(reg), fontsize=10, transform=ax_hist.transAxes)\n",
    "    ax_hist.text(0.80, 0.50,\"CMIP6 \\npiControl \", fontsize=10, transform=ax_hist.transAxes)\n",
    "\n",
    "    ax_hist.axvspan(-2*pi_dis_std, 2*pi_dis_std, alpha=0.05, color='purple')\n",
    "    ax_hist.axvline(0, linewidth=1, color='gray', linestyle='--')\n",
    "    ax_hist.axvline(pi_dis_std, linewidth=1, color='k', linestyle='--')\n",
    "    ax_hist.axvline(-1*pi_dis_std, linewidth=1, color='k', linestyle='--')\n",
    "    ax_hist.axvline(2*pi_dis_std, linewidth=1, color='orange', linestyle='--')\n",
    "    ax_hist.axvline(-2*pi_dis_std, linewidth=1, color='orange', linestyle='--')\n",
    "#     ax_hist.set_xlabel('100*('+r'$\\bar {X}_{2017-2019} - \\mu_{1900-1959})/ \\mu_{1900-1959}$',\n",
    "#                        fontsize=12)\n",
    "    ax_hist.set_xlabel(' Percentage change in rainfall ', fontsize=12)\n",
    "#     ax_hist.xaxis.set_minor_locator(plt.MultipleLocator())\n",
    "    ax_hist.xaxis.set_major_locator(plt.MultipleLocator(20))\n",
    "    ax_hist.xaxis.set_minor_locator(plt.MultipleLocator(2))\n",
    "    \n",
    "    ax_hist.set_ylim(0, 0.025)\n",
    "\n",
    "    ax_hist.set_ylabel(\"Density\", fontsize=12)\n",
    "    ax_hist.set_title('c) 3-year rainfall changes during pre-industrial period', fontsize=12, loc = 'left')\n",
    "    plt.xlim(xmin, xmax)\n",
    "    plt.tight_layout()\n",
    "    \n",
    "\n",
    "#     save_png = 'Fig09_V2_ContExtForcing_TinderBox_Drought_and_driest3year.pdf'\n",
    "#     fname_sav = os.path.join(pltDir, save_png)\n",
    "#     plt.savefig(fname_sav, dpi=300, bbox_inches='tight', orientation='portrait')\n",
    "\n",
    "    \n",
    "    plt.show()\n",
    "    plt.close()"
   ]
  },
  {
   "cell_type": "code",
   "execution_count": 127,
   "metadata": {},
   "outputs": [],
   "source": [
    "# fname_sav"
   ]
  },
  {
   "cell_type": "code",
   "execution_count": 128,
   "metadata": {},
   "outputs": [],
   "source": [
    "Hlen = len(stat_table_perc['mod585Diff'])\n",
    "M1len = len(stat_table_perc['mod370Diff'])\n",
    "M2len = len(stat_table_perc['mod245Diff'])\n",
    "Llen = len(stat_table_perc['mod126Diff'])"
   ]
  },
  {
   "cell_type": "code",
   "execution_count": 129,
   "metadata": {},
   "outputs": [
    {
     "name": "stdout",
     "output_type": "stream",
     "text": [
      "33 28 31 31\n"
     ]
    }
   ],
   "source": [
    "print(Hlen, M1len, M2len, Llen)"
   ]
  },
  {
   "cell_type": "code",
   "execution_count": 130,
   "metadata": {},
   "outputs": [],
   "source": [
    "Tlen = Hlen + M1len + M2len + Llen"
   ]
  },
  {
   "cell_type": "code",
   "execution_count": 131,
   "metadata": {},
   "outputs": [
    {
     "data": {
      "text/plain": [
       "123"
      ]
     },
     "execution_count": 131,
     "metadata": {},
     "output_type": "execute_result"
    }
   ],
   "source": [
    "Tlen"
   ]
  },
  {
   "cell_type": "code",
   "execution_count": 132,
   "metadata": {},
   "outputs": [],
   "source": [
    "Hlen_wt, M1len_wt, M2len_wt, Llen_wt = Hlen/Tlen, M1len/Tlen, M2len/Tlen, Llen/Tlen"
   ]
  },
  {
   "cell_type": "code",
   "execution_count": 133,
   "metadata": {},
   "outputs": [
    {
     "name": "stdout",
     "output_type": "stream",
     "text": [
      "0.2682926829268293 0.22764227642276422 0.25203252032520324 0.25203252032520324\n"
     ]
    }
   ],
   "source": [
    "print(Hlen_wt, M1len_wt, M2len_wt, Llen_wt)"
   ]
  },
  {
   "cell_type": "code",
   "execution_count": null,
   "metadata": {},
   "outputs": [],
   "source": []
  },
  {
   "cell_type": "code",
   "execution_count": 134,
   "metadata": {},
   "outputs": [
    {
     "name": "stdout",
     "output_type": "stream",
     "text": [
      "------------------------------------------------------------ ----------------\n",
      "------\n",
      " Observed Change = -54.67%\n",
      " The change for SSP5-8.5 at Q2, (Q1 and Q3) are = -8.43% (-16.53%, 7.66%)\n",
      " The change for SSP3-7.0 at Q2, (Q1 and Q3) are = -15.96% (-19.43%, 8.11%)\n",
      " The change for SSP2-4.5 at Q2, (Q1 and Q3) are = -7.98% (-16.80%, 3.50%)\n",
      " The change for SSP1-2.6 at Q2, (Q1 and Q3) are = -8.53% (-23.70%, 9.72%)\n",
      " The weighted mean at Q2, (Q1 and Q3) are = -10.05% (-19.06%, 7.23%)\n",
      " The relative contribution using Q2, (Q1 and Q3) are = 18.39% (34.87%, -13.23%)\n",
      "------------------------------------------------------------ ----------------\n"
     ]
    }
   ],
   "source": [
    "obs_ch = stat_table_perc['obsDiff']\n",
    "Q1H, Q2H, Q3H = np.quantile(stat_table_perc['mod585Diff'], q = [0.25, 0.5, 0.75])\n",
    "Q1M1, Q2M1, Q3M1 = np.quantile(stat_table_perc['mod370Diff'], q = [0.25, 0.5, 0.75])\n",
    "Q1M2, Q2M2, Q3M2 = np.quantile(stat_table_perc['mod245Diff'], q = [0.25, 0.5, 0.75])\n",
    "Q1L, Q2L, Q3L = np.quantile(stat_table_perc['mod126Diff'], q = [0.25, 0.5, 0.75])\n",
    "\n",
    "# Compute the weithed mean\n",
    "Q1_wt = Hlen_wt*Q1H + M1len_wt*Q1M1 + M2len_wt*Q1M2 + Llen_wt*Q1L\n",
    "Q2_wt = Hlen_wt*Q2H + M1len_wt*Q2M1 + M2len_wt*Q2M2 + Llen_wt*Q2L\n",
    "Q3_wt = Hlen_wt*Q3H + M1len_wt*Q3M1 + M2len_wt*Q3M2 + Llen_wt*Q3L\n",
    "\n",
    "# Comute the % contribution from external forcing\n",
    "CQ1 = 100*Q1_wt/obs_ch[0]\n",
    "CQ2 = 100*Q2_wt/obs_ch[0]\n",
    "CQ3 = 100*Q3_wt/obs_ch[0]\n",
    "\n",
    "print(\"------------------------------------------------------------ ----------------\")\n",
    "\n",
    "print(\"------\")\n",
    "print(\" Observed Change = {0:0.2f}%\".format(obs_ch[0]))\n",
    "print(\" The change for SSP5-8.5 at Q2, (Q1 and Q3) are = {0:0.2f}% ({1:0.2f}%, {2:0.2f}%)\".format(Q2H, Q1H, Q3H))\n",
    "print(\" The change for SSP3-7.0 at Q2, (Q1 and Q3) are = {0:0.2f}% ({1:0.2f}%, {2:0.2f}%)\".format(Q2M1, Q1M1, Q3M1))\n",
    "print(\" The change for SSP2-4.5 at Q2, (Q1 and Q3) are = {0:0.2f}% ({1:0.2f}%, {2:0.2f}%)\".format(Q2M2, Q1M2, Q3M2))\n",
    "print(\" The change for SSP1-2.6 at Q2, (Q1 and Q3) are = {0:0.2f}% ({1:0.2f}%, {2:0.2f}%)\".format(Q2L, Q1L, Q3L))\n",
    "\n",
    "print(\" The weighted mean at Q2, (Q1 and Q3) are = {0:0.2f}% ({1:0.2f}%, {2:0.2f}%)\".format(Q2_wt, Q1_wt, Q3_wt))\n",
    "\n",
    "print(\" The relative contribution using Q2, (Q1 and Q3) are = {0:0.2f}% ({1:0.2f}%, {2:0.2f}%)\".format(CQ2, CQ1, CQ3))\n",
    "print(\"------------------------------------------------------------ ----------------\")"
   ]
  },
  {
   "cell_type": "code",
   "execution_count": null,
   "metadata": {},
   "outputs": [],
   "source": []
  },
  {
   "cell_type": "code",
   "execution_count": 136,
   "metadata": {},
   "outputs": [],
   "source": [
    "# Shifting IVAR distribution left using the anthropogenic contribution"
   ]
  },
  {
   "cell_type": "code",
   "execution_count": 137,
   "metadata": {},
   "outputs": [
    {
     "name": "stdout",
     "output_type": "stream",
     "text": [
      "Probability (%) due to adjusted internal variability\n",
      "Probability of rainfall change equal to or less than \n",
      "the modelled internal variability over drought region\n",
      "**********************\n",
      "Using perR = 0.59%\n",
      "**********\n"
     ]
    }
   ],
   "source": [
    "print(\"Probability (%) due to adjusted internal variability\")\n",
    "print(\"Probability of rainfall change equal to or less than \\nthe modelled internal variability over drought region\")\n",
    "print(\"**********************\")\n",
    "\n",
    "probInt_perR_MB_adj = 100*sum(piMB_btPerc_ar + Q2_wt <= perR_MB)/len(piMB_btPerc_ar)\n",
    "print(\"Using perR = {0:.2f}%\".format(probInt_perR_MB_adj))\n",
    "print(\"**********\")\n"
   ]
  },
  {
   "cell_type": "code",
   "execution_count": null,
   "metadata": {},
   "outputs": [],
   "source": []
  },
  {
   "cell_type": "code",
   "execution_count": 138,
   "metadata": {},
   "outputs": [
    {
     "data": {
      "text/plain": [
       "-54.66578647691411"
      ]
     },
     "execution_count": 138,
     "metadata": {},
     "output_type": "execute_result"
    }
   ],
   "source": [
    "obs_diff"
   ]
  },
  {
   "cell_type": "code",
   "execution_count": 139,
   "metadata": {},
   "outputs": [
    {
     "data": {
      "text/plain": [
       "SSPs    3\n",
       "dtype: int64"
      ]
     },
     "execution_count": 139,
     "metadata": {},
     "output_type": "execute_result"
    }
   ],
   "source": [
    "df_Diff_all[df_Diff_all<-50].count()"
   ]
  },
  {
   "cell_type": "code",
   "execution_count": null,
   "metadata": {},
   "outputs": [],
   "source": []
  },
  {
   "cell_type": "code",
   "execution_count": 140,
   "metadata": {},
   "outputs": [
    {
     "data": {
      "text/plain": [
       "array([-51.80504271, -55.03650841, -50.71671778, -48.99578454,\n",
       "       -54.45307289, -53.53976217, -51.92980729])"
      ]
     },
     "execution_count": 140,
     "metadata": {},
     "output_type": "execute_result"
    }
   ],
   "source": [
    "df_rct_min_all[df_rct_min_all <= np.quantile(df_rct_min_all, q=0.05)]"
   ]
  },
  {
   "cell_type": "code",
   "execution_count": 141,
   "metadata": {},
   "outputs": [],
   "source": [
    "perR_sim_25 = df_Diff_all.quantile(q=0.25).values\n",
    "perR_sim_50 = df_Diff_all.quantile(q=0.50).values\n",
    "perR_sim_75 = df_Diff_all.quantile(q=0.75).values"
   ]
  },
  {
   "cell_type": "code",
   "execution_count": 142,
   "metadata": {},
   "outputs": [
    {
     "name": "stdout",
     "output_type": "stream",
     "text": [
      "[-19.29269555] [-8.76407385] [7.48198339]\n"
     ]
    }
   ],
   "source": [
    "print(perR_sim_25, perR_sim_50, perR_sim_75)"
   ]
  },
  {
   "cell_type": "code",
   "execution_count": 143,
   "metadata": {},
   "outputs": [
    {
     "name": "stdout",
     "output_type": "stream",
     "text": [
      "***SHIFTING IVAR DISTRIBUTION *******\n",
      "Using perR and after adjusting IVAR dist for 25th percentile= 2.581%\n",
      "**********\n"
     ]
    }
   ],
   "source": [
    "print(\"***SHIFTING IVAR DISTRIBUTION *******\")\n",
    "probInt_perR25_MB_1 = 100*sum(piMB_btPerc_ar-np.abs(perR_sim_25) <= perR_MB)/len(piMB_btPerc_ar)\n",
    "print(\"Using perR and after adjusting IVAR dist for 25th percentile= {0:.3f}%\".format(probInt_perR25_MB_1))\n",
    "print(\"**********\")"
   ]
  },
  {
   "cell_type": "code",
   "execution_count": 144,
   "metadata": {},
   "outputs": [
    {
     "name": "stdout",
     "output_type": "stream",
     "text": [
      "***SHIFTING IVAR DISTRIBUTION (This value is used in the paper) *******\n",
      "Using perR and after adjusting IVAR dist for 50th percentile= 0.452%\n",
      "**********\n"
     ]
    }
   ],
   "source": [
    "print(\"***SHIFTING IVAR DISTRIBUTION (This value is used in the paper) *******\")\n",
    "probInt_perR50_MB_1 = 100*sum(piMB_btPerc_ar-np.abs(perR_sim_50) <= perR_MB)/len(piMB_btPerc_ar)\n",
    "print(\"Using perR and after adjusting IVAR dist for 50th percentile= {0:.3f}%\".format(probInt_perR50_MB_1))\n",
    "\n",
    "\n",
    "print(\"**********\")"
   ]
  },
  {
   "cell_type": "code",
   "execution_count": 145,
   "metadata": {},
   "outputs": [
    {
     "name": "stdout",
     "output_type": "stream",
     "text": [
      "***SHIFTING IVAR DISTRIBUTION*******\n",
      "Using perR and after adjusting IVAR dist for 75th percentile= 0.323%\n",
      "**********\n"
     ]
    }
   ],
   "source": [
    "print(\"***SHIFTING IVAR DISTRIBUTION*******\")\n",
    "probInt_perR75_MB_1 = 100*sum(piMB_btPerc_ar-np.abs(perR_sim_75) <= perR_MB)/len(piMB_btPerc_ar)\n",
    "print(\"Using perR and after adjusting IVAR dist for 75th percentile= {0:.3f}%\".format(probInt_perR75_MB_1))\n",
    "print(\"**********\")"
   ]
  },
  {
   "cell_type": "code",
   "execution_count": 146,
   "metadata": {},
   "outputs": [
    {
     "data": {
      "text/plain": [
       "0.054838709677419356"
      ]
     },
     "execution_count": 146,
     "metadata": {},
     "output_type": "execute_result"
    }
   ],
   "source": [
    "100*sum(piMB_btPerc_ar <= perR_MB)/len(piMB_btPerc_ar)"
   ]
  },
  {
   "cell_type": "code",
   "execution_count": 147,
   "metadata": {},
   "outputs": [
    {
     "data": {
      "text/plain": [
       "8.145454545454546"
      ]
     },
     "execution_count": 147,
     "metadata": {},
     "output_type": "execute_result"
    }
   ],
   "source": [
    "0.448/0.055"
   ]
  },
  {
   "cell_type": "code",
   "execution_count": 148,
   "metadata": {},
   "outputs": [],
   "source": [
    "# Estimate the FAR and RR"
   ]
  },
  {
   "cell_type": "code",
   "execution_count": 149,
   "metadata": {},
   "outputs": [],
   "source": [
    "cen_sy = 2009\n",
    "cen_ly = 2028"
   ]
  },
  {
   "cell_type": "code",
   "execution_count": 150,
   "metadata": {},
   "outputs": [],
   "source": [
    "cen_SPP585 = dfMB_hist_ssp585_cl_3y_perc[(dfMB_hist_ssp585_cl_3y_perc.index.year>=cen_sy) & \\\n",
    "                                        (dfMB_hist_ssp585_cl_3y_perc.index.year<=cen_ly)]#.values.flatten()\n",
    "\n",
    "cen_SPP370 = dfMB_hist_ssp370_cl_3y_perc[(dfMB_hist_ssp370_cl_3y_perc.index.year>=cen_sy) & \\\n",
    "                                        (dfMB_hist_ssp370_cl_3y_perc.index.year<=cen_ly)]#.values.flatten()\n",
    "\n",
    "cen_SPP245 = dfMB_hist_ssp245_cl_3y_perc[(dfMB_hist_ssp245_cl_3y_perc.index.year>=cen_sy) & \\\n",
    "                                        (dfMB_hist_ssp245_cl_3y_perc.index.year<=cen_ly)]#.values.flatten()\n",
    "\n",
    "cen_SPP126 = dfMB_hist_ssp126_cl_3y_perc[(dfMB_hist_ssp126_cl_3y_perc.index.year>=cen_sy) & \\\n",
    "                                        (dfMB_hist_ssp126_cl_3y_perc.index.year<=cen_ly)]#.values.flatten()"
   ]
  },
  {
   "cell_type": "code",
   "execution_count": 151,
   "metadata": {},
   "outputs": [],
   "source": [
    "df_cen = pd.DataFrame.from_dict({'SSP5.85':cen_SPP585.values.flatten(), \n",
    "                      'SSP3.70':cen_SPP370.values.flatten(),\n",
    "                      'SSP2.45':cen_SPP245.values.flatten(),\n",
    "                      'SSP1.26':cen_SPP126.values.flatten()}, orient='index').transpose()"
   ]
  },
  {
   "cell_type": "code",
   "execution_count": 152,
   "metadata": {},
   "outputs": [
    {
     "name": "stdout",
     "output_type": "stream",
     "text": [
      "Number of samples that are as dry or drier than the Tinderbox Drought\n",
      "in 2009-2028 period are as follows\n",
      "---------------------------\n",
      "For SSP5.85 scenario,  2 out of  660 samples (i.e., 20 years X 33 models)\n",
      "Giving rise to likelihood = 0.303 with RR = 5.526\n",
      "---------------------------\n",
      "For SSP3.70 scenario,  2 out of  560 samples (i.e., 20 years X 28 models)\n",
      "Giving rise to likelihood = 0.357 with RR = 6.513\n",
      "---------------------------\n",
      "For SSP2.45 scenario,  3 out of  620 samples (i.e., 20 years X 31 models)\n",
      "Giving rise to likelihood = 0.484 with RR = 8.824\n",
      "---------------------------\n",
      "For SSP1.26 scenario,  2 out of  620 samples (i.e., 20 years X 31 models)\n",
      "Giving rise to likelihood = 0.323 with RR = 5.882\n",
      "---------------------------\n",
      "-----------****************************----------------\n",
      "Using all scenarios together, there are   9 out of  2460 samples\n",
      "Pall = 0.37, Pnat = 0.05, FAR = 0.85, and RR = 6.67\n",
      "---------------------------\n"
     ]
    }
   ],
   "source": [
    "Pnat = 100*sum(piMB_btPerc_ar <= perR_MB)/len(piMB_btPerc_ar)\n",
    "# print(Pnat)\n",
    "\n",
    "n_exceed_all = []\n",
    "n_len_all = []\n",
    "\n",
    "\n",
    "\n",
    "print(\"Number of samples that are as dry or drier than the Tinderbox Drought\")\n",
    "print(\"in {0:4d}-{1:4d} period are as follows\".format(cen_sy, cen_ly))\n",
    "print(\"---------------------------\")\n",
    "\n",
    "for ssp in df_cen.columns:\n",
    "    tmp = df_cen[ssp]\n",
    "    \n",
    "    n_exceed = tmp[tmp <= obsDiff[0]].dropna(how='all').count()\n",
    "    \n",
    "    n_exceed_all.append(n_exceed)\n",
    "    \n",
    "    n_len = len(tmp.dropna())\n",
    "    n_len_all.append(n_len)\n",
    "    \n",
    "    p_exceed = 100 * n_exceed / n_len\n",
    "    \n",
    "    RR_ssp = p_exceed / Pnat\n",
    "    \n",
    "    \n",
    "    \n",
    "    print(\"For {0} scenario, {1:2d} out of {2:4d} samples (i.e., 20 years X {3:2d} models)\".format(ssp, \n",
    "                                                                                n_exceed, n_len, int(n_len/20)))\n",
    "    print(\"Giving rise to likelihood = {0:.3f} with RR = {1:.3f}\".format(p_exceed, RR_ssp))\n",
    "    print(\"---------------------------\")\n",
    "    \n",
    "print(\"-----------****************************----------------\")\n",
    "print(\"Using all scenarios together, there are {0:3d} out of {1:5d} samples\".format(np.sum(n_exceed_all), np.sum(n_len_all)))\n",
    "Pall = 100 * np.sum(n_exceed_all) / np.sum(n_len_all)\n",
    "# print(Pall)    \n",
    "FAR = 1 - Pnat/Pall\n",
    "RR = Pall / Pnat\n",
    "\n",
    "print(\"Pall = {0:.2f}, Pnat = {1:.2f}, FAR = {2:.2f}, and RR = {3:.2f}\".format(Pall, Pnat, FAR, RR))\n",
    "print(\"---------------------------\")"
   ]
  },
  {
   "cell_type": "code",
   "execution_count": 153,
   "metadata": {},
   "outputs": [
    {
     "data": {
      "text/plain": [
       "(660,)"
      ]
     },
     "execution_count": 153,
     "metadata": {},
     "output_type": "execute_result"
    }
   ],
   "source": [
    "tmp.shape"
   ]
  },
  {
   "cell_type": "code",
   "execution_count": 154,
   "metadata": {},
   "outputs": [
    {
     "data": {
      "text/plain": [
       "9"
      ]
     },
     "execution_count": 154,
     "metadata": {},
     "output_type": "execute_result"
    }
   ],
   "source": [
    "np.sum(n_exceed_all)"
   ]
  },
  {
   "cell_type": "code",
   "execution_count": 155,
   "metadata": {},
   "outputs": [
    {
     "data": {
      "text/plain": [
       "[660, 560, 620, 620]"
      ]
     },
     "execution_count": 155,
     "metadata": {},
     "output_type": "execute_result"
    }
   ],
   "source": [
    "n_len_all"
   ]
  },
  {
   "cell_type": "code",
   "execution_count": 156,
   "metadata": {},
   "outputs": [
    {
     "data": {
      "text/plain": [
       "2460"
      ]
     },
     "execution_count": 156,
     "metadata": {},
     "output_type": "execute_result"
    }
   ],
   "source": [
    "np.sum(n_len_all)"
   ]
  },
  {
   "cell_type": "code",
   "execution_count": 157,
   "metadata": {},
   "outputs": [
    {
     "data": {
      "text/plain": [
       "0.36585365853658536"
      ]
     },
     "execution_count": 157,
     "metadata": {},
     "output_type": "execute_result"
    }
   ],
   "source": [
    "100 * np.sum(n_exceed_all) / np.sum(n_len_all)"
   ]
  },
  {
   "cell_type": "code",
   "execution_count": 158,
   "metadata": {},
   "outputs": [
    {
     "data": {
      "text/plain": [
       "660"
      ]
     },
     "execution_count": 158,
     "metadata": {},
     "output_type": "execute_result"
    }
   ],
   "source": [
    "len(tmp)"
   ]
  },
  {
   "cell_type": "code",
   "execution_count": 159,
   "metadata": {},
   "outputs": [
    {
     "name": "stdout",
     "output_type": "stream",
     "text": [
      "0.054838709677419356\n"
     ]
    }
   ],
   "source": [
    "Pnat = 100*sum(piMB_btPerc_ar <= perR_MB)/len(piMB_btPerc_ar)\n",
    "print(Pnat)"
   ]
  },
  {
   "cell_type": "code",
   "execution_count": 160,
   "metadata": {},
   "outputs": [
    {
     "name": "stdout",
     "output_type": "stream",
     "text": [
      "0.36585365853658536\n"
     ]
    }
   ],
   "source": [
    "Pall = 100 * np.sum(n_exceed_all) / np.sum(n_len_all)\n",
    "print(Pall)"
   ]
  },
  {
   "cell_type": "code",
   "execution_count": 161,
   "metadata": {},
   "outputs": [
    {
     "name": "stdout",
     "output_type": "stream",
     "text": [
      "FAR = 0.850, and RR = 6.671\n"
     ]
    }
   ],
   "source": [
    "FAR = 1 - Pnat/Pall\n",
    "RR = Pall / Pnat\n",
    "\n",
    "print(\"FAR = {0:.3f}, and RR = {1:.3f}\".format(FAR, RR))"
   ]
  },
  {
   "cell_type": "code",
   "execution_count": 162,
   "metadata": {},
   "outputs": [
    {
     "data": {
      "text/plain": [
       "0.8501075268817204"
      ]
     },
     "execution_count": 162,
     "metadata": {},
     "output_type": "execute_result"
    }
   ],
   "source": [
    "FAR"
   ]
  },
  {
   "cell_type": "code",
   "execution_count": 163,
   "metadata": {},
   "outputs": [
    {
     "data": {
      "text/plain": [
       "9"
      ]
     },
     "execution_count": 163,
     "metadata": {},
     "output_type": "execute_result"
    }
   ],
   "source": [
    "df_cen[df_cen <= obsDiff[0]].dropna(how='all').dropna(axis=1, how='all').count().sum()"
   ]
  },
  {
   "cell_type": "code",
   "execution_count": 164,
   "metadata": {},
   "outputs": [
    {
     "data": {
      "text/plain": [
       "2460"
      ]
     },
     "execution_count": 164,
     "metadata": {},
     "output_type": "execute_result"
    }
   ],
   "source": [
    "df_cen.count().sum()"
   ]
  },
  {
   "cell_type": "code",
   "execution_count": 165,
   "metadata": {},
   "outputs": [
    {
     "data": {
      "text/plain": [
       "123.0"
      ]
     },
     "execution_count": 165,
     "metadata": {},
     "output_type": "execute_result"
    }
   ],
   "source": [
    "2460/20"
   ]
  },
  {
   "cell_type": "code",
   "execution_count": 166,
   "metadata": {},
   "outputs": [
    {
     "data": {
      "text/plain": [
       "0.36585365853658536"
      ]
     },
     "execution_count": 166,
     "metadata": {},
     "output_type": "execute_result"
    }
   ],
   "source": [
    "100*df_cen[df_cen <= obsDiff[0]].dropna(how='all').dropna(axis=1, how='all').count().sum()/df_cen.count().sum()"
   ]
  },
  {
   "cell_type": "code",
   "execution_count": 167,
   "metadata": {},
   "outputs": [],
   "source": [
    "\n",
    "\n",
    "# This is all"
   ]
  },
  {
   "cell_type": "code",
   "execution_count": null,
   "metadata": {},
   "outputs": [],
   "source": []
  },
  {
   "cell_type": "code",
   "execution_count": 110,
   "metadata": {},
   "outputs": [],
   "source": [
    "Hlen = len(stat_table_perc['mod585Diff'])\n",
    "M1len = len(stat_table_perc['mod370Diff'])\n",
    "M2len = len(stat_table_perc['mod245Diff'])\n",
    "Llen = len(stat_table_perc['mod126Diff'])"
   ]
  },
  {
   "cell_type": "code",
   "execution_count": 111,
   "metadata": {},
   "outputs": [
    {
     "name": "stdout",
     "output_type": "stream",
     "text": [
      "33 28 31 31\n"
     ]
    }
   ],
   "source": [
    "print(Hlen, M1len, M2len, Llen)"
   ]
  },
  {
   "cell_type": "code",
   "execution_count": 112,
   "metadata": {},
   "outputs": [],
   "source": [
    "Tlen = Hlen + M1len + M2len + Llen"
   ]
  },
  {
   "cell_type": "code",
   "execution_count": 113,
   "metadata": {},
   "outputs": [
    {
     "data": {
      "text/plain": [
       "123"
      ]
     },
     "execution_count": 113,
     "metadata": {},
     "output_type": "execute_result"
    }
   ],
   "source": [
    "Tlen"
   ]
  },
  {
   "cell_type": "code",
   "execution_count": 114,
   "metadata": {},
   "outputs": [],
   "source": [
    "Hlen_wt, M1len_wt, M2len_wt, Llen_wt = Hlen/Tlen, M1len/Tlen, M2len/Tlen, Llen/Tlen"
   ]
  },
  {
   "cell_type": "code",
   "execution_count": 115,
   "metadata": {},
   "outputs": [
    {
     "name": "stdout",
     "output_type": "stream",
     "text": [
      "0.2682926829268293 0.22764227642276422 0.25203252032520324 0.25203252032520324\n"
     ]
    }
   ],
   "source": [
    "print(Hlen_wt, M1len_wt, M2len_wt, Llen_wt)"
   ]
  },
  {
   "cell_type": "code",
   "execution_count": null,
   "metadata": {},
   "outputs": [],
   "source": []
  },
  {
   "cell_type": "code",
   "execution_count": 116,
   "metadata": {},
   "outputs": [
    {
     "name": "stdout",
     "output_type": "stream",
     "text": [
      "------------------------------------------------------------ ----------------\n",
      "------\n",
      " Observed Change = -54.67%\n",
      " The change for SSP5-8.5 at Q2, (Q1 and Q3) are = -8.43% (-16.53%, 7.66%)\n",
      " The change for SSP3-7.0 at Q2, (Q1 and Q3) are = -15.96% (-19.43%, 8.11%)\n",
      " The change for SSP2-4.5 at Q2, (Q1 and Q3) are = -7.98% (-16.80%, 3.50%)\n",
      " The change for SSP1-2.6 at Q2, (Q1 and Q3) are = -8.53% (-23.70%, 9.72%)\n",
      " The weighted mean at Q2, (Q1 and Q3) are = -10.05% (-19.06%, 7.23%)\n",
      " The relative contribution using Q2, (Q1 and Q3) are = 18.39% (34.87%, -13.23%)\n",
      "------------------------------------------------------------ ----------------\n"
     ]
    }
   ],
   "source": [
    "obs_ch = stat_table_perc['obsDiff']\n",
    "Q1H, Q2H, Q3H = np.quantile(stat_table_perc['mod585Diff'], q = [0.25, 0.5, 0.75])\n",
    "Q1M1, Q2M1, Q3M1 = np.quantile(stat_table_perc['mod370Diff'], q = [0.25, 0.5, 0.75])\n",
    "Q1M2, Q2M2, Q3M2 = np.quantile(stat_table_perc['mod245Diff'], q = [0.25, 0.5, 0.75])\n",
    "Q1L, Q2L, Q3L = np.quantile(stat_table_perc['mod126Diff'], q = [0.25, 0.5, 0.75])\n",
    "\n",
    "# Compute the weithed mean\n",
    "Q1_wt = Hlen_wt*Q1H + M1len_wt*Q1M1 + M2len_wt*Q1M2 + Llen_wt*Q1L\n",
    "Q2_wt = Hlen_wt*Q2H + M1len_wt*Q2M1 + M2len_wt*Q2M2 + Llen_wt*Q2L\n",
    "Q3_wt = Hlen_wt*Q3H + M1len_wt*Q3M1 + M2len_wt*Q3M2 + Llen_wt*Q3L\n",
    "\n",
    "# Comute the % contribution from external forcing\n",
    "CQ1 = 100*Q1_wt/obs_ch[0]\n",
    "CQ2 = 100*Q2_wt/obs_ch[0]\n",
    "CQ3 = 100*Q3_wt/obs_ch[0]\n",
    "\n",
    "print(\"------------------------------------------------------------ ----------------\")\n",
    "\n",
    "print(\"------\")\n",
    "print(\" Observed Change = {0:0.2f}%\".format(obs_ch[0]))\n",
    "print(\" The change for SSP5-8.5 at Q2, (Q1 and Q3) are = {0:0.2f}% ({1:0.2f}%, {2:0.2f}%)\".format(Q2H, Q1H, Q3H))\n",
    "print(\" The change for SSP3-7.0 at Q2, (Q1 and Q3) are = {0:0.2f}% ({1:0.2f}%, {2:0.2f}%)\".format(Q2M1, Q1M1, Q3M1))\n",
    "print(\" The change for SSP2-4.5 at Q2, (Q1 and Q3) are = {0:0.2f}% ({1:0.2f}%, {2:0.2f}%)\".format(Q2M2, Q1M2, Q3M2))\n",
    "print(\" The change for SSP1-2.6 at Q2, (Q1 and Q3) are = {0:0.2f}% ({1:0.2f}%, {2:0.2f}%)\".format(Q2L, Q1L, Q3L))\n",
    "\n",
    "print(\" The weighted mean at Q2, (Q1 and Q3) are = {0:0.2f}% ({1:0.2f}%, {2:0.2f}%)\".format(Q2_wt, Q1_wt, Q3_wt))\n",
    "\n",
    "print(\" The relative contribution using Q2, (Q1 and Q3) are = {0:0.2f}% ({1:0.2f}%, {2:0.2f}%)\".format(CQ2, CQ1, CQ3))\n",
    "print(\"------------------------------------------------------------ ----------------\")"
   ]
  },
  {
   "cell_type": "code",
   "execution_count": 117,
   "metadata": {},
   "outputs": [
    {
     "name": "stdout",
     "output_type": "stream",
     "text": [
      "Probability (%) due to adjusted internal variability\n",
      "Probability of rainfall change equal to or less than \n",
      "the modelled internal variability over drought region\n",
      "**********************\n",
      "Using perR = 0.59%\n",
      "**********\n"
     ]
    }
   ],
   "source": [
    "print(\"Probability (%) due to adjusted internal variability\")\n",
    "print(\"Probability of rainfall change equal to or less than \\nthe modelled internal variability over drought region\")\n",
    "print(\"**********************\")\n",
    "\n",
    "probInt_perR_MB_adj = 100*sum(piMB_btPerc_ar + Q2_wt <= perR_MB)/len(piMB_btPerc_ar)\n",
    "print(\"Using perR = {0:.2f}%\".format(probInt_perR_MB_adj))\n",
    "print(\"**********\")\n"
   ]
  },
  {
   "cell_type": "code",
   "execution_count": null,
   "metadata": {},
   "outputs": [],
   "source": []
  },
  {
   "cell_type": "code",
   "execution_count": 118,
   "metadata": {},
   "outputs": [
    {
     "data": {
      "text/plain": [
       "MPI-ESM1-2-LR   -53.539762\n",
       "MPI-ESM1-2-HR   -43.155424\n",
       "CAS-ESM2-0      -27.482154\n",
       "TaiESM1         -25.629746\n",
       "Name: mu, dtype: float64"
      ]
     },
     "execution_count": 118,
     "metadata": {},
     "output_type": "execute_result"
    }
   ],
   "source": [
    "stat_table_perc['mod585Diff'].sort_values()[0:4]"
   ]
  },
  {
   "cell_type": "code",
   "execution_count": 119,
   "metadata": {},
   "outputs": [
    {
     "data": {
      "text/plain": [
       "IPSL-CM5A2-INCA   -32.915952\n",
       "ACCESS-ESM1-5     -29.672163\n",
       "INM-CM5-0         -29.437140\n",
       "CanESM5           -20.888786\n",
       "Name: mu, dtype: float64"
      ]
     },
     "execution_count": 119,
     "metadata": {},
     "output_type": "execute_result"
    }
   ],
   "source": [
    "stat_table_perc['mod370Diff'].sort_values()[0:4]"
   ]
  },
  {
   "cell_type": "code",
   "execution_count": 120,
   "metadata": {},
   "outputs": [
    {
     "data": {
      "text/plain": [
       "CIESM              -51.805043\n",
       "AWI-CM-1-1-MR      -40.301900\n",
       "EC-Earth3-Veg      -38.204313\n",
       "EC-Earth3-Veg-LR   -26.644514\n",
       "Name: mu, dtype: float64"
      ]
     },
     "execution_count": 120,
     "metadata": {},
     "output_type": "execute_result"
    }
   ],
   "source": [
    "stat_table_perc['mod245Diff'].sort_values()[0:4]"
   ]
  },
  {
   "cell_type": "code",
   "execution_count": 121,
   "metadata": {},
   "outputs": [
    {
     "data": {
      "text/plain": [
       "MPI-ESM1-2-LR   -52.641040\n",
       "CMCC-ESM2       -45.269502\n",
       "NorESM2-LM      -40.758697\n",
       "FIO-ESM-2-0     -36.514395\n",
       "Name: mu, dtype: float64"
      ]
     },
     "execution_count": 121,
     "metadata": {},
     "output_type": "execute_result"
    }
   ],
   "source": [
    "stat_table_perc['mod126Diff'].sort_values()[0:4]"
   ]
  },
  {
   "cell_type": "code",
   "execution_count": null,
   "metadata": {},
   "outputs": [],
   "source": []
  },
  {
   "cell_type": "code",
   "execution_count": 122,
   "metadata": {},
   "outputs": [
    {
     "name": "stdout",
     "output_type": "stream",
     "text": [
      "Probability (%) due to adjusted internal variability\n",
      "Probability of rainfall change equal to or less than \n",
      "the modelled internal variability over drought regionm\n",
      "**********************\n",
      "Using perR = 0.39%\n",
      "**********\n"
     ]
    }
   ],
   "source": [
    "print(\"Probability (%) due to adjusted internal variability\")\n",
    "print(\"Probability of rainfall change equal to or less than \\nthe modelled internal variability over drought regionm\")\n",
    "print(\"**********************\")\n",
    "\n",
    "probX_perR_MB_adj = 100*sum(awapMB_btPerc.values.flatten()+ Q2_wt <= perR_MB)/len(awapMB_btDiff.values)\n",
    "print(\"Using perR = {0:.2f}%\".format(probX_perR_MB_adj))\n",
    "print(\"**********\")\n"
   ]
  },
  {
   "cell_type": "code",
   "execution_count": 123,
   "metadata": {},
   "outputs": [
    {
     "data": {
      "text/plain": [
       "0.054838709677419356"
      ]
     },
     "execution_count": 123,
     "metadata": {},
     "output_type": "execute_result"
    }
   ],
   "source": [
    "probInt_perR_MB"
   ]
  },
  {
   "cell_type": "code",
   "execution_count": null,
   "metadata": {},
   "outputs": [],
   "source": []
  },
  {
   "cell_type": "code",
   "execution_count": 124,
   "metadata": {},
   "outputs": [
    {
     "data": {
      "text/plain": [
       "19.5"
      ]
     },
     "execution_count": 124,
     "metadata": {},
     "output_type": "execute_result"
    }
   ],
   "source": [
    "probX_perR_MB_adj / prob_perR_MB"
   ]
  },
  {
   "cell_type": "code",
   "execution_count": 125,
   "metadata": {},
   "outputs": [
    {
     "data": {
      "text/plain": [
       "7.111764705882353"
      ]
     },
     "execution_count": 125,
     "metadata": {},
     "output_type": "execute_result"
    }
   ],
   "source": [
    "probX_perR_MB_adj / probInt_perR_MB"
   ]
  },
  {
   "cell_type": "code",
   "execution_count": 126,
   "metadata": {},
   "outputs": [
    {
     "name": "stdout",
     "output_type": "stream",
     "text": [
      "10.76470588235294\n"
     ]
    }
   ],
   "source": [
    "RR = probInt_perR_MB_adj / probInt_perR_MB\n",
    "print(RR)"
   ]
  },
  {
   "cell_type": "code",
   "execution_count": null,
   "metadata": {},
   "outputs": [],
   "source": []
  },
  {
   "cell_type": "code",
   "execution_count": null,
   "metadata": {},
   "outputs": [],
   "source": []
  },
  {
   "cell_type": "code",
   "execution_count": null,
   "metadata": {},
   "outputs": [],
   "source": []
  }
 ],
 "metadata": {
  "kernelspec": {
   "display_name": "Python 3",
   "language": "python",
   "name": "python3"
  },
  "language_info": {
   "codemirror_mode": {
    "name": "ipython",
    "version": 3
   },
   "file_extension": ".py",
   "mimetype": "text/x-python",
   "name": "python",
   "nbconvert_exporter": "python",
   "pygments_lexer": "ipython3",
   "version": "3.9.4"
  }
 },
 "nbformat": 4,
 "nbformat_minor": 2
}
